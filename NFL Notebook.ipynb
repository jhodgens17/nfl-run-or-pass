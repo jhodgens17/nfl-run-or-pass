{
 "cells": [
  {
   "cell_type": "markdown",
   "metadata": {},
   "source": [
    "### Import packages and data"
   ]
  },
  {
   "cell_type": "code",
   "execution_count": 1,
   "metadata": {},
   "outputs": [],
   "source": [
    "import pandas as pd\n",
    "import numpy as np\n",
    "import math\n",
    "\n",
    "import matplotlib.pyplot as plt\n",
    "import seaborn as sns\n",
    "%matplotlib inline\n",
    "\n",
    "from sklearn.preprocessing import OneHotEncoder, StandardScaler\n",
    "\n",
    "from sklearn.impute import MissingIndicator, SimpleImputer\n",
    "\n",
    "from sklearn.dummy import DummyClassifier\n",
    "from sklearn.linear_model import LogisticRegression\n",
    "\n",
    "from sklearn.model_selection import train_test_split, cross_val_score\n",
    "from sklearn.feature_selection import SelectFromModel\n",
    "\n",
    "from sklearn.metrics import plot_confusion_matrix\n",
    "from sklearn.metrics import confusion_matrix\n",
    "from sklearn.metrics import plot_roc_curve"
   ]
  },
  {
   "cell_type": "code",
   "execution_count": 113,
   "metadata": {},
   "outputs": [],
   "source": [
    "import warnings\n",
    "warnings.filterwarnings(action='once')"
   ]
  },
  {
   "cell_type": "code",
   "execution_count": 77,
   "metadata": {
    "scrolled": true
   },
   "outputs": [
    {
     "name": "stderr",
     "output_type": "stream",
     "text": [
      "/Users/jameshodgens/opt/anaconda3/envs/learn-env/lib/python3.8/site-packages/IPython/core/interactiveshell.py:3145: DtypeWarning: Columns (42,166,167,168,169,174,175,178,179,182,183,188,189,190,191,194,195,203,204,205,218,219,220,231,232,233,238,240,241,249) have mixed types.Specify dtype option on import or set low_memory=False.\n",
      "  has_raised = await self.run_ast_nodes(code_ast.body, cell_name,\n"
     ]
    }
   ],
   "source": [
    "nfl_df = pd.read_csv('NFL_Play_by_Play_2009-2018_(v5).csv')"
   ]
  },
  {
   "cell_type": "markdown",
   "metadata": {},
   "source": [
    "### Exploratory data analysis"
   ]
  },
  {
   "cell_type": "code",
   "execution_count": 4,
   "metadata": {
    "scrolled": true
   },
   "outputs": [
    {
     "data": {
      "text/html": [
       "<div>\n",
       "<style scoped>\n",
       "    .dataframe tbody tr th:only-of-type {\n",
       "        vertical-align: middle;\n",
       "    }\n",
       "\n",
       "    .dataframe tbody tr th {\n",
       "        vertical-align: top;\n",
       "    }\n",
       "\n",
       "    .dataframe thead th {\n",
       "        text-align: right;\n",
       "    }\n",
       "</style>\n",
       "<table border=\"1\" class=\"dataframe\">\n",
       "  <thead>\n",
       "    <tr style=\"text-align: right;\">\n",
       "      <th></th>\n",
       "      <th>play_id</th>\n",
       "      <th>game_id</th>\n",
       "      <th>home_team</th>\n",
       "      <th>away_team</th>\n",
       "      <th>posteam</th>\n",
       "      <th>posteam_type</th>\n",
       "      <th>defteam</th>\n",
       "      <th>side_of_field</th>\n",
       "      <th>yardline_100</th>\n",
       "      <th>game_date</th>\n",
       "      <th>...</th>\n",
       "      <th>penalty_player_id</th>\n",
       "      <th>penalty_player_name</th>\n",
       "      <th>penalty_yards</th>\n",
       "      <th>replay_or_challenge</th>\n",
       "      <th>replay_or_challenge_result</th>\n",
       "      <th>penalty_type</th>\n",
       "      <th>defensive_two_point_attempt</th>\n",
       "      <th>defensive_two_point_conv</th>\n",
       "      <th>defensive_extra_point_attempt</th>\n",
       "      <th>defensive_extra_point_conv</th>\n",
       "    </tr>\n",
       "  </thead>\n",
       "  <tbody>\n",
       "    <tr>\n",
       "      <th>0</th>\n",
       "      <td>46</td>\n",
       "      <td>2009091000</td>\n",
       "      <td>PIT</td>\n",
       "      <td>TEN</td>\n",
       "      <td>PIT</td>\n",
       "      <td>home</td>\n",
       "      <td>TEN</td>\n",
       "      <td>TEN</td>\n",
       "      <td>30.0</td>\n",
       "      <td>2009-09-10</td>\n",
       "      <td>...</td>\n",
       "      <td>NaN</td>\n",
       "      <td>NaN</td>\n",
       "      <td>NaN</td>\n",
       "      <td>0</td>\n",
       "      <td>NaN</td>\n",
       "      <td>NaN</td>\n",
       "      <td>0.0</td>\n",
       "      <td>0.0</td>\n",
       "      <td>0.0</td>\n",
       "      <td>0.0</td>\n",
       "    </tr>\n",
       "    <tr>\n",
       "      <th>1</th>\n",
       "      <td>68</td>\n",
       "      <td>2009091000</td>\n",
       "      <td>PIT</td>\n",
       "      <td>TEN</td>\n",
       "      <td>PIT</td>\n",
       "      <td>home</td>\n",
       "      <td>TEN</td>\n",
       "      <td>PIT</td>\n",
       "      <td>58.0</td>\n",
       "      <td>2009-09-10</td>\n",
       "      <td>...</td>\n",
       "      <td>NaN</td>\n",
       "      <td>NaN</td>\n",
       "      <td>NaN</td>\n",
       "      <td>0</td>\n",
       "      <td>NaN</td>\n",
       "      <td>NaN</td>\n",
       "      <td>0.0</td>\n",
       "      <td>0.0</td>\n",
       "      <td>0.0</td>\n",
       "      <td>0.0</td>\n",
       "    </tr>\n",
       "    <tr>\n",
       "      <th>2</th>\n",
       "      <td>92</td>\n",
       "      <td>2009091000</td>\n",
       "      <td>PIT</td>\n",
       "      <td>TEN</td>\n",
       "      <td>PIT</td>\n",
       "      <td>home</td>\n",
       "      <td>TEN</td>\n",
       "      <td>PIT</td>\n",
       "      <td>53.0</td>\n",
       "      <td>2009-09-10</td>\n",
       "      <td>...</td>\n",
       "      <td>NaN</td>\n",
       "      <td>NaN</td>\n",
       "      <td>NaN</td>\n",
       "      <td>0</td>\n",
       "      <td>NaN</td>\n",
       "      <td>NaN</td>\n",
       "      <td>0.0</td>\n",
       "      <td>0.0</td>\n",
       "      <td>0.0</td>\n",
       "      <td>0.0</td>\n",
       "    </tr>\n",
       "    <tr>\n",
       "      <th>3</th>\n",
       "      <td>113</td>\n",
       "      <td>2009091000</td>\n",
       "      <td>PIT</td>\n",
       "      <td>TEN</td>\n",
       "      <td>PIT</td>\n",
       "      <td>home</td>\n",
       "      <td>TEN</td>\n",
       "      <td>PIT</td>\n",
       "      <td>56.0</td>\n",
       "      <td>2009-09-10</td>\n",
       "      <td>...</td>\n",
       "      <td>NaN</td>\n",
       "      <td>NaN</td>\n",
       "      <td>NaN</td>\n",
       "      <td>0</td>\n",
       "      <td>NaN</td>\n",
       "      <td>NaN</td>\n",
       "      <td>0.0</td>\n",
       "      <td>0.0</td>\n",
       "      <td>0.0</td>\n",
       "      <td>0.0</td>\n",
       "    </tr>\n",
       "    <tr>\n",
       "      <th>4</th>\n",
       "      <td>139</td>\n",
       "      <td>2009091000</td>\n",
       "      <td>PIT</td>\n",
       "      <td>TEN</td>\n",
       "      <td>PIT</td>\n",
       "      <td>home</td>\n",
       "      <td>TEN</td>\n",
       "      <td>PIT</td>\n",
       "      <td>56.0</td>\n",
       "      <td>2009-09-10</td>\n",
       "      <td>...</td>\n",
       "      <td>NaN</td>\n",
       "      <td>NaN</td>\n",
       "      <td>NaN</td>\n",
       "      <td>0</td>\n",
       "      <td>NaN</td>\n",
       "      <td>NaN</td>\n",
       "      <td>0.0</td>\n",
       "      <td>0.0</td>\n",
       "      <td>0.0</td>\n",
       "      <td>0.0</td>\n",
       "    </tr>\n",
       "  </tbody>\n",
       "</table>\n",
       "<p>5 rows × 255 columns</p>\n",
       "</div>"
      ],
      "text/plain": [
       "   play_id     game_id home_team away_team posteam posteam_type defteam  \\\n",
       "0       46  2009091000       PIT       TEN     PIT         home     TEN   \n",
       "1       68  2009091000       PIT       TEN     PIT         home     TEN   \n",
       "2       92  2009091000       PIT       TEN     PIT         home     TEN   \n",
       "3      113  2009091000       PIT       TEN     PIT         home     TEN   \n",
       "4      139  2009091000       PIT       TEN     PIT         home     TEN   \n",
       "\n",
       "  side_of_field  yardline_100   game_date  ...  penalty_player_id  \\\n",
       "0           TEN          30.0  2009-09-10  ...                NaN   \n",
       "1           PIT          58.0  2009-09-10  ...                NaN   \n",
       "2           PIT          53.0  2009-09-10  ...                NaN   \n",
       "3           PIT          56.0  2009-09-10  ...                NaN   \n",
       "4           PIT          56.0  2009-09-10  ...                NaN   \n",
       "\n",
       "   penalty_player_name  penalty_yards replay_or_challenge  \\\n",
       "0                  NaN            NaN                   0   \n",
       "1                  NaN            NaN                   0   \n",
       "2                  NaN            NaN                   0   \n",
       "3                  NaN            NaN                   0   \n",
       "4                  NaN            NaN                   0   \n",
       "\n",
       "   replay_or_challenge_result  penalty_type  defensive_two_point_attempt  \\\n",
       "0                         NaN           NaN                          0.0   \n",
       "1                         NaN           NaN                          0.0   \n",
       "2                         NaN           NaN                          0.0   \n",
       "3                         NaN           NaN                          0.0   \n",
       "4                         NaN           NaN                          0.0   \n",
       "\n",
       "   defensive_two_point_conv  defensive_extra_point_attempt  \\\n",
       "0                       0.0                            0.0   \n",
       "1                       0.0                            0.0   \n",
       "2                       0.0                            0.0   \n",
       "3                       0.0                            0.0   \n",
       "4                       0.0                            0.0   \n",
       "\n",
       "   defensive_extra_point_conv  \n",
       "0                         0.0  \n",
       "1                         0.0  \n",
       "2                         0.0  \n",
       "3                         0.0  \n",
       "4                         0.0  \n",
       "\n",
       "[5 rows x 255 columns]"
      ]
     },
     "execution_count": 4,
     "metadata": {},
     "output_type": "execute_result"
    }
   ],
   "source": [
    "nfl_df.head()"
   ]
  },
  {
   "cell_type": "code",
   "execution_count": 5,
   "metadata": {},
   "outputs": [
    {
     "name": "stdout",
     "output_type": "stream",
     "text": [
      "<class 'pandas.core.frame.DataFrame'>\n",
      "RangeIndex: 449371 entries, 0 to 449370\n",
      "Columns: 255 entries, play_id to defensive_extra_point_conv\n",
      "dtypes: float64(135), int64(18), object(102)\n",
      "memory usage: 874.2+ MB\n"
     ]
    }
   ],
   "source": [
    "nfl_df.info()"
   ]
  },
  {
   "cell_type": "code",
   "execution_count": 6,
   "metadata": {},
   "outputs": [
    {
     "data": {
      "text/plain": [
       "['play_id',\n",
       " 'game_id',\n",
       " 'home_team',\n",
       " 'away_team',\n",
       " 'posteam',\n",
       " 'posteam_type',\n",
       " 'defteam',\n",
       " 'side_of_field',\n",
       " 'yardline_100',\n",
       " 'game_date',\n",
       " 'quarter_seconds_remaining',\n",
       " 'half_seconds_remaining',\n",
       " 'game_seconds_remaining',\n",
       " 'game_half',\n",
       " 'quarter_end',\n",
       " 'drive',\n",
       " 'sp',\n",
       " 'qtr',\n",
       " 'down',\n",
       " 'goal_to_go',\n",
       " 'time',\n",
       " 'yrdln',\n",
       " 'ydstogo',\n",
       " 'ydsnet',\n",
       " 'desc',\n",
       " 'play_type',\n",
       " 'yards_gained',\n",
       " 'shotgun',\n",
       " 'no_huddle',\n",
       " 'qb_dropback',\n",
       " 'qb_kneel',\n",
       " 'qb_spike',\n",
       " 'qb_scramble',\n",
       " 'pass_length',\n",
       " 'pass_location',\n",
       " 'air_yards',\n",
       " 'yards_after_catch',\n",
       " 'run_location',\n",
       " 'run_gap',\n",
       " 'field_goal_result',\n",
       " 'kick_distance',\n",
       " 'extra_point_result',\n",
       " 'two_point_conv_result',\n",
       " 'home_timeouts_remaining',\n",
       " 'away_timeouts_remaining',\n",
       " 'timeout',\n",
       " 'timeout_team',\n",
       " 'td_team',\n",
       " 'posteam_timeouts_remaining',\n",
       " 'defteam_timeouts_remaining',\n",
       " 'total_home_score',\n",
       " 'total_away_score',\n",
       " 'posteam_score',\n",
       " 'defteam_score',\n",
       " 'score_differential',\n",
       " 'posteam_score_post',\n",
       " 'defteam_score_post',\n",
       " 'score_differential_post',\n",
       " 'no_score_prob',\n",
       " 'opp_fg_prob',\n",
       " 'opp_safety_prob',\n",
       " 'opp_td_prob',\n",
       " 'fg_prob',\n",
       " 'safety_prob',\n",
       " 'td_prob',\n",
       " 'extra_point_prob',\n",
       " 'two_point_conversion_prob',\n",
       " 'ep',\n",
       " 'epa',\n",
       " 'total_home_epa',\n",
       " 'total_away_epa',\n",
       " 'total_home_rush_epa',\n",
       " 'total_away_rush_epa',\n",
       " 'total_home_pass_epa',\n",
       " 'total_away_pass_epa',\n",
       " 'air_epa',\n",
       " 'yac_epa',\n",
       " 'comp_air_epa',\n",
       " 'comp_yac_epa',\n",
       " 'total_home_comp_air_epa',\n",
       " 'total_away_comp_air_epa',\n",
       " 'total_home_comp_yac_epa',\n",
       " 'total_away_comp_yac_epa',\n",
       " 'total_home_raw_air_epa',\n",
       " 'total_away_raw_air_epa',\n",
       " 'total_home_raw_yac_epa',\n",
       " 'total_away_raw_yac_epa',\n",
       " 'wp',\n",
       " 'def_wp',\n",
       " 'home_wp',\n",
       " 'away_wp',\n",
       " 'wpa',\n",
       " 'home_wp_post',\n",
       " 'away_wp_post',\n",
       " 'total_home_rush_wpa',\n",
       " 'total_away_rush_wpa',\n",
       " 'total_home_pass_wpa',\n",
       " 'total_away_pass_wpa',\n",
       " 'air_wpa',\n",
       " 'yac_wpa',\n",
       " 'comp_air_wpa',\n",
       " 'comp_yac_wpa',\n",
       " 'total_home_comp_air_wpa',\n",
       " 'total_away_comp_air_wpa',\n",
       " 'total_home_comp_yac_wpa',\n",
       " 'total_away_comp_yac_wpa',\n",
       " 'total_home_raw_air_wpa',\n",
       " 'total_away_raw_air_wpa',\n",
       " 'total_home_raw_yac_wpa',\n",
       " 'total_away_raw_yac_wpa',\n",
       " 'punt_blocked',\n",
       " 'first_down_rush',\n",
       " 'first_down_pass',\n",
       " 'first_down_penalty',\n",
       " 'third_down_converted',\n",
       " 'third_down_failed',\n",
       " 'fourth_down_converted',\n",
       " 'fourth_down_failed',\n",
       " 'incomplete_pass',\n",
       " 'interception',\n",
       " 'punt_inside_twenty',\n",
       " 'punt_in_endzone',\n",
       " 'punt_out_of_bounds',\n",
       " 'punt_downed',\n",
       " 'punt_fair_catch',\n",
       " 'kickoff_inside_twenty',\n",
       " 'kickoff_in_endzone',\n",
       " 'kickoff_out_of_bounds',\n",
       " 'kickoff_downed',\n",
       " 'kickoff_fair_catch',\n",
       " 'fumble_forced',\n",
       " 'fumble_not_forced',\n",
       " 'fumble_out_of_bounds',\n",
       " 'solo_tackle',\n",
       " 'safety',\n",
       " 'penalty',\n",
       " 'tackled_for_loss',\n",
       " 'fumble_lost',\n",
       " 'own_kickoff_recovery',\n",
       " 'own_kickoff_recovery_td',\n",
       " 'qb_hit',\n",
       " 'rush_attempt',\n",
       " 'pass_attempt',\n",
       " 'sack',\n",
       " 'touchdown',\n",
       " 'pass_touchdown',\n",
       " 'rush_touchdown',\n",
       " 'return_touchdown',\n",
       " 'extra_point_attempt',\n",
       " 'two_point_attempt',\n",
       " 'field_goal_attempt',\n",
       " 'kickoff_attempt',\n",
       " 'punt_attempt',\n",
       " 'fumble',\n",
       " 'complete_pass',\n",
       " 'assist_tackle',\n",
       " 'lateral_reception',\n",
       " 'lateral_rush',\n",
       " 'lateral_return',\n",
       " 'lateral_recovery',\n",
       " 'passer_player_id',\n",
       " 'passer_player_name',\n",
       " 'receiver_player_id',\n",
       " 'receiver_player_name',\n",
       " 'rusher_player_id',\n",
       " 'rusher_player_name',\n",
       " 'lateral_receiver_player_id',\n",
       " 'lateral_receiver_player_name',\n",
       " 'lateral_rusher_player_id',\n",
       " 'lateral_rusher_player_name',\n",
       " 'lateral_sack_player_id',\n",
       " 'lateral_sack_player_name',\n",
       " 'interception_player_id',\n",
       " 'interception_player_name',\n",
       " 'lateral_interception_player_id',\n",
       " 'lateral_interception_player_name',\n",
       " 'punt_returner_player_id',\n",
       " 'punt_returner_player_name',\n",
       " 'lateral_punt_returner_player_id',\n",
       " 'lateral_punt_returner_player_name',\n",
       " 'kickoff_returner_player_name',\n",
       " 'kickoff_returner_player_id',\n",
       " 'lateral_kickoff_returner_player_id',\n",
       " 'lateral_kickoff_returner_player_name',\n",
       " 'punter_player_id',\n",
       " 'punter_player_name',\n",
       " 'kicker_player_name',\n",
       " 'kicker_player_id',\n",
       " 'own_kickoff_recovery_player_id',\n",
       " 'own_kickoff_recovery_player_name',\n",
       " 'blocked_player_id',\n",
       " 'blocked_player_name',\n",
       " 'tackle_for_loss_1_player_id',\n",
       " 'tackle_for_loss_1_player_name',\n",
       " 'tackle_for_loss_2_player_id',\n",
       " 'tackle_for_loss_2_player_name',\n",
       " 'qb_hit_1_player_id',\n",
       " 'qb_hit_1_player_name',\n",
       " 'qb_hit_2_player_id',\n",
       " 'qb_hit_2_player_name',\n",
       " 'forced_fumble_player_1_team',\n",
       " 'forced_fumble_player_1_player_id',\n",
       " 'forced_fumble_player_1_player_name',\n",
       " 'forced_fumble_player_2_team',\n",
       " 'forced_fumble_player_2_player_id',\n",
       " 'forced_fumble_player_2_player_name',\n",
       " 'solo_tackle_1_team',\n",
       " 'solo_tackle_2_team',\n",
       " 'solo_tackle_1_player_id',\n",
       " 'solo_tackle_2_player_id',\n",
       " 'solo_tackle_1_player_name',\n",
       " 'solo_tackle_2_player_name',\n",
       " 'assist_tackle_1_player_id',\n",
       " 'assist_tackle_1_player_name',\n",
       " 'assist_tackle_1_team',\n",
       " 'assist_tackle_2_player_id',\n",
       " 'assist_tackle_2_player_name',\n",
       " 'assist_tackle_2_team',\n",
       " 'assist_tackle_3_player_id',\n",
       " 'assist_tackle_3_player_name',\n",
       " 'assist_tackle_3_team',\n",
       " 'assist_tackle_4_player_id',\n",
       " 'assist_tackle_4_player_name',\n",
       " 'assist_tackle_4_team',\n",
       " 'pass_defense_1_player_id',\n",
       " 'pass_defense_1_player_name',\n",
       " 'pass_defense_2_player_id',\n",
       " 'pass_defense_2_player_name',\n",
       " 'fumbled_1_team',\n",
       " 'fumbled_1_player_id',\n",
       " 'fumbled_1_player_name',\n",
       " 'fumbled_2_player_id',\n",
       " 'fumbled_2_player_name',\n",
       " 'fumbled_2_team',\n",
       " 'fumble_recovery_1_team',\n",
       " 'fumble_recovery_1_yards',\n",
       " 'fumble_recovery_1_player_id',\n",
       " 'fumble_recovery_1_player_name',\n",
       " 'fumble_recovery_2_team',\n",
       " 'fumble_recovery_2_yards',\n",
       " 'fumble_recovery_2_player_id',\n",
       " 'fumble_recovery_2_player_name',\n",
       " 'return_team',\n",
       " 'return_yards',\n",
       " 'penalty_team',\n",
       " 'penalty_player_id',\n",
       " 'penalty_player_name',\n",
       " 'penalty_yards',\n",
       " 'replay_or_challenge',\n",
       " 'replay_or_challenge_result',\n",
       " 'penalty_type',\n",
       " 'defensive_two_point_attempt',\n",
       " 'defensive_two_point_conv',\n",
       " 'defensive_extra_point_attempt',\n",
       " 'defensive_extra_point_conv']"
      ]
     },
     "execution_count": 6,
     "metadata": {},
     "output_type": "execute_result"
    }
   ],
   "source": [
    "list(nfl_df.columns)"
   ]
  },
  {
   "cell_type": "code",
   "execution_count": 79,
   "metadata": {},
   "outputs": [],
   "source": [
    "smaller_df = nfl_df[['play_id', 'game_id', 'home_team', 'away_team', 'posteam', 'posteam_type', \\\n",
    "                     'defteam', 'side_of_field', 'yardline_100', 'game_date', 'quarter_seconds_remaining', \\\n",
    "                     'half_seconds_remaining', 'game_seconds_remaining', 'game_half', 'drive', 'qtr', \\\n",
    "                     'down', 'ydstogo', 'play_type', 'home_timeouts_remaining', \\\n",
    "                     'away_timeouts_remaining', 'posteam_timeouts_remaining', 'defteam_timeouts_remaining', \\\n",
    "                     'total_away_score', 'posteam_score', 'defteam_score', 'score_differential']]"
   ]
  },
  {
   "cell_type": "code",
   "execution_count": 80,
   "metadata": {},
   "outputs": [
    {
     "name": "stderr",
     "output_type": "stream",
     "text": [
      "<ipython-input-80-bf97b84152b3>:1: SettingWithCopyWarning: \n",
      "A value is trying to be set on a copy of a slice from a DataFrame.\n",
      "Try using .loc[row_indexer,col_indexer] = value instead\n",
      "\n",
      "See the caveats in the documentation: https://pandas.pydata.org/pandas-docs/stable/user_guide/indexing.html#returning-a-view-versus-a-copy\n",
      "  smaller_df['game_year'] = smaller_df['game_date'].str[:4]\n"
     ]
    }
   ],
   "source": [
    "smaller_df['game_year'] = smaller_df['game_date'].str[:4]"
   ]
  },
  {
   "cell_type": "code",
   "execution_count": 9,
   "metadata": {
    "scrolled": true
   },
   "outputs": [
    {
     "name": "stdout",
     "output_type": "stream",
     "text": [
      "<class 'pandas.core.frame.DataFrame'>\n",
      "RangeIndex: 449371 entries, 0 to 449370\n",
      "Data columns (total 28 columns):\n",
      " #   Column                      Non-Null Count   Dtype  \n",
      "---  ------                      --------------   -----  \n",
      " 0   play_id                     449371 non-null  int64  \n",
      " 1   game_id                     449371 non-null  int64  \n",
      " 2   home_team                   449371 non-null  object \n",
      " 3   away_team                   449371 non-null  object \n",
      " 4   posteam                     436129 non-null  object \n",
      " 5   posteam_type                436492 non-null  object \n",
      " 6   defteam                     436492 non-null  object \n",
      " 7   side_of_field               448771 non-null  object \n",
      " 8   yardline_100                436301 non-null  float64\n",
      " 9   game_date                   449371 non-null  object \n",
      " 10  quarter_seconds_remaining   449230 non-null  float64\n",
      " 11  half_seconds_remaining      449206 non-null  float64\n",
      " 12  game_seconds_remaining      449208 non-null  float64\n",
      " 13  game_half                   449371 non-null  object \n",
      " 14  drive                       449371 non-null  int64  \n",
      " 15  qtr                         449371 non-null  int64  \n",
      " 16  down                        381409 non-null  float64\n",
      " 17  ydstogo                     449371 non-null  int64  \n",
      " 18  play_type                   436497 non-null  object \n",
      " 19  home_timeouts_remaining     449371 non-null  int64  \n",
      " 20  away_timeouts_remaining     449371 non-null  int64  \n",
      " 21  posteam_timeouts_remaining  436492 non-null  float64\n",
      " 22  defteam_timeouts_remaining  436492 non-null  float64\n",
      " 23  total_away_score            449371 non-null  int64  \n",
      " 24  posteam_score               433952 non-null  float64\n",
      " 25  defteam_score               433952 non-null  float64\n",
      " 26  score_differential          433952 non-null  float64\n",
      " 27  game_year                   449371 non-null  object \n",
      "dtypes: float64(10), int64(8), object(10)\n",
      "memory usage: 96.0+ MB\n"
     ]
    }
   ],
   "source": [
    "smaller_df.info()"
   ]
  },
  {
   "cell_type": "code",
   "execution_count": 10,
   "metadata": {},
   "outputs": [
    {
     "name": "stdout",
     "output_type": "stream",
     "text": [
      "The dataset contains details from 2526 games.\n"
     ]
    }
   ],
   "source": [
    "num_games = len(set(smaller_df['game_id']))\n",
    "print(\"The dataset contains details from \" + str(num_games) + \" games.\")"
   ]
  },
  {
   "cell_type": "code",
   "execution_count": 11,
   "metadata": {
    "scrolled": true
   },
   "outputs": [
    {
     "name": "stdout",
     "output_type": "stream",
     "text": [
      "The dataset contains details from 449371 plays.\n",
      "The dataset contains details from 10 seasons.\n"
     ]
    }
   ],
   "source": [
    "num_seasons = len(smaller_df.groupby('game_year').count()['play_id'])\n",
    "num_plays = sum(smaller_df.groupby('game_year').count()['play_id'])\n",
    "print(\"The dataset contains details from \" + str(num_plays) + \" plays.\")\n",
    "print(\"The dataset contains details from \" + str(num_seasons) + \" seasons.\")"
   ]
  },
  {
   "cell_type": "code",
   "execution_count": 12,
   "metadata": {
    "scrolled": true
   },
   "outputs": [
    {
     "data": {
      "text/plain": [
       "<AxesSubplot:xlabel='game_year'>"
      ]
     },
     "execution_count": 12,
     "metadata": {},
     "output_type": "execute_result"
    },
    {
     "data": {
      "image/png": "[encoded data removed]",
      "text/plain": [
       "<Figure size 432x288 with 1 Axes>"
      ]
     },
     "metadata": {
      "needs_background": "light"
     },
     "output_type": "display_data"
    }
   ],
   "source": [
    "#Plotting the total number of plays per season\n",
    "smaller_df.groupby('game_year').count()['play_id'].plot.bar()"
   ]
  },
  {
   "cell_type": "code",
   "execution_count": 13,
   "metadata": {},
   "outputs": [
    {
     "data": {
      "text/plain": [
       "play_type\n",
       "extra_point     10934\n",
       "field_goal       9777\n",
       "kickoff         25552\n",
       "no_play         42431\n",
       "pass           186677\n",
       "punt            23914\n",
       "qb_kneel         3830\n",
       "qb_spike          690\n",
       "run            132692\n",
       "Name: play_id, dtype: int64"
      ]
     },
     "execution_count": 13,
     "metadata": {},
     "output_type": "execute_result"
    }
   ],
   "source": [
    "smaller_df.groupby('play_type').count()['play_id']"
   ]
  },
  {
   "cell_type": "code",
   "execution_count": 14,
   "metadata": {},
   "outputs": [
    {
     "data": {
      "text/plain": [
       "<AxesSubplot:xlabel='play_type'>"
      ]
     },
     "execution_count": 14,
     "metadata": {},
     "output_type": "execute_result"
    },
    {
     "data": {
      "image/png": "[encoded data removed]",
      "text/plain": [
       "<Figure size 432x288 with 1 Axes>"
      ]
     },
     "metadata": {
      "needs_background": "light"
     },
     "output_type": "display_data"
    }
   ],
   "source": [
    "#Plotting the different types of plays\n",
    "smaller_df.groupby('play_type').count()['play_id'].plot.bar()"
   ]
  },
  {
   "cell_type": "code",
   "execution_count": 81,
   "metadata": {},
   "outputs": [],
   "source": [
    "#Creating a dataframe with only run or pass plays\n",
    "run_pass = smaller_df[(smaller_df['play_type'] == 'run') | (smaller_df['play_type'] == 'pass')]"
   ]
  },
  {
   "cell_type": "code",
   "execution_count": 111,
   "metadata": {},
   "outputs": [
    {
     "data": {
      "text/html": [
       "<div>\n",
       "<style scoped>\n",
       "    .dataframe tbody tr th:only-of-type {\n",
       "        vertical-align: middle;\n",
       "    }\n",
       "\n",
       "    .dataframe tbody tr th {\n",
       "        vertical-align: top;\n",
       "    }\n",
       "\n",
       "    .dataframe thead th {\n",
       "        text-align: right;\n",
       "    }\n",
       "</style>\n",
       "<table border=\"1\" class=\"dataframe\">\n",
       "  <thead>\n",
       "    <tr style=\"text-align: right;\">\n",
       "      <th></th>\n",
       "      <th>play_id</th>\n",
       "      <th>game_id</th>\n",
       "      <th>yardline_100</th>\n",
       "      <th>quarter_seconds_remaining</th>\n",
       "      <th>half_seconds_remaining</th>\n",
       "      <th>game_seconds_remaining</th>\n",
       "      <th>drive</th>\n",
       "      <th>qtr</th>\n",
       "      <th>down</th>\n",
       "      <th>ydstogo</th>\n",
       "      <th>home_timeouts_remaining</th>\n",
       "      <th>away_timeouts_remaining</th>\n",
       "      <th>posteam_timeouts_remaining</th>\n",
       "      <th>defteam_timeouts_remaining</th>\n",
       "      <th>total_away_score</th>\n",
       "      <th>posteam_score</th>\n",
       "      <th>defteam_score</th>\n",
       "      <th>score_differential</th>\n",
       "      <th>pass</th>\n",
       "    </tr>\n",
       "  </thead>\n",
       "  <tbody>\n",
       "    <tr>\n",
       "      <th>play_id</th>\n",
       "      <td>1.000000</td>\n",
       "      <td>0.009500</td>\n",
       "      <td>-0.050401</td>\n",
       "      <td>-0.244398</td>\n",
       "      <td>-0.469192</td>\n",
       "      <td>-0.982690</td>\n",
       "      <td>0.962714</td>\n",
       "      <td>0.957394</td>\n",
       "      <td>0.033453</td>\n",
       "      <td>0.009424</td>\n",
       "      <td>-0.305029</td>\n",
       "      <td>-0.299733</td>\n",
       "      <td>-0.309635</td>\n",
       "      <td>-0.296070</td>\n",
       "      <td>0.690897</td>\n",
       "      <td>0.688234</td>\n",
       "      <td>0.705695</td>\n",
       "      <td>-0.063551</td>\n",
       "      <td>0.050039</td>\n",
       "    </tr>\n",
       "    <tr>\n",
       "      <th>game_id</th>\n",
       "      <td>0.009500</td>\n",
       "      <td>1.000000</td>\n",
       "      <td>-0.001145</td>\n",
       "      <td>-0.005604</td>\n",
       "      <td>-0.003438</td>\n",
       "      <td>-0.001918</td>\n",
       "      <td>-0.023817</td>\n",
       "      <td>0.000715</td>\n",
       "      <td>-0.005405</td>\n",
       "      <td>0.006390</td>\n",
       "      <td>0.012520</td>\n",
       "      <td>0.018633</td>\n",
       "      <td>0.015966</td>\n",
       "      <td>0.014812</td>\n",
       "      <td>0.004100</td>\n",
       "      <td>0.008983</td>\n",
       "      <td>0.018865</td>\n",
       "      <td>-0.009848</td>\n",
       "      <td>0.015950</td>\n",
       "    </tr>\n",
       "    <tr>\n",
       "      <th>yardline_100</th>\n",
       "      <td>-0.050401</td>\n",
       "      <td>-0.001145</td>\n",
       "      <td>1.000000</td>\n",
       "      <td>0.095057</td>\n",
       "      <td>0.103924</td>\n",
       "      <td>0.064608</td>\n",
       "      <td>-0.010244</td>\n",
       "      <td>-0.040847</td>\n",
       "      <td>-0.072919</td>\n",
       "      <td>0.232762</td>\n",
       "      <td>0.051044</td>\n",
       "      <td>0.043599</td>\n",
       "      <td>0.058857</td>\n",
       "      <td>0.034781</td>\n",
       "      <td>-0.024618</td>\n",
       "      <td>-0.021575</td>\n",
       "      <td>0.003395</td>\n",
       "      <td>-0.021847</td>\n",
       "      <td>0.026813</td>\n",
       "    </tr>\n",
       "    <tr>\n",
       "      <th>quarter_seconds_remaining</th>\n",
       "      <td>-0.244398</td>\n",
       "      <td>-0.005604</td>\n",
       "      <td>0.095057</td>\n",
       "      <td>1.000000</td>\n",
       "      <td>0.561179</td>\n",
       "      <td>0.271120</td>\n",
       "      <td>-0.224052</td>\n",
       "      <td>-0.010423</td>\n",
       "      <td>-0.038023</td>\n",
       "      <td>0.004223</td>\n",
       "      <td>0.321406</td>\n",
       "      <td>0.325314</td>\n",
       "      <td>0.347752</td>\n",
       "      <td>0.298258</td>\n",
       "      <td>-0.169367</td>\n",
       "      <td>-0.148842</td>\n",
       "      <td>-0.187823</td>\n",
       "      <td>0.046633</td>\n",
       "      <td>-0.078245</td>\n",
       "    </tr>\n",
       "    <tr>\n",
       "      <th>half_seconds_remaining</th>\n",
       "      <td>-0.469192</td>\n",
       "      <td>-0.003438</td>\n",
       "      <td>0.103924</td>\n",
       "      <td>0.561179</td>\n",
       "      <td>1.000000</td>\n",
       "      <td>0.509795</td>\n",
       "      <td>-0.434595</td>\n",
       "      <td>-0.378350</td>\n",
       "      <td>-0.042630</td>\n",
       "      <td>0.001298</td>\n",
       "      <td>0.473037</td>\n",
       "      <td>0.481228</td>\n",
       "      <td>0.493449</td>\n",
       "      <td>0.461411</td>\n",
       "      <td>-0.324799</td>\n",
       "      <td>-0.306684</td>\n",
       "      <td>-0.344721</td>\n",
       "      <td>0.056585</td>\n",
       "      <td>-0.092254</td>\n",
       "    </tr>\n",
       "    <tr>\n",
       "      <th>game_seconds_remaining</th>\n",
       "      <td>-0.982690</td>\n",
       "      <td>-0.001918</td>\n",
       "      <td>0.064608</td>\n",
       "      <td>0.271120</td>\n",
       "      <td>0.509795</td>\n",
       "      <td>1.000000</td>\n",
       "      <td>-0.941310</td>\n",
       "      <td>-0.962660</td>\n",
       "      <td>-0.038190</td>\n",
       "      <td>-0.003954</td>\n",
       "      <td>0.294966</td>\n",
       "      <td>0.295129</td>\n",
       "      <td>0.301672</td>\n",
       "      <td>0.289492</td>\n",
       "      <td>-0.670015</td>\n",
       "      <td>-0.668934</td>\n",
       "      <td>-0.686249</td>\n",
       "      <td>0.062090</td>\n",
       "      <td>-0.050390</td>\n",
       "    </tr>\n",
       "    <tr>\n",
       "      <th>drive</th>\n",
       "      <td>0.962714</td>\n",
       "      <td>-0.023817</td>\n",
       "      <td>-0.010244</td>\n",
       "      <td>-0.224052</td>\n",
       "      <td>-0.434595</td>\n",
       "      <td>-0.941310</td>\n",
       "      <td>1.000000</td>\n",
       "      <td>0.919500</td>\n",
       "      <td>0.017128</td>\n",
       "      <td>0.016492</td>\n",
       "      <td>-0.273507</td>\n",
       "      <td>-0.271871</td>\n",
       "      <td>-0.279336</td>\n",
       "      <td>-0.266979</td>\n",
       "      <td>0.656213</td>\n",
       "      <td>0.661604</td>\n",
       "      <td>0.672445</td>\n",
       "      <td>-0.055538</td>\n",
       "      <td>0.038118</td>\n",
       "    </tr>\n",
       "    <tr>\n",
       "      <th>qtr</th>\n",
       "      <td>0.957394</td>\n",
       "      <td>0.000715</td>\n",
       "      <td>-0.040847</td>\n",
       "      <td>-0.010423</td>\n",
       "      <td>-0.378350</td>\n",
       "      <td>-0.962660</td>\n",
       "      <td>0.919500</td>\n",
       "      <td>1.000000</td>\n",
       "      <td>0.029162</td>\n",
       "      <td>0.005387</td>\n",
       "      <td>-0.225835</td>\n",
       "      <td>-0.223867</td>\n",
       "      <td>-0.224991</td>\n",
       "      <td>-0.226045</td>\n",
       "      <td>0.651399</td>\n",
       "      <td>0.655770</td>\n",
       "      <td>0.661854</td>\n",
       "      <td>-0.050694</td>\n",
       "      <td>0.030558</td>\n",
       "    </tr>\n",
       "    <tr>\n",
       "      <th>down</th>\n",
       "      <td>0.033453</td>\n",
       "      <td>-0.005405</td>\n",
       "      <td>-0.072919</td>\n",
       "      <td>-0.038023</td>\n",
       "      <td>-0.042630</td>\n",
       "      <td>-0.038190</td>\n",
       "      <td>0.017128</td>\n",
       "      <td>0.029162</td>\n",
       "      <td>1.000000</td>\n",
       "      <td>-0.317478</td>\n",
       "      <td>-0.035211</td>\n",
       "      <td>-0.040776</td>\n",
       "      <td>-0.039666</td>\n",
       "      <td>-0.036580</td>\n",
       "      <td>0.008634</td>\n",
       "      <td>0.006639</td>\n",
       "      <td>0.010124</td>\n",
       "      <td>-0.003711</td>\n",
       "      <td>0.215880</td>\n",
       "    </tr>\n",
       "    <tr>\n",
       "      <th>ydstogo</th>\n",
       "      <td>0.009424</td>\n",
       "      <td>0.006390</td>\n",
       "      <td>0.232762</td>\n",
       "      <td>0.004223</td>\n",
       "      <td>0.001298</td>\n",
       "      <td>-0.003954</td>\n",
       "      <td>0.016492</td>\n",
       "      <td>0.005387</td>\n",
       "      <td>-0.317478</td>\n",
       "      <td>1.000000</td>\n",
       "      <td>0.001953</td>\n",
       "      <td>0.000292</td>\n",
       "      <td>-0.001686</td>\n",
       "      <td>0.004046</td>\n",
       "      <td>0.001424</td>\n",
       "      <td>-0.000010</td>\n",
       "      <td>0.015521</td>\n",
       "      <td>-0.014509</td>\n",
       "      <td>0.090061</td>\n",
       "    </tr>\n",
       "    <tr>\n",
       "      <th>home_timeouts_remaining</th>\n",
       "      <td>-0.305029</td>\n",
       "      <td>0.012520</td>\n",
       "      <td>0.051044</td>\n",
       "      <td>0.321406</td>\n",
       "      <td>0.473037</td>\n",
       "      <td>0.294966</td>\n",
       "      <td>-0.273507</td>\n",
       "      <td>-0.225835</td>\n",
       "      <td>-0.035211</td>\n",
       "      <td>0.001953</td>\n",
       "      <td>1.000000</td>\n",
       "      <td>0.302554</td>\n",
       "      <td>0.659647</td>\n",
       "      <td>0.631908</td>\n",
       "      <td>-0.207377</td>\n",
       "      <td>-0.196122</td>\n",
       "      <td>-0.221631</td>\n",
       "      <td>0.037292</td>\n",
       "      <td>-0.069117</td>\n",
       "    </tr>\n",
       "    <tr>\n",
       "      <th>away_timeouts_remaining</th>\n",
       "      <td>-0.299733</td>\n",
       "      <td>0.018633</td>\n",
       "      <td>0.043599</td>\n",
       "      <td>0.325314</td>\n",
       "      <td>0.481228</td>\n",
       "      <td>0.295129</td>\n",
       "      <td>-0.271871</td>\n",
       "      <td>-0.223867</td>\n",
       "      <td>-0.040776</td>\n",
       "      <td>0.000292</td>\n",
       "      <td>0.302554</td>\n",
       "      <td>1.000000</td>\n",
       "      <td>0.667639</td>\n",
       "      <td>0.644132</td>\n",
       "      <td>-0.199152</td>\n",
       "      <td>-0.181337</td>\n",
       "      <td>-0.209402</td>\n",
       "      <td>0.038665</td>\n",
       "      <td>-0.063256</td>\n",
       "    </tr>\n",
       "    <tr>\n",
       "      <th>posteam_timeouts_remaining</th>\n",
       "      <td>-0.309635</td>\n",
       "      <td>0.015966</td>\n",
       "      <td>0.058857</td>\n",
       "      <td>0.347752</td>\n",
       "      <td>0.493449</td>\n",
       "      <td>0.301672</td>\n",
       "      <td>-0.279336</td>\n",
       "      <td>-0.224991</td>\n",
       "      <td>-0.039666</td>\n",
       "      <td>-0.001686</td>\n",
       "      <td>0.659647</td>\n",
       "      <td>0.667639</td>\n",
       "      <td>1.000000</td>\n",
       "      <td>0.303084</td>\n",
       "      <td>-0.204792</td>\n",
       "      <td>-0.193333</td>\n",
       "      <td>-0.213360</td>\n",
       "      <td>0.031979</td>\n",
       "      <td>-0.092517</td>\n",
       "    </tr>\n",
       "    <tr>\n",
       "      <th>defteam_timeouts_remaining</th>\n",
       "      <td>-0.296070</td>\n",
       "      <td>0.014812</td>\n",
       "      <td>0.034781</td>\n",
       "      <td>0.298258</td>\n",
       "      <td>0.461411</td>\n",
       "      <td>0.289492</td>\n",
       "      <td>-0.266979</td>\n",
       "      <td>-0.226045</td>\n",
       "      <td>-0.036580</td>\n",
       "      <td>0.004046</td>\n",
       "      <td>0.631908</td>\n",
       "      <td>0.644132</td>\n",
       "      <td>0.303084</td>\n",
       "      <td>1.000000</td>\n",
       "      <td>-0.202007</td>\n",
       "      <td>-0.183949</td>\n",
       "      <td>-0.217687</td>\n",
       "      <td>0.044144</td>\n",
       "      <td>-0.037858</td>\n",
       "    </tr>\n",
       "    <tr>\n",
       "      <th>total_away_score</th>\n",
       "      <td>0.690897</td>\n",
       "      <td>0.004100</td>\n",
       "      <td>-0.024618</td>\n",
       "      <td>-0.169367</td>\n",
       "      <td>-0.324799</td>\n",
       "      <td>-0.670015</td>\n",
       "      <td>0.656213</td>\n",
       "      <td>0.651399</td>\n",
       "      <td>0.008634</td>\n",
       "      <td>0.001424</td>\n",
       "      <td>-0.207377</td>\n",
       "      <td>-0.199152</td>\n",
       "      <td>-0.204792</td>\n",
       "      <td>-0.202007</td>\n",
       "      <td>1.000000</td>\n",
       "      <td>0.672374</td>\n",
       "      <td>0.685549</td>\n",
       "      <td>-0.058458</td>\n",
       "      <td>0.038642</td>\n",
       "    </tr>\n",
       "    <tr>\n",
       "      <th>posteam_score</th>\n",
       "      <td>0.688234</td>\n",
       "      <td>0.008983</td>\n",
       "      <td>-0.021575</td>\n",
       "      <td>-0.148842</td>\n",
       "      <td>-0.306684</td>\n",
       "      <td>-0.668934</td>\n",
       "      <td>0.661604</td>\n",
       "      <td>0.655770</td>\n",
       "      <td>0.006639</td>\n",
       "      <td>-0.000010</td>\n",
       "      <td>-0.196122</td>\n",
       "      <td>-0.181337</td>\n",
       "      <td>-0.193333</td>\n",
       "      <td>-0.183949</td>\n",
       "      <td>0.672374</td>\n",
       "      <td>1.000000</td>\n",
       "      <td>0.384594</td>\n",
       "      <td>0.506288</td>\n",
       "      <td>-0.057596</td>\n",
       "    </tr>\n",
       "    <tr>\n",
       "      <th>defteam_score</th>\n",
       "      <td>0.705695</td>\n",
       "      <td>0.018865</td>\n",
       "      <td>0.003395</td>\n",
       "      <td>-0.187823</td>\n",
       "      <td>-0.344721</td>\n",
       "      <td>-0.686249</td>\n",
       "      <td>0.672445</td>\n",
       "      <td>0.661854</td>\n",
       "      <td>0.010124</td>\n",
       "      <td>0.015521</td>\n",
       "      <td>-0.221631</td>\n",
       "      <td>-0.209402</td>\n",
       "      <td>-0.213360</td>\n",
       "      <td>-0.217687</td>\n",
       "      <td>0.685549</td>\n",
       "      <td>0.384594</td>\n",
       "      <td>1.000000</td>\n",
       "      <td>-0.601322</td>\n",
       "      <td>0.122071</td>\n",
       "    </tr>\n",
       "    <tr>\n",
       "      <th>score_differential</th>\n",
       "      <td>-0.063551</td>\n",
       "      <td>-0.009848</td>\n",
       "      <td>-0.021847</td>\n",
       "      <td>0.046633</td>\n",
       "      <td>0.056585</td>\n",
       "      <td>0.062090</td>\n",
       "      <td>-0.055538</td>\n",
       "      <td>-0.050694</td>\n",
       "      <td>-0.003711</td>\n",
       "      <td>-0.014509</td>\n",
       "      <td>0.037292</td>\n",
       "      <td>0.038665</td>\n",
       "      <td>0.031979</td>\n",
       "      <td>0.044144</td>\n",
       "      <td>-0.058458</td>\n",
       "      <td>0.506288</td>\n",
       "      <td>-0.601322</td>\n",
       "      <td>1.000000</td>\n",
       "      <td>-0.163895</td>\n",
       "    </tr>\n",
       "    <tr>\n",
       "      <th>pass</th>\n",
       "      <td>0.050039</td>\n",
       "      <td>0.015950</td>\n",
       "      <td>0.026813</td>\n",
       "      <td>-0.078245</td>\n",
       "      <td>-0.092254</td>\n",
       "      <td>-0.050390</td>\n",
       "      <td>0.038118</td>\n",
       "      <td>0.030558</td>\n",
       "      <td>0.215880</td>\n",
       "      <td>0.090061</td>\n",
       "      <td>-0.069117</td>\n",
       "      <td>-0.063256</td>\n",
       "      <td>-0.092517</td>\n",
       "      <td>-0.037858</td>\n",
       "      <td>0.038642</td>\n",
       "      <td>-0.057596</td>\n",
       "      <td>0.122071</td>\n",
       "      <td>-0.163895</td>\n",
       "      <td>1.000000</td>\n",
       "    </tr>\n",
       "  </tbody>\n",
       "</table>\n",
       "</div>"
      ],
      "text/plain": [
       "                             play_id   game_id  yardline_100  \\\n",
       "play_id                     1.000000  0.009500     -0.050401   \n",
       "game_id                     0.009500  1.000000     -0.001145   \n",
       "yardline_100               -0.050401 -0.001145      1.000000   \n",
       "quarter_seconds_remaining  -0.244398 -0.005604      0.095057   \n",
       "half_seconds_remaining     -0.469192 -0.003438      0.103924   \n",
       "game_seconds_remaining     -0.982690 -0.001918      0.064608   \n",
       "drive                       0.962714 -0.023817     -0.010244   \n",
       "qtr                         0.957394  0.000715     -0.040847   \n",
       "down                        0.033453 -0.005405     -0.072919   \n",
       "ydstogo                     0.009424  0.006390      0.232762   \n",
       "home_timeouts_remaining    -0.305029  0.012520      0.051044   \n",
       "away_timeouts_remaining    -0.299733  0.018633      0.043599   \n",
       "posteam_timeouts_remaining -0.309635  0.015966      0.058857   \n",
       "defteam_timeouts_remaining -0.296070  0.014812      0.034781   \n",
       "total_away_score            0.690897  0.004100     -0.024618   \n",
       "posteam_score               0.688234  0.008983     -0.021575   \n",
       "defteam_score               0.705695  0.018865      0.003395   \n",
       "score_differential         -0.063551 -0.009848     -0.021847   \n",
       "pass                        0.050039  0.015950      0.026813   \n",
       "\n",
       "                            quarter_seconds_remaining  half_seconds_remaining  \\\n",
       "play_id                                     -0.244398               -0.469192   \n",
       "game_id                                     -0.005604               -0.003438   \n",
       "yardline_100                                 0.095057                0.103924   \n",
       "quarter_seconds_remaining                    1.000000                0.561179   \n",
       "half_seconds_remaining                       0.561179                1.000000   \n",
       "game_seconds_remaining                       0.271120                0.509795   \n",
       "drive                                       -0.224052               -0.434595   \n",
       "qtr                                         -0.010423               -0.378350   \n",
       "down                                        -0.038023               -0.042630   \n",
       "ydstogo                                      0.004223                0.001298   \n",
       "home_timeouts_remaining                      0.321406                0.473037   \n",
       "away_timeouts_remaining                      0.325314                0.481228   \n",
       "posteam_timeouts_remaining                   0.347752                0.493449   \n",
       "defteam_timeouts_remaining                   0.298258                0.461411   \n",
       "total_away_score                            -0.169367               -0.324799   \n",
       "posteam_score                               -0.148842               -0.306684   \n",
       "defteam_score                               -0.187823               -0.344721   \n",
       "score_differential                           0.046633                0.056585   \n",
       "pass                                        -0.078245               -0.092254   \n",
       "\n",
       "                            game_seconds_remaining     drive       qtr  \\\n",
       "play_id                                  -0.982690  0.962714  0.957394   \n",
       "game_id                                  -0.001918 -0.023817  0.000715   \n",
       "yardline_100                              0.064608 -0.010244 -0.040847   \n",
       "quarter_seconds_remaining                 0.271120 -0.224052 -0.010423   \n",
       "half_seconds_remaining                    0.509795 -0.434595 -0.378350   \n",
       "game_seconds_remaining                    1.000000 -0.941310 -0.962660   \n",
       "drive                                    -0.941310  1.000000  0.919500   \n",
       "qtr                                      -0.962660  0.919500  1.000000   \n",
       "down                                     -0.038190  0.017128  0.029162   \n",
       "ydstogo                                  -0.003954  0.016492  0.005387   \n",
       "home_timeouts_remaining                   0.294966 -0.273507 -0.225835   \n",
       "away_timeouts_remaining                   0.295129 -0.271871 -0.223867   \n",
       "posteam_timeouts_remaining                0.301672 -0.279336 -0.224991   \n",
       "defteam_timeouts_remaining                0.289492 -0.266979 -0.226045   \n",
       "total_away_score                         -0.670015  0.656213  0.651399   \n",
       "posteam_score                            -0.668934  0.661604  0.655770   \n",
       "defteam_score                            -0.686249  0.672445  0.661854   \n",
       "score_differential                        0.062090 -0.055538 -0.050694   \n",
       "pass                                     -0.050390  0.038118  0.030558   \n",
       "\n",
       "                                down   ydstogo  home_timeouts_remaining  \\\n",
       "play_id                     0.033453  0.009424                -0.305029   \n",
       "game_id                    -0.005405  0.006390                 0.012520   \n",
       "yardline_100               -0.072919  0.232762                 0.051044   \n",
       "quarter_seconds_remaining  -0.038023  0.004223                 0.321406   \n",
       "half_seconds_remaining     -0.042630  0.001298                 0.473037   \n",
       "game_seconds_remaining     -0.038190 -0.003954                 0.294966   \n",
       "drive                       0.017128  0.016492                -0.273507   \n",
       "qtr                         0.029162  0.005387                -0.225835   \n",
       "down                        1.000000 -0.317478                -0.035211   \n",
       "ydstogo                    -0.317478  1.000000                 0.001953   \n",
       "home_timeouts_remaining    -0.035211  0.001953                 1.000000   \n",
       "away_timeouts_remaining    -0.040776  0.000292                 0.302554   \n",
       "posteam_timeouts_remaining -0.039666 -0.001686                 0.659647   \n",
       "defteam_timeouts_remaining -0.036580  0.004046                 0.631908   \n",
       "total_away_score            0.008634  0.001424                -0.207377   \n",
       "posteam_score               0.006639 -0.000010                -0.196122   \n",
       "defteam_score               0.010124  0.015521                -0.221631   \n",
       "score_differential         -0.003711 -0.014509                 0.037292   \n",
       "pass                        0.215880  0.090061                -0.069117   \n",
       "\n",
       "                            away_timeouts_remaining  \\\n",
       "play_id                                   -0.299733   \n",
       "game_id                                    0.018633   \n",
       "yardline_100                               0.043599   \n",
       "quarter_seconds_remaining                  0.325314   \n",
       "half_seconds_remaining                     0.481228   \n",
       "game_seconds_remaining                     0.295129   \n",
       "drive                                     -0.271871   \n",
       "qtr                                       -0.223867   \n",
       "down                                      -0.040776   \n",
       "ydstogo                                    0.000292   \n",
       "home_timeouts_remaining                    0.302554   \n",
       "away_timeouts_remaining                    1.000000   \n",
       "posteam_timeouts_remaining                 0.667639   \n",
       "defteam_timeouts_remaining                 0.644132   \n",
       "total_away_score                          -0.199152   \n",
       "posteam_score                             -0.181337   \n",
       "defteam_score                             -0.209402   \n",
       "score_differential                         0.038665   \n",
       "pass                                      -0.063256   \n",
       "\n",
       "                            posteam_timeouts_remaining  \\\n",
       "play_id                                      -0.309635   \n",
       "game_id                                       0.015966   \n",
       "yardline_100                                  0.058857   \n",
       "quarter_seconds_remaining                     0.347752   \n",
       "half_seconds_remaining                        0.493449   \n",
       "game_seconds_remaining                        0.301672   \n",
       "drive                                        -0.279336   \n",
       "qtr                                          -0.224991   \n",
       "down                                         -0.039666   \n",
       "ydstogo                                      -0.001686   \n",
       "home_timeouts_remaining                       0.659647   \n",
       "away_timeouts_remaining                       0.667639   \n",
       "posteam_timeouts_remaining                    1.000000   \n",
       "defteam_timeouts_remaining                    0.303084   \n",
       "total_away_score                             -0.204792   \n",
       "posteam_score                                -0.193333   \n",
       "defteam_score                                -0.213360   \n",
       "score_differential                            0.031979   \n",
       "pass                                         -0.092517   \n",
       "\n",
       "                            defteam_timeouts_remaining  total_away_score  \\\n",
       "play_id                                      -0.296070          0.690897   \n",
       "game_id                                       0.014812          0.004100   \n",
       "yardline_100                                  0.034781         -0.024618   \n",
       "quarter_seconds_remaining                     0.298258         -0.169367   \n",
       "half_seconds_remaining                        0.461411         -0.324799   \n",
       "game_seconds_remaining                        0.289492         -0.670015   \n",
       "drive                                        -0.266979          0.656213   \n",
       "qtr                                          -0.226045          0.651399   \n",
       "down                                         -0.036580          0.008634   \n",
       "ydstogo                                       0.004046          0.001424   \n",
       "home_timeouts_remaining                       0.631908         -0.207377   \n",
       "away_timeouts_remaining                       0.644132         -0.199152   \n",
       "posteam_timeouts_remaining                    0.303084         -0.204792   \n",
       "defteam_timeouts_remaining                    1.000000         -0.202007   \n",
       "total_away_score                             -0.202007          1.000000   \n",
       "posteam_score                                -0.183949          0.672374   \n",
       "defteam_score                                -0.217687          0.685549   \n",
       "score_differential                            0.044144         -0.058458   \n",
       "pass                                         -0.037858          0.038642   \n",
       "\n",
       "                            posteam_score  defteam_score  score_differential  \\\n",
       "play_id                          0.688234       0.705695           -0.063551   \n",
       "game_id                          0.008983       0.018865           -0.009848   \n",
       "yardline_100                    -0.021575       0.003395           -0.021847   \n",
       "quarter_seconds_remaining       -0.148842      -0.187823            0.046633   \n",
       "half_seconds_remaining          -0.306684      -0.344721            0.056585   \n",
       "game_seconds_remaining          -0.668934      -0.686249            0.062090   \n",
       "drive                            0.661604       0.672445           -0.055538   \n",
       "qtr                              0.655770       0.661854           -0.050694   \n",
       "down                             0.006639       0.010124           -0.003711   \n",
       "ydstogo                         -0.000010       0.015521           -0.014509   \n",
       "home_timeouts_remaining         -0.196122      -0.221631            0.037292   \n",
       "away_timeouts_remaining         -0.181337      -0.209402            0.038665   \n",
       "posteam_timeouts_remaining      -0.193333      -0.213360            0.031979   \n",
       "defteam_timeouts_remaining      -0.183949      -0.217687            0.044144   \n",
       "total_away_score                 0.672374       0.685549           -0.058458   \n",
       "posteam_score                    1.000000       0.384594            0.506288   \n",
       "defteam_score                    0.384594       1.000000           -0.601322   \n",
       "score_differential               0.506288      -0.601322            1.000000   \n",
       "pass                            -0.057596       0.122071           -0.163895   \n",
       "\n",
       "                                pass  \n",
       "play_id                     0.050039  \n",
       "game_id                     0.015950  \n",
       "yardline_100                0.026813  \n",
       "quarter_seconds_remaining  -0.078245  \n",
       "half_seconds_remaining     -0.092254  \n",
       "game_seconds_remaining     -0.050390  \n",
       "drive                       0.038118  \n",
       "qtr                         0.030558  \n",
       "down                        0.215880  \n",
       "ydstogo                     0.090061  \n",
       "home_timeouts_remaining    -0.069117  \n",
       "away_timeouts_remaining    -0.063256  \n",
       "posteam_timeouts_remaining -0.092517  \n",
       "defteam_timeouts_remaining -0.037858  \n",
       "total_away_score            0.038642  \n",
       "posteam_score              -0.057596  \n",
       "defteam_score               0.122071  \n",
       "score_differential         -0.163895  \n",
       "pass                        1.000000  "
      ]
     },
     "execution_count": 111,
     "metadata": {},
     "output_type": "execute_result"
    }
   ],
   "source": [
    "run_pass.corr()"
   ]
  },
  {
   "cell_type": "code",
   "execution_count": 16,
   "metadata": {},
   "outputs": [
    {
     "data": {
      "text/plain": [
       "<AxesSubplot:xlabel='qtr'>"
      ]
     },
     "execution_count": 16,
     "metadata": {},
     "output_type": "execute_result"
    },
    {
     "data": {
      "image/png": "[encoded data removed]",
      "text/plain": [
       "<Figure size 432x288 with 1 Axes>"
      ]
     },
     "metadata": {
      "needs_background": "light"
     },
     "output_type": "display_data"
    }
   ],
   "source": [
    "#Playcall by quarter\n",
    "run_pass.groupby(['qtr', 'play_type',]).count()['play_id'].unstack().plot.bar()"
   ]
  },
  {
   "cell_type": "code",
   "execution_count": 17,
   "metadata": {
    "scrolled": false
   },
   "outputs": [
    {
     "data": {
      "text/plain": [
       "<AxesSubplot:xlabel='down'>"
      ]
     },
     "execution_count": 17,
     "metadata": {},
     "output_type": "execute_result"
    },
    {
     "data": {
      "image/png": "[encoded data removed]",
      "text/plain": [
       "<Figure size 432x288 with 1 Axes>"
      ]
     },
     "metadata": {
      "needs_background": "light"
     },
     "output_type": "display_data"
    }
   ],
   "source": [
    "#Playcall by down\n",
    "run_pass.groupby(['down', 'play_type',]).count()['play_id'].unstack().plot.bar()"
   ]
  },
  {
   "cell_type": "code",
   "execution_count": 18,
   "metadata": {},
   "outputs": [
    {
     "name": "stderr",
     "output_type": "stream",
     "text": [
      "<ipython-input-18-be6e236cf119>:2: SettingWithCopyWarning: \n",
      "A value is trying to be set on a copy of a slice from a DataFrame.\n",
      "Try using .loc[row_indexer,col_indexer] = value instead\n",
      "\n",
      "See the caveats in the documentation: https://pandas.pydata.org/pandas-docs/stable/user_guide/indexing.html#returning-a-view-versus-a-copy\n",
      "  run_pass['lead'] = np.where(run_pass['score_differential']==0, 'tied', 0)\n",
      "<ipython-input-18-be6e236cf119>:3: SettingWithCopyWarning: \n",
      "A value is trying to be set on a copy of a slice from a DataFrame.\n",
      "Try using .loc[row_indexer,col_indexer] = value instead\n",
      "\n",
      "See the caveats in the documentation: https://pandas.pydata.org/pandas-docs/stable/user_guide/indexing.html#returning-a-view-versus-a-copy\n",
      "  run_pass['lead'] = np.where(run_pass['score_differential']>0, 'ahead', run_pass['lead'])\n",
      "<ipython-input-18-be6e236cf119>:4: SettingWithCopyWarning: \n",
      "A value is trying to be set on a copy of a slice from a DataFrame.\n",
      "Try using .loc[row_indexer,col_indexer] = value instead\n",
      "\n",
      "See the caveats in the documentation: https://pandas.pydata.org/pandas-docs/stable/user_guide/indexing.html#returning-a-view-versus-a-copy\n",
      "  run_pass['lead'] = np.where(run_pass['score_differential']<0, 'behind', run_pass['lead'])\n"
     ]
    }
   ],
   "source": [
    "#Adding column for if the team with the ball is ahead, behind, or tied\n",
    "run_pass['lead'] = np.where(run_pass['score_differential']==0, 'tied', 0)\n",
    "run_pass['lead'] = np.where(run_pass['score_differential']>0, 'ahead', run_pass['lead'])\n",
    "run_pass['lead'] = np.where(run_pass['score_differential']<0, 'behind', run_pass['lead'])"
   ]
  },
  {
   "cell_type": "code",
   "execution_count": 19,
   "metadata": {},
   "outputs": [
    {
     "data": {
      "text/plain": [
       "lead\n",
       "ahead     110306\n",
       "behind    149610\n",
       "tied       59453\n",
       "Name: play_id, dtype: int64"
      ]
     },
     "execution_count": 19,
     "metadata": {},
     "output_type": "execute_result"
    }
   ],
   "source": [
    "#Checking to make sure values updated\n",
    "run_pass.groupby('lead').count()['play_id']"
   ]
  },
  {
   "cell_type": "code",
   "execution_count": 20,
   "metadata": {
    "scrolled": true
   },
   "outputs": [
    {
     "data": {
      "text/plain": [
       "<AxesSubplot:xlabel='lead'>"
      ]
     },
     "execution_count": 20,
     "metadata": {},
     "output_type": "execute_result"
    },
    {
     "data": {
      "image/png": "[encoded data removed]",
      "text/plain": [
       "<Figure size 432x288 with 1 Axes>"
      ]
     },
     "metadata": {
      "needs_background": "light"
     },
     "output_type": "display_data"
    }
   ],
   "source": [
    "#Playcall by who is leading\n",
    "run_pass.groupby(['lead', 'play_type',]).count()['play_id'].unstack().plot.bar()"
   ]
  },
  {
   "cell_type": "code",
   "execution_count": 59,
   "metadata": {
    "scrolled": true
   },
   "outputs": [
    {
     "data": {
      "text/plain": [
       "<AxesSubplot:xlabel='game_year'>"
      ]
     },
     "execution_count": 59,
     "metadata": {},
     "output_type": "execute_result"
    },
    {
     "data": {
      "image/png": "[encoded data removed]",
      "text/plain": [
       "<Figure size 432x288 with 1 Axes>"
      ]
     },
     "metadata": {
      "needs_background": "light"
     },
     "output_type": "display_data"
    }
   ],
   "source": [
    "#Playcall by year\n",
    "run_pass.groupby(['game_year', 'play_type',]).count()['play_id'].unstack().plot.bar()"
   ]
  },
  {
   "cell_type": "code",
   "execution_count": 64,
   "metadata": {},
   "outputs": [],
   "source": [
    "run_pass_yr = run_pass.groupby(['game_year', 'play_type',]).count()['play_id'].unstack()"
   ]
  },
  {
   "cell_type": "code",
   "execution_count": 65,
   "metadata": {},
   "outputs": [],
   "source": [
    "run_pass_yr['pass_percent'] = run_pass_yr['pass']/(run_pass_yr['pass']+run_pass_yr['run'])"
   ]
  },
  {
   "cell_type": "code",
   "execution_count": 66,
   "metadata": {
    "scrolled": true
   },
   "outputs": [
    {
     "data": {
      "text/html": [
       "<div>\n",
       "<style scoped>\n",
       "    .dataframe tbody tr th:only-of-type {\n",
       "        vertical-align: middle;\n",
       "    }\n",
       "\n",
       "    .dataframe tbody tr th {\n",
       "        vertical-align: top;\n",
       "    }\n",
       "\n",
       "    .dataframe thead th {\n",
       "        text-align: right;\n",
       "    }\n",
       "</style>\n",
       "<table border=\"1\" class=\"dataframe\">\n",
       "  <thead>\n",
       "    <tr style=\"text-align: right;\">\n",
       "      <th>play_type</th>\n",
       "      <th>pass</th>\n",
       "      <th>run</th>\n",
       "      <th>pass_percent</th>\n",
       "    </tr>\n",
       "    <tr>\n",
       "      <th>game_year</th>\n",
       "      <th></th>\n",
       "      <th></th>\n",
       "      <th></th>\n",
       "    </tr>\n",
       "  </thead>\n",
       "  <tbody>\n",
       "    <tr>\n",
       "      <th>2009</th>\n",
       "      <td>16900</td>\n",
       "      <td>12847</td>\n",
       "      <td>0.568125</td>\n",
       "    </tr>\n",
       "    <tr>\n",
       "      <th>2010</th>\n",
       "      <td>18134</td>\n",
       "      <td>13588</td>\n",
       "      <td>0.571654</td>\n",
       "    </tr>\n",
       "    <tr>\n",
       "      <th>2011</th>\n",
       "      <td>18428</td>\n",
       "      <td>13655</td>\n",
       "      <td>0.574385</td>\n",
       "    </tr>\n",
       "    <tr>\n",
       "      <th>2012</th>\n",
       "      <td>19915</td>\n",
       "      <td>14341</td>\n",
       "      <td>0.581358</td>\n",
       "    </tr>\n",
       "    <tr>\n",
       "      <th>2013</th>\n",
       "      <td>19249</td>\n",
       "      <td>13453</td>\n",
       "      <td>0.588618</td>\n",
       "    </tr>\n",
       "    <tr>\n",
       "      <th>2014</th>\n",
       "      <td>18944</td>\n",
       "      <td>13312</td>\n",
       "      <td>0.587302</td>\n",
       "    </tr>\n",
       "    <tr>\n",
       "      <th>2015</th>\n",
       "      <td>18148</td>\n",
       "      <td>12245</td>\n",
       "      <td>0.597111</td>\n",
       "    </tr>\n",
       "    <tr>\n",
       "      <th>2016</th>\n",
       "      <td>19241</td>\n",
       "      <td>12883</td>\n",
       "      <td>0.598960</td>\n",
       "    </tr>\n",
       "    <tr>\n",
       "      <th>2017</th>\n",
       "      <td>19702</td>\n",
       "      <td>14206</td>\n",
       "      <td>0.581043</td>\n",
       "    </tr>\n",
       "    <tr>\n",
       "      <th>2018</th>\n",
       "      <td>17502</td>\n",
       "      <td>11975</td>\n",
       "      <td>0.593751</td>\n",
       "    </tr>\n",
       "  </tbody>\n",
       "</table>\n",
       "</div>"
      ],
      "text/plain": [
       "play_type   pass    run  pass_percent\n",
       "game_year                            \n",
       "2009       16900  12847      0.568125\n",
       "2010       18134  13588      0.571654\n",
       "2011       18428  13655      0.574385\n",
       "2012       19915  14341      0.581358\n",
       "2013       19249  13453      0.588618\n",
       "2014       18944  13312      0.587302\n",
       "2015       18148  12245      0.597111\n",
       "2016       19241  12883      0.598960\n",
       "2017       19702  14206      0.581043\n",
       "2018       17502  11975      0.593751"
      ]
     },
     "execution_count": 66,
     "metadata": {},
     "output_type": "execute_result"
    }
   ],
   "source": [
    "run_pass_yr"
   ]
  },
  {
   "cell_type": "code",
   "execution_count": 67,
   "metadata": {
    "scrolled": true
   },
   "outputs": [
    {
     "data": {
      "text/html": [
       "<div>\n",
       "<style scoped>\n",
       "    .dataframe tbody tr th:only-of-type {\n",
       "        vertical-align: middle;\n",
       "    }\n",
       "\n",
       "    .dataframe tbody tr th {\n",
       "        vertical-align: top;\n",
       "    }\n",
       "\n",
       "    .dataframe thead th {\n",
       "        text-align: right;\n",
       "    }\n",
       "</style>\n",
       "<table border=\"1\" class=\"dataframe\">\n",
       "  <thead>\n",
       "    <tr style=\"text-align: right;\">\n",
       "      <th>play_type</th>\n",
       "      <th>pass</th>\n",
       "      <th>run</th>\n",
       "    </tr>\n",
       "    <tr>\n",
       "      <th>posteam</th>\n",
       "      <th></th>\n",
       "      <th></th>\n",
       "    </tr>\n",
       "  </thead>\n",
       "  <tbody>\n",
       "    <tr>\n",
       "      <th>ARI</th>\n",
       "      <td>6098</td>\n",
       "      <td>3714</td>\n",
       "    </tr>\n",
       "    <tr>\n",
       "      <th>ATL</th>\n",
       "      <td>6201</td>\n",
       "      <td>3946</td>\n",
       "    </tr>\n",
       "    <tr>\n",
       "      <th>BAL</th>\n",
       "      <td>5984</td>\n",
       "      <td>4274</td>\n",
       "    </tr>\n",
       "    <tr>\n",
       "      <th>BUF</th>\n",
       "      <td>5377</td>\n",
       "      <td>4457</td>\n",
       "    </tr>\n",
       "    <tr>\n",
       "      <th>CAR</th>\n",
       "      <td>5378</td>\n",
       "      <td>4549</td>\n",
       "    </tr>\n",
       "    <tr>\n",
       "      <th>CHI</th>\n",
       "      <td>5561</td>\n",
       "      <td>4056</td>\n",
       "    </tr>\n",
       "    <tr>\n",
       "      <th>CIN</th>\n",
       "      <td>5612</td>\n",
       "      <td>4282</td>\n",
       "    </tr>\n",
       "    <tr>\n",
       "      <th>CLE</th>\n",
       "      <td>5824</td>\n",
       "      <td>3968</td>\n",
       "    </tr>\n",
       "    <tr>\n",
       "      <th>DAL</th>\n",
       "      <td>5729</td>\n",
       "      <td>4162</td>\n",
       "    </tr>\n",
       "    <tr>\n",
       "      <th>DEN</th>\n",
       "      <td>5979</td>\n",
       "      <td>4257</td>\n",
       "    </tr>\n",
       "    <tr>\n",
       "      <th>DET</th>\n",
       "      <td>6535</td>\n",
       "      <td>3765</td>\n",
       "    </tr>\n",
       "    <tr>\n",
       "      <th>GB</th>\n",
       "      <td>6030</td>\n",
       "      <td>3950</td>\n",
       "    </tr>\n",
       "    <tr>\n",
       "      <th>HOU</th>\n",
       "      <td>5774</td>\n",
       "      <td>4540</td>\n",
       "    </tr>\n",
       "    <tr>\n",
       "      <th>IND</th>\n",
       "      <td>6234</td>\n",
       "      <td>3876</td>\n",
       "    </tr>\n",
       "    <tr>\n",
       "      <th>JAC</th>\n",
       "      <td>4157</td>\n",
       "      <td>2867</td>\n",
       "    </tr>\n",
       "    <tr>\n",
       "      <th>JAX</th>\n",
       "      <td>1727</td>\n",
       "      <td>1270</td>\n",
       "    </tr>\n",
       "    <tr>\n",
       "      <th>KC</th>\n",
       "      <td>5464</td>\n",
       "      <td>4351</td>\n",
       "    </tr>\n",
       "    <tr>\n",
       "      <th>LA</th>\n",
       "      <td>1712</td>\n",
       "      <td>1176</td>\n",
       "    </tr>\n",
       "    <tr>\n",
       "      <th>LAC</th>\n",
       "      <td>1098</td>\n",
       "      <td>769</td>\n",
       "    </tr>\n",
       "    <tr>\n",
       "      <th>MIA</th>\n",
       "      <td>5740</td>\n",
       "      <td>3957</td>\n",
       "    </tr>\n",
       "    <tr>\n",
       "      <th>MIN</th>\n",
       "      <td>5596</td>\n",
       "      <td>4221</td>\n",
       "    </tr>\n",
       "    <tr>\n",
       "      <th>NE</th>\n",
       "      <td>6156</td>\n",
       "      <td>4357</td>\n",
       "    </tr>\n",
       "    <tr>\n",
       "      <th>NO</th>\n",
       "      <td>6440</td>\n",
       "      <td>4005</td>\n",
       "    </tr>\n",
       "    <tr>\n",
       "      <th>NYG</th>\n",
       "      <td>5941</td>\n",
       "      <td>3929</td>\n",
       "    </tr>\n",
       "    <tr>\n",
       "      <th>NYJ</th>\n",
       "      <td>5414</td>\n",
       "      <td>4662</td>\n",
       "    </tr>\n",
       "    <tr>\n",
       "      <th>OAK</th>\n",
       "      <td>5844</td>\n",
       "      <td>3958</td>\n",
       "    </tr>\n",
       "    <tr>\n",
       "      <th>PHI</th>\n",
       "      <td>6112</td>\n",
       "      <td>4220</td>\n",
       "    </tr>\n",
       "    <tr>\n",
       "      <th>PIT</th>\n",
       "      <td>5992</td>\n",
       "      <td>3982</td>\n",
       "    </tr>\n",
       "    <tr>\n",
       "      <th>SD</th>\n",
       "      <td>4788</td>\n",
       "      <td>3352</td>\n",
       "    </tr>\n",
       "    <tr>\n",
       "      <th>SEA</th>\n",
       "      <td>5322</td>\n",
       "      <td>4454</td>\n",
       "    </tr>\n",
       "    <tr>\n",
       "      <th>SF</th>\n",
       "      <td>5352</td>\n",
       "      <td>4283</td>\n",
       "    </tr>\n",
       "    <tr>\n",
       "      <th>STL</th>\n",
       "      <td>3963</td>\n",
       "      <td>2844</td>\n",
       "    </tr>\n",
       "    <tr>\n",
       "      <th>TB</th>\n",
       "      <td>5818</td>\n",
       "      <td>3950</td>\n",
       "    </tr>\n",
       "    <tr>\n",
       "      <th>TEN</th>\n",
       "      <td>5385</td>\n",
       "      <td>4112</td>\n",
       "    </tr>\n",
       "    <tr>\n",
       "      <th>WAS</th>\n",
       "      <td>5826</td>\n",
       "      <td>3990</td>\n",
       "    </tr>\n",
       "  </tbody>\n",
       "</table>\n",
       "</div>"
      ],
      "text/plain": [
       "play_type  pass   run\n",
       "posteam              \n",
       "ARI        6098  3714\n",
       "ATL        6201  3946\n",
       "BAL        5984  4274\n",
       "BUF        5377  4457\n",
       "CAR        5378  4549\n",
       "CHI        5561  4056\n",
       "CIN        5612  4282\n",
       "CLE        5824  3968\n",
       "DAL        5729  4162\n",
       "DEN        5979  4257\n",
       "DET        6535  3765\n",
       "GB         6030  3950\n",
       "HOU        5774  4540\n",
       "IND        6234  3876\n",
       "JAC        4157  2867\n",
       "JAX        1727  1270\n",
       "KC         5464  4351\n",
       "LA         1712  1176\n",
       "LAC        1098   769\n",
       "MIA        5740  3957\n",
       "MIN        5596  4221\n",
       "NE         6156  4357\n",
       "NO         6440  4005\n",
       "NYG        5941  3929\n",
       "NYJ        5414  4662\n",
       "OAK        5844  3958\n",
       "PHI        6112  4220\n",
       "PIT        5992  3982\n",
       "SD         4788  3352\n",
       "SEA        5322  4454\n",
       "SF         5352  4283\n",
       "STL        3963  2844\n",
       "TB         5818  3950\n",
       "TEN        5385  4112\n",
       "WAS        5826  3990"
      ]
     },
     "execution_count": 67,
     "metadata": {},
     "output_type": "execute_result"
    }
   ],
   "source": [
    "#Playcall by team\n",
    "run_pass.groupby(['posteam', 'play_type',]).count()['play_id'].unstack()"
   ]
  },
  {
   "cell_type": "code",
   "execution_count": 70,
   "metadata": {},
   "outputs": [
    {
     "data": {
      "text/plain": [
       "<AxesSubplot:xlabel='posteam'>"
      ]
     },
     "execution_count": 70,
     "metadata": {},
     "output_type": "execute_result"
    },
    {
     "data": {
      "image/png": "[encoded data removed]",
      "text/plain": [
       "<Figure size 1152x864 with 1 Axes>"
      ]
     },
     "metadata": {
      "needs_background": "light"
     },
     "output_type": "display_data"
    }
   ],
   "source": [
    "#Playcall by team\n",
    "run_pass.groupby(['posteam', 'play_type',]).count()['play_id'].unstack().plot.bar(figsize=(16,12))"
   ]
  },
  {
   "cell_type": "markdown",
   "metadata": {},
   "source": [
    "### Data cleaning"
   ]
  },
  {
   "cell_type": "code",
   "execution_count": 21,
   "metadata": {},
   "outputs": [
    {
     "name": "stdout",
     "output_type": "stream",
     "text": [
      "<class 'pandas.core.frame.DataFrame'>\n",
      "Int64Index: 319369 entries, 1 to 449368\n",
      "Data columns (total 29 columns):\n",
      " #   Column                      Non-Null Count   Dtype  \n",
      "---  ------                      --------------   -----  \n",
      " 0   play_id                     319369 non-null  int64  \n",
      " 1   game_id                     319369 non-null  int64  \n",
      " 2   home_team                   319369 non-null  object \n",
      " 3   away_team                   319369 non-null  object \n",
      " 4   posteam                     319369 non-null  object \n",
      " 5   posteam_type                319369 non-null  object \n",
      " 6   defteam                     319369 non-null  object \n",
      " 7   side_of_field               319369 non-null  object \n",
      " 8   yardline_100                319369 non-null  float64\n",
      " 9   game_date                   319369 non-null  object \n",
      " 10  quarter_seconds_remaining   319369 non-null  float64\n",
      " 11  half_seconds_remaining      319352 non-null  float64\n",
      " 12  game_seconds_remaining      319355 non-null  float64\n",
      " 13  game_half                   319369 non-null  object \n",
      " 14  drive                       319369 non-null  int64  \n",
      " 15  qtr                         319369 non-null  int64  \n",
      " 16  down                        318691 non-null  float64\n",
      " 17  ydstogo                     319369 non-null  int64  \n",
      " 18  play_type                   319369 non-null  object \n",
      " 19  home_timeouts_remaining     319369 non-null  int64  \n",
      " 20  away_timeouts_remaining     319369 non-null  int64  \n",
      " 21  posteam_timeouts_remaining  319369 non-null  float64\n",
      " 22  defteam_timeouts_remaining  319369 non-null  float64\n",
      " 23  total_away_score            319369 non-null  int64  \n",
      " 24  posteam_score               319369 non-null  float64\n",
      " 25  defteam_score               319369 non-null  float64\n",
      " 26  score_differential          319369 non-null  float64\n",
      " 27  game_year                   319369 non-null  object \n",
      " 28  lead                        319369 non-null  object \n",
      "dtypes: float64(10), int64(8), object(11)\n",
      "memory usage: 73.1+ MB\n"
     ]
    }
   ],
   "source": [
    "run_pass.info()"
   ]
  },
  {
   "cell_type": "markdown",
   "metadata": {},
   "source": [
    "Since there are only a few missing values (half_seconds_remaining, game_seconds_remaining, down), it is okay to drop these values without affecting our analysis."
   ]
  },
  {
   "cell_type": "code",
   "execution_count": 82,
   "metadata": {},
   "outputs": [
    {
     "name": "stderr",
     "output_type": "stream",
     "text": [
      "<ipython-input-82-e05c900ed3d3>:1: SettingWithCopyWarning: \n",
      "A value is trying to be set on a copy of a slice from a DataFrame\n",
      "\n",
      "See the caveats in the documentation: https://pandas.pydata.org/pandas-docs/stable/user_guide/indexing.html#returning-a-view-versus-a-copy\n",
      "  run_pass.dropna(inplace = True)\n"
     ]
    }
   ],
   "source": [
    "run_pass.dropna(inplace = True)"
   ]
  },
  {
   "cell_type": "code",
   "execution_count": 23,
   "metadata": {
    "scrolled": true
   },
   "outputs": [
    {
     "name": "stdout",
     "output_type": "stream",
     "text": [
      "<class 'pandas.core.frame.DataFrame'>\n",
      "Int64Index: 318668 entries, 1 to 449368\n",
      "Data columns (total 29 columns):\n",
      " #   Column                      Non-Null Count   Dtype  \n",
      "---  ------                      --------------   -----  \n",
      " 0   play_id                     318668 non-null  int64  \n",
      " 1   game_id                     318668 non-null  int64  \n",
      " 2   home_team                   318668 non-null  object \n",
      " 3   away_team                   318668 non-null  object \n",
      " 4   posteam                     318668 non-null  object \n",
      " 5   posteam_type                318668 non-null  object \n",
      " 6   defteam                     318668 non-null  object \n",
      " 7   side_of_field               318668 non-null  object \n",
      " 8   yardline_100                318668 non-null  float64\n",
      " 9   game_date                   318668 non-null  object \n",
      " 10  quarter_seconds_remaining   318668 non-null  float64\n",
      " 11  half_seconds_remaining      318668 non-null  float64\n",
      " 12  game_seconds_remaining      318668 non-null  float64\n",
      " 13  game_half                   318668 non-null  object \n",
      " 14  drive                       318668 non-null  int64  \n",
      " 15  qtr                         318668 non-null  int64  \n",
      " 16  down                        318668 non-null  float64\n",
      " 17  ydstogo                     318668 non-null  int64  \n",
      " 18  play_type                   318668 non-null  object \n",
      " 19  home_timeouts_remaining     318668 non-null  int64  \n",
      " 20  away_timeouts_remaining     318668 non-null  int64  \n",
      " 21  posteam_timeouts_remaining  318668 non-null  float64\n",
      " 22  defteam_timeouts_remaining  318668 non-null  float64\n",
      " 23  total_away_score            318668 non-null  int64  \n",
      " 24  posteam_score               318668 non-null  float64\n",
      " 25  defteam_score               318668 non-null  float64\n",
      " 26  score_differential          318668 non-null  float64\n",
      " 27  game_year                   318668 non-null  object \n",
      " 28  lead                        318668 non-null  object \n",
      "dtypes: float64(10), int64(8), object(11)\n",
      "memory usage: 72.9+ MB\n"
     ]
    }
   ],
   "source": [
    "run_pass.info()"
   ]
  },
  {
   "cell_type": "code",
   "execution_count": 83,
   "metadata": {
    "scrolled": true
   },
   "outputs": [
    {
     "name": "stderr",
     "output_type": "stream",
     "text": [
      "<ipython-input-83-ba1333f0e124>:5: SettingWithCopyWarning: \n",
      "A value is trying to be set on a copy of a slice from a DataFrame.\n",
      "Try using .loc[row_indexer,col_indexer] = value instead\n",
      "\n",
      "See the caveats in the documentation: https://pandas.pydata.org/pandas-docs/stable/user_guide/indexing.html#returning-a-view-versus-a-copy\n",
      "  run_pass['home_team'] = np.select(conditions, choices, default = run_pass['home_team'])\n"
     ]
    }
   ],
   "source": [
    "conditions = [run_pass['home_team'] == 'JAC', run_pass['home_team'] == 'STL', run_pass['home_team'] == 'SD']\n",
    "\n",
    "choices = ['JAX', 'LA', 'LAC']\n",
    "\n",
    "run_pass['home_team'] = np.select(conditions, choices, default = run_pass['home_team'])"
   ]
  },
  {
   "cell_type": "code",
   "execution_count": 84,
   "metadata": {},
   "outputs": [
    {
     "name": "stderr",
     "output_type": "stream",
     "text": [
      "<ipython-input-84-a010c62afb24>:5: SettingWithCopyWarning: \n",
      "A value is trying to be set on a copy of a slice from a DataFrame.\n",
      "Try using .loc[row_indexer,col_indexer] = value instead\n",
      "\n",
      "See the caveats in the documentation: https://pandas.pydata.org/pandas-docs/stable/user_guide/indexing.html#returning-a-view-versus-a-copy\n",
      "  run_pass['away_team'] = np.select(conditions, choices, default = run_pass['away_team'])\n"
     ]
    }
   ],
   "source": [
    "conditions = [run_pass['away_team'] == 'JAC', run_pass['away_team'] == 'STL', run_pass['away_team'] == 'SD']\n",
    "\n",
    "choices = ['JAX', 'LA', 'LAC']\n",
    "\n",
    "run_pass['away_team'] = np.select(conditions, choices, default = run_pass['away_team'])"
   ]
  },
  {
   "cell_type": "code",
   "execution_count": 85,
   "metadata": {},
   "outputs": [
    {
     "name": "stderr",
     "output_type": "stream",
     "text": [
      "<ipython-input-85-d46f30cd2c0a>:5: SettingWithCopyWarning: \n",
      "A value is trying to be set on a copy of a slice from a DataFrame.\n",
      "Try using .loc[row_indexer,col_indexer] = value instead\n",
      "\n",
      "See the caveats in the documentation: https://pandas.pydata.org/pandas-docs/stable/user_guide/indexing.html#returning-a-view-versus-a-copy\n",
      "  run_pass['posteam'] = np.select(conditions, choices, default = run_pass['posteam'])\n"
     ]
    }
   ],
   "source": [
    "conditions = [run_pass['posteam'] == 'JAC', run_pass['posteam'] == 'STL', run_pass['posteam'] == 'SD']\n",
    "\n",
    "choices = ['JAX', 'LA', 'LAC']\n",
    "\n",
    "run_pass['posteam'] = np.select(conditions, choices, default = run_pass['posteam'])"
   ]
  },
  {
   "cell_type": "code",
   "execution_count": 86,
   "metadata": {},
   "outputs": [
    {
     "name": "stderr",
     "output_type": "stream",
     "text": [
      "<ipython-input-86-1ec238a3c3d3>:5: SettingWithCopyWarning: \n",
      "A value is trying to be set on a copy of a slice from a DataFrame.\n",
      "Try using .loc[row_indexer,col_indexer] = value instead\n",
      "\n",
      "See the caveats in the documentation: https://pandas.pydata.org/pandas-docs/stable/user_guide/indexing.html#returning-a-view-versus-a-copy\n",
      "  run_pass['defteam'] = np.select(conditions, choices, default = run_pass['defteam'])\n"
     ]
    }
   ],
   "source": [
    "conditions = [run_pass['defteam'] == 'JAC', run_pass['defteam'] == 'STL', run_pass['defteam'] == 'SD']\n",
    "\n",
    "choices = ['JAX', 'LA', 'LAC']\n",
    "\n",
    "run_pass['defteam'] = np.select(conditions, choices, default = run_pass['defteam'])"
   ]
  },
  {
   "cell_type": "markdown",
   "metadata": {},
   "source": [
    "### Preparing data for first simple models"
   ]
  },
  {
   "cell_type": "code",
   "execution_count": 87,
   "metadata": {},
   "outputs": [
    {
     "name": "stderr",
     "output_type": "stream",
     "text": [
      "<ipython-input-87-1a17f77d415f>:2: SettingWithCopyWarning: \n",
      "A value is trying to be set on a copy of a slice from a DataFrame.\n",
      "Try using .loc[row_indexer,col_indexer] = value instead\n",
      "\n",
      "See the caveats in the documentation: https://pandas.pydata.org/pandas-docs/stable/user_guide/indexing.html#returning-a-view-versus-a-copy\n",
      "  run_pass['pass'] = np.where(run_pass['play_type']=='pass', 1, 0)\n"
     ]
    }
   ],
   "source": [
    "#defining run play as 0 and pass play as 1\n",
    "run_pass['pass'] = np.where(run_pass['play_type']=='pass', 1, 0)"
   ]
  },
  {
   "cell_type": "code",
   "execution_count": 88,
   "metadata": {},
   "outputs": [],
   "source": [
    "#picking features for simple model\n",
    "numeric_features = ['yardline_100', 'quarter_seconds_remaining', 'half_seconds_remaining', \\\n",
    "                    'game_seconds_remaining', 'drive', 'qtr', 'down', 'ydstogo', \\\n",
    "                    'posteam_timeouts_remaining', 'posteam_score', 'defteam_score', 'score_differential']"
   ]
  },
  {
   "cell_type": "code",
   "execution_count": 89,
   "metadata": {},
   "outputs": [],
   "source": [
    "X = run_pass[numeric_features]"
   ]
  },
  {
   "cell_type": "code",
   "execution_count": 90,
   "metadata": {},
   "outputs": [],
   "source": [
    "y = run_pass['pass']"
   ]
  },
  {
   "cell_type": "code",
   "execution_count": 91,
   "metadata": {},
   "outputs": [],
   "source": [
    "#train/test split\n",
    "X_train, X_test, y_train, y_test = train_test_split(X, y, random_state=2021)"
   ]
  },
  {
   "cell_type": "markdown",
   "metadata": {},
   "source": [
    "### Building dummy model"
   ]
  },
  {
   "cell_type": "code",
   "execution_count": 92,
   "metadata": {},
   "outputs": [],
   "source": [
    "#dummy model\n",
    "dummy_model = DummyClassifier(strategy=\"most_frequent\")"
   ]
  },
  {
   "cell_type": "code",
   "execution_count": 93,
   "metadata": {},
   "outputs": [
    {
     "data": {
      "text/plain": [
       "DummyClassifier(strategy='most_frequent')"
      ]
     },
     "execution_count": 93,
     "metadata": {},
     "output_type": "execute_result"
    }
   ],
   "source": [
    "dummy_model.fit(X_train, y_train)"
   ]
  },
  {
   "cell_type": "code",
   "execution_count": 94,
   "metadata": {},
   "outputs": [
    {
     "data": {
      "image/png": "[encoded data removed]",
      "text/plain": [
       "<Figure size 432x288 with 2 Axes>"
      ]
     },
     "metadata": {
      "needs_background": "light"
     },
     "output_type": "display_data"
    }
   ],
   "source": [
    "#confusion matrix for test data\n",
    "fig, ax = plt.subplots()\n",
    "\n",
    "fig.suptitle(\"Dummy Model\")\n",
    "\n",
    "plot_confusion_matrix(dummy_model, X_test, y_test, ax=ax, cmap=\"plasma\");"
   ]
  },
  {
   "cell_type": "code",
   "execution_count": 95,
   "metadata": {},
   "outputs": [
    {
     "data": {
      "text/plain": [
       "0.5851230747988502"
      ]
     },
     "execution_count": 95,
     "metadata": {},
     "output_type": "execute_result"
    }
   ],
   "source": [
    "#accuracy\n",
    "from sklearn.metrics import accuracy_score\n",
    "accuracy_score(y_test, dummy_model.predict(X_test))"
   ]
  },
  {
   "cell_type": "code",
   "execution_count": 96,
   "metadata": {},
   "outputs": [
    {
     "data": {
      "text/plain": [
       "0.5851230747988502"
      ]
     },
     "execution_count": 96,
     "metadata": {},
     "output_type": "execute_result"
    }
   ],
   "source": [
    "#precision\n",
    "from sklearn.metrics import precision_score\n",
    "precision_score(y_test, dummy_model.predict(X_test))"
   ]
  },
  {
   "cell_type": "code",
   "execution_count": 97,
   "metadata": {},
   "outputs": [
    {
     "data": {
      "text/plain": [
       "1.0"
      ]
     },
     "execution_count": 97,
     "metadata": {},
     "output_type": "execute_result"
    }
   ],
   "source": [
    "#recall\n",
    "from sklearn.metrics import recall_score\n",
    "recall_score(y_test, dummy_model.predict(X_test))"
   ]
  },
  {
   "cell_type": "code",
   "execution_count": 98,
   "metadata": {},
   "outputs": [
    {
     "data": {
      "text/plain": [
       "0.7382683201089625"
      ]
     },
     "execution_count": 98,
     "metadata": {},
     "output_type": "execute_result"
    }
   ],
   "source": [
    "#f1\n",
    "from sklearn.metrics import f1_score\n",
    "f1_score(y_test, dummy_model.predict(X_test))"
   ]
  },
  {
   "cell_type": "markdown",
   "metadata": {},
   "source": [
    "### Building a simple logistic regression model"
   ]
  },
  {
   "cell_type": "code",
   "execution_count": 99,
   "metadata": {},
   "outputs": [],
   "source": [
    "simple_logreg_model = LogisticRegression(random_state=2021, penalty='none', max_iter = 500)"
   ]
  },
  {
   "cell_type": "code",
   "execution_count": 100,
   "metadata": {
    "scrolled": true
   },
   "outputs": [
    {
     "name": "stderr",
     "output_type": "stream",
     "text": [
      "/Users/jameshodgens/opt/anaconda3/envs/learn-env/lib/python3.8/site-packages/sklearn/linear_model/_logistic.py:762: ConvergenceWarning: lbfgs failed to converge (status=1):\n",
      "STOP: TOTAL NO. of ITERATIONS REACHED LIMIT.\n",
      "\n",
      "Increase the number of iterations (max_iter) or scale the data as shown in:\n",
      "    https://scikit-learn.org/stable/modules/preprocessing.html\n",
      "Please also refer to the documentation for alternative solver options:\n",
      "    https://scikit-learn.org/stable/modules/linear_model.html#logistic-regression\n",
      "  n_iter_i = _check_optimize_result(\n"
     ]
    },
    {
     "data": {
      "text/plain": [
       "LogisticRegression(max_iter=500, penalty='none', random_state=2021)"
      ]
     },
     "execution_count": 100,
     "metadata": {},
     "output_type": "execute_result"
    }
   ],
   "source": [
    "simple_logreg_model.fit(X_train, y_train)"
   ]
  },
  {
   "cell_type": "code",
   "execution_count": 101,
   "metadata": {},
   "outputs": [
    {
     "data": {
      "image/png": "[encoded data removed]",
      "text/plain": [
       "<Figure size 432x288 with 2 Axes>"
      ]
     },
     "metadata": {
      "needs_background": "light"
     },
     "output_type": "display_data"
    }
   ],
   "source": [
    "#confusion matrix for test data\n",
    "fig, ax = plt.subplots()\n",
    "\n",
    "fig.suptitle(\"Simple Logistic Regression Model\")\n",
    "\n",
    "plot_confusion_matrix(simple_logreg_model, X_test, y_test, ax=ax, cmap=\"plasma\");"
   ]
  },
  {
   "cell_type": "code",
   "execution_count": 102,
   "metadata": {},
   "outputs": [
    {
     "data": {
      "text/plain": [
       "0.6550893092497521"
      ]
     },
     "execution_count": 102,
     "metadata": {},
     "output_type": "execute_result"
    }
   ],
   "source": [
    "#accuracy\n",
    "from sklearn.metrics import accuracy_score\n",
    "accuracy_score(y_test, simple_logreg_model.predict(X_test))"
   ]
  },
  {
   "cell_type": "code",
   "execution_count": 103,
   "metadata": {},
   "outputs": [
    {
     "data": {
      "text/plain": [
       "0.681775869602386"
      ]
     },
     "execution_count": 103,
     "metadata": {},
     "output_type": "execute_result"
    }
   ],
   "source": [
    "#precision\n",
    "from sklearn.metrics import precision_score\n",
    "precision_score(y_test, simple_logreg_model.predict(X_test))"
   ]
  },
  {
   "cell_type": "code",
   "execution_count": 104,
   "metadata": {},
   "outputs": [
    {
     "data": {
      "text/plain": [
       "0.769880939611713"
      ]
     },
     "execution_count": 104,
     "metadata": {},
     "output_type": "execute_result"
    }
   ],
   "source": [
    "#recall\n",
    "from sklearn.metrics import recall_score\n",
    "recall_score(y_test, simple_logreg_model.predict(X_test))"
   ]
  },
  {
   "cell_type": "code",
   "execution_count": 105,
   "metadata": {},
   "outputs": [
    {
     "data": {
      "text/plain": [
       "0.7231547343180122"
      ]
     },
     "execution_count": 105,
     "metadata": {},
     "output_type": "execute_result"
    }
   ],
   "source": [
    "#f1\n",
    "from sklearn.metrics import f1_score\n",
    "f1_score(y_test, simple_logreg_model.predict(X_test))"
   ]
  },
  {
   "cell_type": "markdown",
   "metadata": {},
   "source": [
    "### Feature engineering"
   ]
  },
  {
   "cell_type": "code",
   "execution_count": 106,
   "metadata": {
    "scrolled": false
   },
   "outputs": [
    {
     "name": "stdout",
     "output_type": "stream",
     "text": [
      "<class 'pandas.core.frame.DataFrame'>\n",
      "Int64Index: 318668 entries, 1 to 449368\n",
      "Data columns (total 29 columns):\n",
      " #   Column                      Non-Null Count   Dtype  \n",
      "---  ------                      --------------   -----  \n",
      " 0   play_id                     318668 non-null  int64  \n",
      " 1   game_id                     318668 non-null  int64  \n",
      " 2   home_team                   318668 non-null  object \n",
      " 3   away_team                   318668 non-null  object \n",
      " 4   posteam                     318668 non-null  object \n",
      " 5   posteam_type                318668 non-null  object \n",
      " 6   defteam                     318668 non-null  object \n",
      " 7   side_of_field               318668 non-null  object \n",
      " 8   yardline_100                318668 non-null  float64\n",
      " 9   game_date                   318668 non-null  object \n",
      " 10  quarter_seconds_remaining   318668 non-null  float64\n",
      " 11  half_seconds_remaining      318668 non-null  float64\n",
      " 12  game_seconds_remaining      318668 non-null  float64\n",
      " 13  game_half                   318668 non-null  object \n",
      " 14  drive                       318668 non-null  int64  \n",
      " 15  qtr                         318668 non-null  int64  \n",
      " 16  down                        318668 non-null  float64\n",
      " 17  ydstogo                     318668 non-null  int64  \n",
      " 18  play_type                   318668 non-null  object \n",
      " 19  home_timeouts_remaining     318668 non-null  int64  \n",
      " 20  away_timeouts_remaining     318668 non-null  int64  \n",
      " 21  posteam_timeouts_remaining  318668 non-null  float64\n",
      " 22  defteam_timeouts_remaining  318668 non-null  float64\n",
      " 23  total_away_score            318668 non-null  int64  \n",
      " 24  posteam_score               318668 non-null  float64\n",
      " 25  defteam_score               318668 non-null  float64\n",
      " 26  score_differential          318668 non-null  float64\n",
      " 27  game_year                   318668 non-null  object \n",
      " 28  pass                        318668 non-null  int64  \n",
      "dtypes: float64(10), int64(9), object(10)\n",
      "memory usage: 72.9+ MB\n"
     ]
    }
   ],
   "source": [
    "run_pass.info()"
   ]
  },
  {
   "cell_type": "code",
   "execution_count": 112,
   "metadata": {},
   "outputs": [
    {
     "name": "stderr",
     "output_type": "stream",
     "text": [
      "<ipython-input-112-f44b5c67df69>:2: SettingWithCopyWarning: \n",
      "A value is trying to be set on a copy of a slice from a DataFrame.\n",
      "Try using .loc[row_indexer,col_indexer] = value instead\n",
      "\n",
      "See the caveats in the documentation: https://pandas.pydata.org/pandas-docs/stable/user_guide/indexing.html#returning-a-view-versus-a-copy\n",
      "  run_pass['red_zone'] = np.where(run_pass['yardline_100']<=20, 1, 0)\n"
     ]
    }
   ],
   "source": [
    "#Adding feature if team is in the red zone\n",
    "run_pass['red_zone'] = np.where(run_pass['yardline_100']<=20, 1, 0)"
   ]
  },
  {
   "cell_type": "code",
   "execution_count": 114,
   "metadata": {},
   "outputs": [
    {
     "name": "stderr",
     "output_type": "stream",
     "text": [
      "/Users/jameshodgens/opt/anaconda3/envs/learn-env/lib/python3.8/site-packages/ipykernel/ipkernel.py:287: DeprecationWarning: `should_run_async` will not call `transform_cell` automatically in the future. Please pass the result to `transformed_cell` argument and any exception that happen during thetransform in `preprocessing_exc_tuple` in IPython 7.17 and above.\n",
      "  and should_run_async(code)\n",
      "<ipython-input-114-be7f581d9452>:2: SettingWithCopyWarning: \n",
      "A value is trying to be set on a copy of a slice from a DataFrame.\n",
      "Try using .loc[row_indexer,col_indexer] = value instead\n",
      "\n",
      "See the caveats in the documentation: https://pandas.pydata.org/pandas-docs/stable/user_guide/indexing.html#returning-a-view-versus-a-copy\n",
      "  run_pass['two_min'] = np.where(run_pass['half_seconds_remaining']<=120, 1, 0)\n"
     ]
    }
   ],
   "source": [
    "#Adding feature for two minute drill\n",
    "run_pass['two_min'] = np.where(run_pass['half_seconds_remaining']<=120, 1, 0)"
   ]
  },
  {
   "cell_type": "code",
   "execution_count": 117,
   "metadata": {},
   "outputs": [
    {
     "name": "stdout",
     "output_type": "stream",
     "text": [
      "<class 'pandas.core.frame.DataFrame'>\n",
      "Int64Index: 318668 entries, 1 to 449368\n",
      "Data columns (total 31 columns):\n",
      " #   Column                      Non-Null Count   Dtype  \n",
      "---  ------                      --------------   -----  \n",
      " 0   play_id                     318668 non-null  int64  \n",
      " 1   game_id                     318668 non-null  int64  \n",
      " 2   home_team                   318668 non-null  object \n",
      " 3   away_team                   318668 non-null  object \n",
      " 4   posteam                     318668 non-null  object \n",
      " 5   posteam_type                318668 non-null  object \n",
      " 6   defteam                     318668 non-null  object \n",
      " 7   side_of_field               318668 non-null  object \n",
      " 8   yardline_100                318668 non-null  float64\n",
      " 9   game_date                   318668 non-null  object \n",
      " 10  quarter_seconds_remaining   318668 non-null  float64\n",
      " 11  half_seconds_remaining      318668 non-null  float64\n",
      " 12  game_seconds_remaining      318668 non-null  float64\n",
      " 13  game_half                   318668 non-null  object \n",
      " 14  drive                       318668 non-null  int64  \n",
      " 15  qtr                         318668 non-null  int64  \n",
      " 16  down                        318668 non-null  float64\n",
      " 17  ydstogo                     318668 non-null  int64  \n",
      " 18  play_type                   318668 non-null  object \n",
      " 19  home_timeouts_remaining     318668 non-null  int64  \n",
      " 20  away_timeouts_remaining     318668 non-null  int64  \n",
      " 21  posteam_timeouts_remaining  318668 non-null  float64\n",
      " 22  defteam_timeouts_remaining  318668 non-null  float64\n",
      " 23  total_away_score            318668 non-null  int64  \n",
      " 24  posteam_score               318668 non-null  float64\n",
      " 25  defteam_score               318668 non-null  float64\n",
      " 26  score_differential          318668 non-null  float64\n",
      " 27  game_year                   318668 non-null  object \n",
      " 28  pass                        318668 non-null  int64  \n",
      " 29  red_zone                    318668 non-null  int64  \n",
      " 30  two_min                     318668 non-null  int64  \n",
      "dtypes: float64(10), int64(11), object(10)\n",
      "memory usage: 77.8+ MB\n"
     ]
    },
    {
     "name": "stderr",
     "output_type": "stream",
     "text": [
      "/Users/jameshodgens/opt/anaconda3/envs/learn-env/lib/python3.8/site-packages/ipykernel/ipkernel.py:287: DeprecationWarning: `should_run_async` will not call `transform_cell` automatically in the future. Please pass the result to `transformed_cell` argument and any exception that happen during thetransform in `preprocessing_exc_tuple` in IPython 7.17 and above.\n",
      "  and should_run_async(code)\n"
     ]
    }
   ],
   "source": [
    "run_pass.info()"
   ]
  },
  {
   "cell_type": "code",
   "execution_count": 119,
   "metadata": {
    "scrolled": true
   },
   "outputs": [
    {
     "name": "stderr",
     "output_type": "stream",
     "text": [
      "/Users/jameshodgens/opt/anaconda3/envs/learn-env/lib/python3.8/site-packages/ipykernel/ipkernel.py:287: DeprecationWarning: `should_run_async` will not call `transform_cell` automatically in the future. Please pass the result to `transformed_cell` argument and any exception that happen during thetransform in `preprocessing_exc_tuple` in IPython 7.17 and above.\n",
      "  and should_run_async(code)\n"
     ]
    }
   ],
   "source": [
    "rp_df = pd.get_dummies(run_pass, columns = ['qtr', 'down', 'posteam'], drop_first = True)"
   ]
  },
  {
   "cell_type": "code",
   "execution_count": 120,
   "metadata": {},
   "outputs": [
    {
     "name": "stdout",
     "output_type": "stream",
     "text": [
      "<class 'pandas.core.frame.DataFrame'>\n",
      "Int64Index: 318668 entries, 1 to 449368\n",
      "Data columns (total 66 columns):\n",
      " #   Column                      Non-Null Count   Dtype  \n",
      "---  ------                      --------------   -----  \n",
      " 0   play_id                     318668 non-null  int64  \n",
      " 1   game_id                     318668 non-null  int64  \n",
      " 2   home_team                   318668 non-null  object \n",
      " 3   away_team                   318668 non-null  object \n",
      " 4   posteam_type                318668 non-null  object \n",
      " 5   defteam                     318668 non-null  object \n",
      " 6   side_of_field               318668 non-null  object \n",
      " 7   yardline_100                318668 non-null  float64\n",
      " 8   game_date                   318668 non-null  object \n",
      " 9   quarter_seconds_remaining   318668 non-null  float64\n",
      " 10  half_seconds_remaining      318668 non-null  float64\n",
      " 11  game_seconds_remaining      318668 non-null  float64\n",
      " 12  game_half                   318668 non-null  object \n",
      " 13  drive                       318668 non-null  int64  \n",
      " 14  ydstogo                     318668 non-null  int64  \n",
      " 15  play_type                   318668 non-null  object \n",
      " 16  home_timeouts_remaining     318668 non-null  int64  \n",
      " 17  away_timeouts_remaining     318668 non-null  int64  \n",
      " 18  posteam_timeouts_remaining  318668 non-null  float64\n",
      " 19  defteam_timeouts_remaining  318668 non-null  float64\n",
      " 20  total_away_score            318668 non-null  int64  \n",
      " 21  posteam_score               318668 non-null  float64\n",
      " 22  defteam_score               318668 non-null  float64\n",
      " 23  score_differential          318668 non-null  float64\n",
      " 24  game_year                   318668 non-null  object \n",
      " 25  pass                        318668 non-null  int64  \n",
      " 26  red_zone                    318668 non-null  int64  \n",
      " 27  two_min                     318668 non-null  int64  \n",
      " 28  qtr_2                       318668 non-null  uint8  \n",
      " 29  qtr_3                       318668 non-null  uint8  \n",
      " 30  qtr_4                       318668 non-null  uint8  \n",
      " 31  qtr_5                       318668 non-null  uint8  \n",
      " 32  down_2.0                    318668 non-null  uint8  \n",
      " 33  down_3.0                    318668 non-null  uint8  \n",
      " 34  down_4.0                    318668 non-null  uint8  \n",
      " 35  posteam_ATL                 318668 non-null  uint8  \n",
      " 36  posteam_BAL                 318668 non-null  uint8  \n",
      " 37  posteam_BUF                 318668 non-null  uint8  \n",
      " 38  posteam_CAR                 318668 non-null  uint8  \n",
      " 39  posteam_CHI                 318668 non-null  uint8  \n",
      " 40  posteam_CIN                 318668 non-null  uint8  \n",
      " 41  posteam_CLE                 318668 non-null  uint8  \n",
      " 42  posteam_DAL                 318668 non-null  uint8  \n",
      " 43  posteam_DEN                 318668 non-null  uint8  \n",
      " 44  posteam_DET                 318668 non-null  uint8  \n",
      " 45  posteam_GB                  318668 non-null  uint8  \n",
      " 46  posteam_HOU                 318668 non-null  uint8  \n",
      " 47  posteam_IND                 318668 non-null  uint8  \n",
      " 48  posteam_JAX                 318668 non-null  uint8  \n",
      " 49  posteam_KC                  318668 non-null  uint8  \n",
      " 50  posteam_LA                  318668 non-null  uint8  \n",
      " 51  posteam_LAC                 318668 non-null  uint8  \n",
      " 52  posteam_MIA                 318668 non-null  uint8  \n",
      " 53  posteam_MIN                 318668 non-null  uint8  \n",
      " 54  posteam_NE                  318668 non-null  uint8  \n",
      " 55  posteam_NO                  318668 non-null  uint8  \n",
      " 56  posteam_NYG                 318668 non-null  uint8  \n",
      " 57  posteam_NYJ                 318668 non-null  uint8  \n",
      " 58  posteam_OAK                 318668 non-null  uint8  \n",
      " 59  posteam_PHI                 318668 non-null  uint8  \n",
      " 60  posteam_PIT                 318668 non-null  uint8  \n",
      " 61  posteam_SEA                 318668 non-null  uint8  \n",
      " 62  posteam_SF                  318668 non-null  uint8  \n",
      " 63  posteam_TB                  318668 non-null  uint8  \n",
      " 64  posteam_TEN                 318668 non-null  uint8  \n",
      " 65  posteam_WAS                 318668 non-null  uint8  \n",
      "dtypes: float64(9), int64(10), object(9), uint8(38)\n",
      "memory usage: 82.1+ MB\n"
     ]
    }
   ],
   "source": [
    "rp_df.info()"
   ]
  },
  {
   "cell_type": "code",
   "execution_count": 122,
   "metadata": {},
   "outputs": [
    {
     "name": "stderr",
     "output_type": "stream",
     "text": [
      "/Users/jameshodgens/opt/anaconda3/envs/learn-env/lib/python3.8/site-packages/ipykernel/ipkernel.py:287: DeprecationWarning: `should_run_async` will not call `transform_cell` automatically in the future. Please pass the result to `transformed_cell` argument and any exception that happen during thetransform in `preprocessing_exc_tuple` in IPython 7.17 and above.\n",
      "  and should_run_async(code)\n"
     ]
    }
   ],
   "source": [
    "X = rp_df.drop(columns = ['play_id', 'game_id', 'home_team', 'away_team', 'posteam_type', 'defteam', \\\n",
    "                         'side_of_field', 'game_date', 'game_half', 'play_type', 'home_timeouts_remaining', \\\n",
    "                         'away_timeouts_remaining', 'defteam_timeouts_remaining', 'total_away_score', \\\n",
    "                          'game_year', 'pass'])"
   ]
  },
  {
   "cell_type": "code",
   "execution_count": 123,
   "metadata": {},
   "outputs": [],
   "source": [
    "y = rp_df['pass']"
   ]
  },
  {
   "cell_type": "code",
   "execution_count": 124,
   "metadata": {},
   "outputs": [],
   "source": [
    "#train/test split\n",
    "X_train, X_test, y_train, y_test = train_test_split(X, y, random_state=2021)"
   ]
  },
  {
   "cell_type": "code",
   "execution_count": 125,
   "metadata": {},
   "outputs": [],
   "source": [
    "names = ['Logistic Regression', 'Random Forest', 'Decision Tree']"
   ]
  },
  {
   "cell_type": "code",
   "execution_count": 127,
   "metadata": {},
   "outputs": [],
   "source": [
    "from sklearn.ensemble import RandomForestClassifier"
   ]
  },
  {
   "cell_type": "code",
   "execution_count": 129,
   "metadata": {},
   "outputs": [],
   "source": [
    "from sklearn.tree import DecisionTreeClassifier"
   ]
  },
  {
   "cell_type": "code",
   "execution_count": 130,
   "metadata": {},
   "outputs": [],
   "source": [
    "classifiers = [LogisticRegression(random_state=2021, penalty='none', max_iter = 500), \n",
    "              RandomForestClassifier(max_depth = 5, n_estimators = 100),\n",
    "              DecisionTreeClassifier(max_depth = 5)]"
   ]
  },
  {
   "cell_type": "code",
   "execution_count": 131,
   "metadata": {},
   "outputs": [
    {
     "name": "stderr",
     "output_type": "stream",
     "text": [
      "/Users/jameshodgens/opt/anaconda3/envs/learn-env/lib/python3.8/site-packages/sklearn/linear_model/_logistic.py:762: ConvergenceWarning: lbfgs failed to converge (status=1):\n",
      "STOP: TOTAL NO. of ITERATIONS REACHED LIMIT.\n",
      "\n",
      "Increase the number of iterations (max_iter) or scale the data as shown in:\n",
      "    https://scikit-learn.org/stable/modules/preprocessing.html\n",
      "Please also refer to the documentation for alternative solver options:\n",
      "    https://scikit-learn.org/stable/modules/linear_model.html#logistic-regression\n",
      "  n_iter_i = _check_optimize_result(\n"
     ]
    }
   ],
   "source": [
    "scores = []\n",
    "for name, clf in zip(names, classifiers):\n",
    "    clf.fit(X_train, y_train)\n",
    "    score = clf.score(X_test, y_test)\n",
    "    scores.append(score)"
   ]
  },
  {
   "cell_type": "code",
   "execution_count": 132,
   "metadata": {},
   "outputs": [
    {
     "name": "stderr",
     "output_type": "stream",
     "text": [
      "/Users/jameshodgens/opt/anaconda3/envs/learn-env/lib/python3.8/site-packages/ipykernel/ipkernel.py:287: DeprecationWarning: `should_run_async` will not call `transform_cell` automatically in the future. Please pass the result to `transformed_cell` argument and any exception that happen during thetransform in `preprocessing_exc_tuple` in IPython 7.17 and above.\n",
      "  and should_run_async(code)\n"
     ]
    },
    {
     "data": {
      "text/plain": [
       "[0.654009815858511, 0.647959631968067, 0.6607629256781352]"
      ]
     },
     "execution_count": 132,
     "metadata": {},
     "output_type": "execute_result"
    }
   ],
   "source": [
    "scores"
   ]
  },
  {
   "cell_type": "code",
   "execution_count": null,
   "metadata": {},
   "outputs": [],
   "source": []
  }
 ],
 "metadata": {
  "kernelspec": {
   "display_name": "Python 3",
   "language": "python",
   "name": "python3"
  },
  "language_info": {
   "codemirror_mode": {
    "name": "ipython",
    "version": 3
   },
   "file_extension": ".py",
   "mimetype": "text/x-python",
   "name": "python",
   "nbconvert_exporter": "python",
   "pygments_lexer": "ipython3",
   "version": "3.8.5"
  }
 },
 "nbformat": 4,
 "nbformat_minor": 4
}
