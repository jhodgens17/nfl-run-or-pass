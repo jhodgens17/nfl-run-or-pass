{
 "cells": [
  {
   "cell_type": "markdown",
   "metadata": {},
   "source": [
    "### Import packages and data"
   ]
  },
  {
   "cell_type": "code",
   "execution_count": 1,
   "metadata": {},
   "outputs": [],
   "source": [
    "import pandas as pd\n",
    "import numpy as np\n",
    "import math\n",
    "\n",
    "import matplotlib.pyplot as plt\n",
    "import seaborn as sns\n",
    "%matplotlib inline\n",
    "\n",
    "from sklearn.preprocessing import OneHotEncoder, StandardScaler\n",
    "\n",
    "from sklearn.impute import MissingIndicator, SimpleImputer\n",
    "\n",
    "from sklearn.dummy import DummyClassifier\n",
    "from sklearn.linear_model import LogisticRegression\n",
    "\n",
    "from sklearn.model_selection import train_test_split, cross_val_score\n",
    "from sklearn.feature_selection import SelectFromModel\n",
    "\n",
    "from sklearn.metrics import plot_confusion_matrix\n",
    "from sklearn.metrics import confusion_matrix\n",
    "from sklearn.metrics import plot_roc_curve"
   ]
  },
  {
   "cell_type": "code",
   "execution_count": 2,
   "metadata": {},
   "outputs": [],
   "source": [
    "import warnings\n",
    "warnings.filterwarnings('ignore')"
   ]
  },
  {
   "cell_type": "code",
   "execution_count": 3,
   "metadata": {
    "scrolled": true
   },
   "outputs": [],
   "source": [
    "nfl_df = pd.read_csv('NFL_Play_by_Play_2009-2018_(v5).csv')"
   ]
  },
  {
   "cell_type": "markdown",
   "metadata": {},
   "source": [
    "### Exploratory data analysis"
   ]
  },
  {
   "cell_type": "code",
   "execution_count": 136,
   "metadata": {
    "scrolled": true
   },
   "outputs": [
    {
     "data": {
      "text/html": [
       "<div>\n",
       "<style scoped>\n",
       "    .dataframe tbody tr th:only-of-type {\n",
       "        vertical-align: middle;\n",
       "    }\n",
       "\n",
       "    .dataframe tbody tr th {\n",
       "        vertical-align: top;\n",
       "    }\n",
       "\n",
       "    .dataframe thead th {\n",
       "        text-align: right;\n",
       "    }\n",
       "</style>\n",
       "<table border=\"1\" class=\"dataframe\">\n",
       "  <thead>\n",
       "    <tr style=\"text-align: right;\">\n",
       "      <th></th>\n",
       "      <th>play_id</th>\n",
       "      <th>game_id</th>\n",
       "      <th>home_team</th>\n",
       "      <th>away_team</th>\n",
       "      <th>posteam</th>\n",
       "      <th>posteam_type</th>\n",
       "      <th>defteam</th>\n",
       "      <th>side_of_field</th>\n",
       "      <th>yardline_100</th>\n",
       "      <th>game_date</th>\n",
       "      <th>...</th>\n",
       "      <th>penalty_player_id</th>\n",
       "      <th>penalty_player_name</th>\n",
       "      <th>penalty_yards</th>\n",
       "      <th>replay_or_challenge</th>\n",
       "      <th>replay_or_challenge_result</th>\n",
       "      <th>penalty_type</th>\n",
       "      <th>defensive_two_point_attempt</th>\n",
       "      <th>defensive_two_point_conv</th>\n",
       "      <th>defensive_extra_point_attempt</th>\n",
       "      <th>defensive_extra_point_conv</th>\n",
       "    </tr>\n",
       "  </thead>\n",
       "  <tbody>\n",
       "    <tr>\n",
       "      <th>0</th>\n",
       "      <td>46</td>\n",
       "      <td>2009091000</td>\n",
       "      <td>PIT</td>\n",
       "      <td>TEN</td>\n",
       "      <td>PIT</td>\n",
       "      <td>home</td>\n",
       "      <td>TEN</td>\n",
       "      <td>TEN</td>\n",
       "      <td>30.0</td>\n",
       "      <td>2009-09-10</td>\n",
       "      <td>...</td>\n",
       "      <td>NaN</td>\n",
       "      <td>NaN</td>\n",
       "      <td>NaN</td>\n",
       "      <td>0</td>\n",
       "      <td>NaN</td>\n",
       "      <td>NaN</td>\n",
       "      <td>0.0</td>\n",
       "      <td>0.0</td>\n",
       "      <td>0.0</td>\n",
       "      <td>0.0</td>\n",
       "    </tr>\n",
       "    <tr>\n",
       "      <th>1</th>\n",
       "      <td>68</td>\n",
       "      <td>2009091000</td>\n",
       "      <td>PIT</td>\n",
       "      <td>TEN</td>\n",
       "      <td>PIT</td>\n",
       "      <td>home</td>\n",
       "      <td>TEN</td>\n",
       "      <td>PIT</td>\n",
       "      <td>58.0</td>\n",
       "      <td>2009-09-10</td>\n",
       "      <td>...</td>\n",
       "      <td>NaN</td>\n",
       "      <td>NaN</td>\n",
       "      <td>NaN</td>\n",
       "      <td>0</td>\n",
       "      <td>NaN</td>\n",
       "      <td>NaN</td>\n",
       "      <td>0.0</td>\n",
       "      <td>0.0</td>\n",
       "      <td>0.0</td>\n",
       "      <td>0.0</td>\n",
       "    </tr>\n",
       "    <tr>\n",
       "      <th>2</th>\n",
       "      <td>92</td>\n",
       "      <td>2009091000</td>\n",
       "      <td>PIT</td>\n",
       "      <td>TEN</td>\n",
       "      <td>PIT</td>\n",
       "      <td>home</td>\n",
       "      <td>TEN</td>\n",
       "      <td>PIT</td>\n",
       "      <td>53.0</td>\n",
       "      <td>2009-09-10</td>\n",
       "      <td>...</td>\n",
       "      <td>NaN</td>\n",
       "      <td>NaN</td>\n",
       "      <td>NaN</td>\n",
       "      <td>0</td>\n",
       "      <td>NaN</td>\n",
       "      <td>NaN</td>\n",
       "      <td>0.0</td>\n",
       "      <td>0.0</td>\n",
       "      <td>0.0</td>\n",
       "      <td>0.0</td>\n",
       "    </tr>\n",
       "    <tr>\n",
       "      <th>3</th>\n",
       "      <td>113</td>\n",
       "      <td>2009091000</td>\n",
       "      <td>PIT</td>\n",
       "      <td>TEN</td>\n",
       "      <td>PIT</td>\n",
       "      <td>home</td>\n",
       "      <td>TEN</td>\n",
       "      <td>PIT</td>\n",
       "      <td>56.0</td>\n",
       "      <td>2009-09-10</td>\n",
       "      <td>...</td>\n",
       "      <td>NaN</td>\n",
       "      <td>NaN</td>\n",
       "      <td>NaN</td>\n",
       "      <td>0</td>\n",
       "      <td>NaN</td>\n",
       "      <td>NaN</td>\n",
       "      <td>0.0</td>\n",
       "      <td>0.0</td>\n",
       "      <td>0.0</td>\n",
       "      <td>0.0</td>\n",
       "    </tr>\n",
       "    <tr>\n",
       "      <th>4</th>\n",
       "      <td>139</td>\n",
       "      <td>2009091000</td>\n",
       "      <td>PIT</td>\n",
       "      <td>TEN</td>\n",
       "      <td>PIT</td>\n",
       "      <td>home</td>\n",
       "      <td>TEN</td>\n",
       "      <td>PIT</td>\n",
       "      <td>56.0</td>\n",
       "      <td>2009-09-10</td>\n",
       "      <td>...</td>\n",
       "      <td>NaN</td>\n",
       "      <td>NaN</td>\n",
       "      <td>NaN</td>\n",
       "      <td>0</td>\n",
       "      <td>NaN</td>\n",
       "      <td>NaN</td>\n",
       "      <td>0.0</td>\n",
       "      <td>0.0</td>\n",
       "      <td>0.0</td>\n",
       "      <td>0.0</td>\n",
       "    </tr>\n",
       "  </tbody>\n",
       "</table>\n",
       "<p>5 rows × 255 columns</p>\n",
       "</div>"
      ],
      "text/plain": [
       "   play_id     game_id home_team away_team posteam posteam_type defteam  \\\n",
       "0       46  2009091000       PIT       TEN     PIT         home     TEN   \n",
       "1       68  2009091000       PIT       TEN     PIT         home     TEN   \n",
       "2       92  2009091000       PIT       TEN     PIT         home     TEN   \n",
       "3      113  2009091000       PIT       TEN     PIT         home     TEN   \n",
       "4      139  2009091000       PIT       TEN     PIT         home     TEN   \n",
       "\n",
       "  side_of_field  yardline_100   game_date  ...  penalty_player_id  \\\n",
       "0           TEN          30.0  2009-09-10  ...                NaN   \n",
       "1           PIT          58.0  2009-09-10  ...                NaN   \n",
       "2           PIT          53.0  2009-09-10  ...                NaN   \n",
       "3           PIT          56.0  2009-09-10  ...                NaN   \n",
       "4           PIT          56.0  2009-09-10  ...                NaN   \n",
       "\n",
       "   penalty_player_name  penalty_yards replay_or_challenge  \\\n",
       "0                  NaN            NaN                   0   \n",
       "1                  NaN            NaN                   0   \n",
       "2                  NaN            NaN                   0   \n",
       "3                  NaN            NaN                   0   \n",
       "4                  NaN            NaN                   0   \n",
       "\n",
       "   replay_or_challenge_result  penalty_type  defensive_two_point_attempt  \\\n",
       "0                         NaN           NaN                          0.0   \n",
       "1                         NaN           NaN                          0.0   \n",
       "2                         NaN           NaN                          0.0   \n",
       "3                         NaN           NaN                          0.0   \n",
       "4                         NaN           NaN                          0.0   \n",
       "\n",
       "   defensive_two_point_conv  defensive_extra_point_attempt  \\\n",
       "0                       0.0                            0.0   \n",
       "1                       0.0                            0.0   \n",
       "2                       0.0                            0.0   \n",
       "3                       0.0                            0.0   \n",
       "4                       0.0                            0.0   \n",
       "\n",
       "   defensive_extra_point_conv  \n",
       "0                         0.0  \n",
       "1                         0.0  \n",
       "2                         0.0  \n",
       "3                         0.0  \n",
       "4                         0.0  \n",
       "\n",
       "[5 rows x 255 columns]"
      ]
     },
     "execution_count": 136,
     "metadata": {},
     "output_type": "execute_result"
    }
   ],
   "source": [
    "nfl_df.head()"
   ]
  },
  {
   "cell_type": "code",
   "execution_count": 137,
   "metadata": {},
   "outputs": [
    {
     "name": "stdout",
     "output_type": "stream",
     "text": [
      "<class 'pandas.core.frame.DataFrame'>\n",
      "RangeIndex: 449371 entries, 0 to 449370\n",
      "Columns: 255 entries, play_id to defensive_extra_point_conv\n",
      "dtypes: float64(135), int64(18), object(102)\n",
      "memory usage: 874.2+ MB\n"
     ]
    }
   ],
   "source": [
    "nfl_df.info()"
   ]
  },
  {
   "cell_type": "code",
   "execution_count": 138,
   "metadata": {},
   "outputs": [
    {
     "data": {
      "text/plain": [
       "['play_id',\n",
       " 'game_id',\n",
       " 'home_team',\n",
       " 'away_team',\n",
       " 'posteam',\n",
       " 'posteam_type',\n",
       " 'defteam',\n",
       " 'side_of_field',\n",
       " 'yardline_100',\n",
       " 'game_date',\n",
       " 'quarter_seconds_remaining',\n",
       " 'half_seconds_remaining',\n",
       " 'game_seconds_remaining',\n",
       " 'game_half',\n",
       " 'quarter_end',\n",
       " 'drive',\n",
       " 'sp',\n",
       " 'qtr',\n",
       " 'down',\n",
       " 'goal_to_go',\n",
       " 'time',\n",
       " 'yrdln',\n",
       " 'ydstogo',\n",
       " 'ydsnet',\n",
       " 'desc',\n",
       " 'play_type',\n",
       " 'yards_gained',\n",
       " 'shotgun',\n",
       " 'no_huddle',\n",
       " 'qb_dropback',\n",
       " 'qb_kneel',\n",
       " 'qb_spike',\n",
       " 'qb_scramble',\n",
       " 'pass_length',\n",
       " 'pass_location',\n",
       " 'air_yards',\n",
       " 'yards_after_catch',\n",
       " 'run_location',\n",
       " 'run_gap',\n",
       " 'field_goal_result',\n",
       " 'kick_distance',\n",
       " 'extra_point_result',\n",
       " 'two_point_conv_result',\n",
       " 'home_timeouts_remaining',\n",
       " 'away_timeouts_remaining',\n",
       " 'timeout',\n",
       " 'timeout_team',\n",
       " 'td_team',\n",
       " 'posteam_timeouts_remaining',\n",
       " 'defteam_timeouts_remaining',\n",
       " 'total_home_score',\n",
       " 'total_away_score',\n",
       " 'posteam_score',\n",
       " 'defteam_score',\n",
       " 'score_differential',\n",
       " 'posteam_score_post',\n",
       " 'defteam_score_post',\n",
       " 'score_differential_post',\n",
       " 'no_score_prob',\n",
       " 'opp_fg_prob',\n",
       " 'opp_safety_prob',\n",
       " 'opp_td_prob',\n",
       " 'fg_prob',\n",
       " 'safety_prob',\n",
       " 'td_prob',\n",
       " 'extra_point_prob',\n",
       " 'two_point_conversion_prob',\n",
       " 'ep',\n",
       " 'epa',\n",
       " 'total_home_epa',\n",
       " 'total_away_epa',\n",
       " 'total_home_rush_epa',\n",
       " 'total_away_rush_epa',\n",
       " 'total_home_pass_epa',\n",
       " 'total_away_pass_epa',\n",
       " 'air_epa',\n",
       " 'yac_epa',\n",
       " 'comp_air_epa',\n",
       " 'comp_yac_epa',\n",
       " 'total_home_comp_air_epa',\n",
       " 'total_away_comp_air_epa',\n",
       " 'total_home_comp_yac_epa',\n",
       " 'total_away_comp_yac_epa',\n",
       " 'total_home_raw_air_epa',\n",
       " 'total_away_raw_air_epa',\n",
       " 'total_home_raw_yac_epa',\n",
       " 'total_away_raw_yac_epa',\n",
       " 'wp',\n",
       " 'def_wp',\n",
       " 'home_wp',\n",
       " 'away_wp',\n",
       " 'wpa',\n",
       " 'home_wp_post',\n",
       " 'away_wp_post',\n",
       " 'total_home_rush_wpa',\n",
       " 'total_away_rush_wpa',\n",
       " 'total_home_pass_wpa',\n",
       " 'total_away_pass_wpa',\n",
       " 'air_wpa',\n",
       " 'yac_wpa',\n",
       " 'comp_air_wpa',\n",
       " 'comp_yac_wpa',\n",
       " 'total_home_comp_air_wpa',\n",
       " 'total_away_comp_air_wpa',\n",
       " 'total_home_comp_yac_wpa',\n",
       " 'total_away_comp_yac_wpa',\n",
       " 'total_home_raw_air_wpa',\n",
       " 'total_away_raw_air_wpa',\n",
       " 'total_home_raw_yac_wpa',\n",
       " 'total_away_raw_yac_wpa',\n",
       " 'punt_blocked',\n",
       " 'first_down_rush',\n",
       " 'first_down_pass',\n",
       " 'first_down_penalty',\n",
       " 'third_down_converted',\n",
       " 'third_down_failed',\n",
       " 'fourth_down_converted',\n",
       " 'fourth_down_failed',\n",
       " 'incomplete_pass',\n",
       " 'interception',\n",
       " 'punt_inside_twenty',\n",
       " 'punt_in_endzone',\n",
       " 'punt_out_of_bounds',\n",
       " 'punt_downed',\n",
       " 'punt_fair_catch',\n",
       " 'kickoff_inside_twenty',\n",
       " 'kickoff_in_endzone',\n",
       " 'kickoff_out_of_bounds',\n",
       " 'kickoff_downed',\n",
       " 'kickoff_fair_catch',\n",
       " 'fumble_forced',\n",
       " 'fumble_not_forced',\n",
       " 'fumble_out_of_bounds',\n",
       " 'solo_tackle',\n",
       " 'safety',\n",
       " 'penalty',\n",
       " 'tackled_for_loss',\n",
       " 'fumble_lost',\n",
       " 'own_kickoff_recovery',\n",
       " 'own_kickoff_recovery_td',\n",
       " 'qb_hit',\n",
       " 'rush_attempt',\n",
       " 'pass_attempt',\n",
       " 'sack',\n",
       " 'touchdown',\n",
       " 'pass_touchdown',\n",
       " 'rush_touchdown',\n",
       " 'return_touchdown',\n",
       " 'extra_point_attempt',\n",
       " 'two_point_attempt',\n",
       " 'field_goal_attempt',\n",
       " 'kickoff_attempt',\n",
       " 'punt_attempt',\n",
       " 'fumble',\n",
       " 'complete_pass',\n",
       " 'assist_tackle',\n",
       " 'lateral_reception',\n",
       " 'lateral_rush',\n",
       " 'lateral_return',\n",
       " 'lateral_recovery',\n",
       " 'passer_player_id',\n",
       " 'passer_player_name',\n",
       " 'receiver_player_id',\n",
       " 'receiver_player_name',\n",
       " 'rusher_player_id',\n",
       " 'rusher_player_name',\n",
       " 'lateral_receiver_player_id',\n",
       " 'lateral_receiver_player_name',\n",
       " 'lateral_rusher_player_id',\n",
       " 'lateral_rusher_player_name',\n",
       " 'lateral_sack_player_id',\n",
       " 'lateral_sack_player_name',\n",
       " 'interception_player_id',\n",
       " 'interception_player_name',\n",
       " 'lateral_interception_player_id',\n",
       " 'lateral_interception_player_name',\n",
       " 'punt_returner_player_id',\n",
       " 'punt_returner_player_name',\n",
       " 'lateral_punt_returner_player_id',\n",
       " 'lateral_punt_returner_player_name',\n",
       " 'kickoff_returner_player_name',\n",
       " 'kickoff_returner_player_id',\n",
       " 'lateral_kickoff_returner_player_id',\n",
       " 'lateral_kickoff_returner_player_name',\n",
       " 'punter_player_id',\n",
       " 'punter_player_name',\n",
       " 'kicker_player_name',\n",
       " 'kicker_player_id',\n",
       " 'own_kickoff_recovery_player_id',\n",
       " 'own_kickoff_recovery_player_name',\n",
       " 'blocked_player_id',\n",
       " 'blocked_player_name',\n",
       " 'tackle_for_loss_1_player_id',\n",
       " 'tackle_for_loss_1_player_name',\n",
       " 'tackle_for_loss_2_player_id',\n",
       " 'tackle_for_loss_2_player_name',\n",
       " 'qb_hit_1_player_id',\n",
       " 'qb_hit_1_player_name',\n",
       " 'qb_hit_2_player_id',\n",
       " 'qb_hit_2_player_name',\n",
       " 'forced_fumble_player_1_team',\n",
       " 'forced_fumble_player_1_player_id',\n",
       " 'forced_fumble_player_1_player_name',\n",
       " 'forced_fumble_player_2_team',\n",
       " 'forced_fumble_player_2_player_id',\n",
       " 'forced_fumble_player_2_player_name',\n",
       " 'solo_tackle_1_team',\n",
       " 'solo_tackle_2_team',\n",
       " 'solo_tackle_1_player_id',\n",
       " 'solo_tackle_2_player_id',\n",
       " 'solo_tackle_1_player_name',\n",
       " 'solo_tackle_2_player_name',\n",
       " 'assist_tackle_1_player_id',\n",
       " 'assist_tackle_1_player_name',\n",
       " 'assist_tackle_1_team',\n",
       " 'assist_tackle_2_player_id',\n",
       " 'assist_tackle_2_player_name',\n",
       " 'assist_tackle_2_team',\n",
       " 'assist_tackle_3_player_id',\n",
       " 'assist_tackle_3_player_name',\n",
       " 'assist_tackle_3_team',\n",
       " 'assist_tackle_4_player_id',\n",
       " 'assist_tackle_4_player_name',\n",
       " 'assist_tackle_4_team',\n",
       " 'pass_defense_1_player_id',\n",
       " 'pass_defense_1_player_name',\n",
       " 'pass_defense_2_player_id',\n",
       " 'pass_defense_2_player_name',\n",
       " 'fumbled_1_team',\n",
       " 'fumbled_1_player_id',\n",
       " 'fumbled_1_player_name',\n",
       " 'fumbled_2_player_id',\n",
       " 'fumbled_2_player_name',\n",
       " 'fumbled_2_team',\n",
       " 'fumble_recovery_1_team',\n",
       " 'fumble_recovery_1_yards',\n",
       " 'fumble_recovery_1_player_id',\n",
       " 'fumble_recovery_1_player_name',\n",
       " 'fumble_recovery_2_team',\n",
       " 'fumble_recovery_2_yards',\n",
       " 'fumble_recovery_2_player_id',\n",
       " 'fumble_recovery_2_player_name',\n",
       " 'return_team',\n",
       " 'return_yards',\n",
       " 'penalty_team',\n",
       " 'penalty_player_id',\n",
       " 'penalty_player_name',\n",
       " 'penalty_yards',\n",
       " 'replay_or_challenge',\n",
       " 'replay_or_challenge_result',\n",
       " 'penalty_type',\n",
       " 'defensive_two_point_attempt',\n",
       " 'defensive_two_point_conv',\n",
       " 'defensive_extra_point_attempt',\n",
       " 'defensive_extra_point_conv']"
      ]
     },
     "execution_count": 138,
     "metadata": {},
     "output_type": "execute_result"
    }
   ],
   "source": [
    "list(nfl_df.columns)"
   ]
  },
  {
   "cell_type": "code",
   "execution_count": 4,
   "metadata": {},
   "outputs": [],
   "source": [
    "smaller_df = nfl_df[['play_id', 'game_id', 'home_team', 'away_team', 'posteam',\n",
    "                     'defteam', 'yardline_100', 'game_date', 'quarter_seconds_remaining', \n",
    "                     'half_seconds_remaining', 'game_seconds_remaining', 'drive', 'qtr', \n",
    "                     'down', 'ydstogo', 'play_type', 'posteam_timeouts_remaining',\n",
    "                     'defteam_timeouts_remaining', 'posteam_score', 'defteam_score',\n",
    "                     'score_differential']]"
   ]
  },
  {
   "cell_type": "code",
   "execution_count": 5,
   "metadata": {},
   "outputs": [],
   "source": [
    "smaller_df['game_year'] = smaller_df['game_date'].str[:4]"
   ]
  },
  {
   "cell_type": "code",
   "execution_count": 141,
   "metadata": {
    "scrolled": true
   },
   "outputs": [
    {
     "name": "stdout",
     "output_type": "stream",
     "text": [
      "<class 'pandas.core.frame.DataFrame'>\n",
      "RangeIndex: 449371 entries, 0 to 449370\n",
      "Data columns (total 22 columns):\n",
      " #   Column                      Non-Null Count   Dtype  \n",
      "---  ------                      --------------   -----  \n",
      " 0   play_id                     449371 non-null  int64  \n",
      " 1   game_id                     449371 non-null  int64  \n",
      " 2   home_team                   449371 non-null  object \n",
      " 3   away_team                   449371 non-null  object \n",
      " 4   posteam                     436129 non-null  object \n",
      " 5   defteam                     436492 non-null  object \n",
      " 6   yardline_100                436301 non-null  float64\n",
      " 7   game_date                   449371 non-null  object \n",
      " 8   quarter_seconds_remaining   449230 non-null  float64\n",
      " 9   half_seconds_remaining      449206 non-null  float64\n",
      " 10  game_seconds_remaining      449208 non-null  float64\n",
      " 11  drive                       449371 non-null  int64  \n",
      " 12  qtr                         449371 non-null  int64  \n",
      " 13  down                        381409 non-null  float64\n",
      " 14  ydstogo                     449371 non-null  int64  \n",
      " 15  play_type                   436497 non-null  object \n",
      " 16  posteam_timeouts_remaining  436492 non-null  float64\n",
      " 17  defteam_timeouts_remaining  436492 non-null  float64\n",
      " 18  posteam_score               433952 non-null  float64\n",
      " 19  defteam_score               433952 non-null  float64\n",
      " 20  score_differential          433952 non-null  float64\n",
      " 21  game_year                   449371 non-null  object \n",
      "dtypes: float64(10), int64(5), object(7)\n",
      "memory usage: 75.4+ MB\n"
     ]
    }
   ],
   "source": [
    "smaller_df.info()"
   ]
  },
  {
   "cell_type": "code",
   "execution_count": 142,
   "metadata": {},
   "outputs": [
    {
     "name": "stdout",
     "output_type": "stream",
     "text": [
      "The dataset contains details from 2526 games.\n"
     ]
    }
   ],
   "source": [
    "num_games = len(set(smaller_df['game_id']))\n",
    "print(\"The dataset contains details from \" + str(num_games) + \" games.\")"
   ]
  },
  {
   "cell_type": "code",
   "execution_count": 143,
   "metadata": {
    "scrolled": true
   },
   "outputs": [
    {
     "name": "stdout",
     "output_type": "stream",
     "text": [
      "The dataset contains details from 449371 plays.\n",
      "The dataset contains details from 10 seasons.\n"
     ]
    }
   ],
   "source": [
    "num_seasons = len(smaller_df.groupby('game_year').count()['play_id'])\n",
    "num_plays = sum(smaller_df.groupby('game_year').count()['play_id'])\n",
    "print(\"The dataset contains details from \" + str(num_plays) + \" plays.\")\n",
    "print(\"The dataset contains details from \" + str(num_seasons) + \" seasons.\")"
   ]
  },
  {
   "cell_type": "code",
   "execution_count": 144,
   "metadata": {
    "scrolled": true
   },
   "outputs": [
    {
     "data": {
      "text/plain": [
       "<AxesSubplot:xlabel='game_year'>"
      ]
     },
     "execution_count": 144,
     "metadata": {},
     "output_type": "execute_result"
    },
    {
     "data": {
      "image/png": "[encoded data removed]",
      "text/plain": [
       "<Figure size 432x288 with 1 Axes>"
      ]
     },
     "metadata": {
      "needs_background": "light"
     },
     "output_type": "display_data"
    }
   ],
   "source": [
    "#Plotting the total number of plays per season\n",
    "smaller_df.groupby('game_year').count()['play_id'].plot.bar()"
   ]
  },
  {
   "cell_type": "code",
   "execution_count": 145,
   "metadata": {},
   "outputs": [
    {
     "data": {
      "text/plain": [
       "play_type\n",
       "extra_point     10934\n",
       "field_goal       9777\n",
       "kickoff         25552\n",
       "no_play         42431\n",
       "pass           186677\n",
       "punt            23914\n",
       "qb_kneel         3830\n",
       "qb_spike          690\n",
       "run            132692\n",
       "Name: play_id, dtype: int64"
      ]
     },
     "execution_count": 145,
     "metadata": {},
     "output_type": "execute_result"
    }
   ],
   "source": [
    "smaller_df.groupby('play_type').count()['play_id']"
   ]
  },
  {
   "cell_type": "code",
   "execution_count": 146,
   "metadata": {},
   "outputs": [
    {
     "data": {
      "text/plain": [
       "<AxesSubplot:xlabel='play_type'>"
      ]
     },
     "execution_count": 146,
     "metadata": {},
     "output_type": "execute_result"
    },
    {
     "data": {
      "image/png": "[encoded data removed]",
      "text/plain": [
       "<Figure size 432x288 with 1 Axes>"
      ]
     },
     "metadata": {
      "needs_background": "light"
     },
     "output_type": "display_data"
    }
   ],
   "source": [
    "#Plotting the different types of plays\n",
    "smaller_df.groupby('play_type').count()['play_id'].plot.bar()"
   ]
  },
  {
   "cell_type": "code",
   "execution_count": 6,
   "metadata": {},
   "outputs": [],
   "source": [
    "#Creating a dataframe with only run or pass plays\n",
    "run_pass = smaller_df[(smaller_df['play_type'] == 'run') | (smaller_df['play_type'] == 'pass')]"
   ]
  },
  {
   "cell_type": "code",
   "execution_count": 149,
   "metadata": {},
   "outputs": [
    {
     "data": {
      "text/html": [
       "<div>\n",
       "<style scoped>\n",
       "    .dataframe tbody tr th:only-of-type {\n",
       "        vertical-align: middle;\n",
       "    }\n",
       "\n",
       "    .dataframe tbody tr th {\n",
       "        vertical-align: top;\n",
       "    }\n",
       "\n",
       "    .dataframe thead th {\n",
       "        text-align: right;\n",
       "    }\n",
       "</style>\n",
       "<table border=\"1\" class=\"dataframe\">\n",
       "  <thead>\n",
       "    <tr style=\"text-align: right;\">\n",
       "      <th></th>\n",
       "      <th>play_id</th>\n",
       "      <th>game_id</th>\n",
       "      <th>yardline_100</th>\n",
       "      <th>quarter_seconds_remaining</th>\n",
       "      <th>half_seconds_remaining</th>\n",
       "      <th>game_seconds_remaining</th>\n",
       "      <th>drive</th>\n",
       "      <th>qtr</th>\n",
       "      <th>down</th>\n",
       "      <th>ydstogo</th>\n",
       "      <th>posteam_timeouts_remaining</th>\n",
       "      <th>defteam_timeouts_remaining</th>\n",
       "      <th>posteam_score</th>\n",
       "      <th>defteam_score</th>\n",
       "      <th>score_differential</th>\n",
       "    </tr>\n",
       "  </thead>\n",
       "  <tbody>\n",
       "    <tr>\n",
       "      <th>play_id</th>\n",
       "      <td>1.000000</td>\n",
       "      <td>0.009795</td>\n",
       "      <td>-0.054438</td>\n",
       "      <td>-0.244767</td>\n",
       "      <td>-0.469882</td>\n",
       "      <td>-0.982692</td>\n",
       "      <td>0.962659</td>\n",
       "      <td>0.957386</td>\n",
       "      <td>0.033446</td>\n",
       "      <td>0.004710</td>\n",
       "      <td>-0.310178</td>\n",
       "      <td>-0.296491</td>\n",
       "      <td>0.688590</td>\n",
       "      <td>0.706096</td>\n",
       "      <td>-0.063982</td>\n",
       "    </tr>\n",
       "    <tr>\n",
       "      <th>game_id</th>\n",
       "      <td>0.009795</td>\n",
       "      <td>1.000000</td>\n",
       "      <td>-0.002307</td>\n",
       "      <td>-0.005888</td>\n",
       "      <td>-0.003657</td>\n",
       "      <td>-0.002166</td>\n",
       "      <td>-0.023677</td>\n",
       "      <td>0.000897</td>\n",
       "      <td>-0.005424</td>\n",
       "      <td>0.005107</td>\n",
       "      <td>0.015653</td>\n",
       "      <td>0.014591</td>\n",
       "      <td>0.009407</td>\n",
       "      <td>0.019205</td>\n",
       "      <td>-0.009814</td>\n",
       "    </tr>\n",
       "    <tr>\n",
       "      <th>yardline_100</th>\n",
       "      <td>-0.054438</td>\n",
       "      <td>-0.002307</td>\n",
       "      <td>1.000000</td>\n",
       "      <td>0.095856</td>\n",
       "      <td>0.105960</td>\n",
       "      <td>0.068520</td>\n",
       "      <td>-0.013820</td>\n",
       "      <td>-0.044641</td>\n",
       "      <td>-0.072912</td>\n",
       "      <td>0.239956</td>\n",
       "      <td>0.060538</td>\n",
       "      <td>0.036272</td>\n",
       "      <td>-0.025564</td>\n",
       "      <td>-0.001010</td>\n",
       "      <td>-0.021199</td>\n",
       "    </tr>\n",
       "    <tr>\n",
       "      <th>quarter_seconds_remaining</th>\n",
       "      <td>-0.244767</td>\n",
       "      <td>-0.005888</td>\n",
       "      <td>0.095856</td>\n",
       "      <td>1.000000</td>\n",
       "      <td>0.561196</td>\n",
       "      <td>0.271404</td>\n",
       "      <td>-0.224336</td>\n",
       "      <td>-0.010821</td>\n",
       "      <td>-0.038000</td>\n",
       "      <td>0.005586</td>\n",
       "      <td>0.348068</td>\n",
       "      <td>0.298528</td>\n",
       "      <td>-0.149272</td>\n",
       "      <td>-0.188145</td>\n",
       "      <td>0.046679</td>\n",
       "    </tr>\n",
       "    <tr>\n",
       "      <th>half_seconds_remaining</th>\n",
       "      <td>-0.469882</td>\n",
       "      <td>-0.003657</td>\n",
       "      <td>0.105960</td>\n",
       "      <td>0.561196</td>\n",
       "      <td>1.000000</td>\n",
       "      <td>0.510420</td>\n",
       "      <td>-0.435204</td>\n",
       "      <td>-0.379075</td>\n",
       "      <td>-0.042611</td>\n",
       "      <td>0.004057</td>\n",
       "      <td>0.493640</td>\n",
       "      <td>0.461550</td>\n",
       "      <td>-0.307431</td>\n",
       "      <td>-0.345393</td>\n",
       "      <td>0.056764</td>\n",
       "    </tr>\n",
       "    <tr>\n",
       "      <th>game_seconds_remaining</th>\n",
       "      <td>-0.982692</td>\n",
       "      <td>-0.002166</td>\n",
       "      <td>0.068520</td>\n",
       "      <td>0.271404</td>\n",
       "      <td>0.510420</td>\n",
       "      <td>1.000000</td>\n",
       "      <td>-0.941269</td>\n",
       "      <td>-0.962694</td>\n",
       "      <td>-0.038196</td>\n",
       "      <td>0.000671</td>\n",
       "      <td>0.302179</td>\n",
       "      <td>0.289878</td>\n",
       "      <td>-0.669301</td>\n",
       "      <td>-0.686640</td>\n",
       "      <td>0.062498</td>\n",
       "    </tr>\n",
       "    <tr>\n",
       "      <th>drive</th>\n",
       "      <td>0.962659</td>\n",
       "      <td>-0.023677</td>\n",
       "      <td>-0.013820</td>\n",
       "      <td>-0.224336</td>\n",
       "      <td>-0.435204</td>\n",
       "      <td>-0.941269</td>\n",
       "      <td>1.000000</td>\n",
       "      <td>0.919471</td>\n",
       "      <td>0.017126</td>\n",
       "      <td>0.012482</td>\n",
       "      <td>-0.279761</td>\n",
       "      <td>-0.267319</td>\n",
       "      <td>0.661815</td>\n",
       "      <td>0.672699</td>\n",
       "      <td>-0.055938</td>\n",
       "    </tr>\n",
       "    <tr>\n",
       "      <th>qtr</th>\n",
       "      <td>0.957386</td>\n",
       "      <td>0.000897</td>\n",
       "      <td>-0.044641</td>\n",
       "      <td>-0.010821</td>\n",
       "      <td>-0.379075</td>\n",
       "      <td>-0.962694</td>\n",
       "      <td>0.919471</td>\n",
       "      <td>1.000000</td>\n",
       "      <td>0.029162</td>\n",
       "      <td>0.001032</td>\n",
       "      <td>-0.225455</td>\n",
       "      <td>-0.226392</td>\n",
       "      <td>0.656089</td>\n",
       "      <td>0.662231</td>\n",
       "      <td>-0.051106</td>\n",
       "    </tr>\n",
       "    <tr>\n",
       "      <th>down</th>\n",
       "      <td>0.033446</td>\n",
       "      <td>-0.005424</td>\n",
       "      <td>-0.072912</td>\n",
       "      <td>-0.038000</td>\n",
       "      <td>-0.042611</td>\n",
       "      <td>-0.038196</td>\n",
       "      <td>0.017126</td>\n",
       "      <td>0.029162</td>\n",
       "      <td>1.000000</td>\n",
       "      <td>-0.317494</td>\n",
       "      <td>-0.039669</td>\n",
       "      <td>-0.036567</td>\n",
       "      <td>0.006640</td>\n",
       "      <td>0.010117</td>\n",
       "      <td>-0.003705</td>\n",
       "    </tr>\n",
       "    <tr>\n",
       "      <th>ydstogo</th>\n",
       "      <td>0.004710</td>\n",
       "      <td>0.005107</td>\n",
       "      <td>0.239956</td>\n",
       "      <td>0.005586</td>\n",
       "      <td>0.004057</td>\n",
       "      <td>0.000671</td>\n",
       "      <td>0.012482</td>\n",
       "      <td>0.001032</td>\n",
       "      <td>-0.317494</td>\n",
       "      <td>1.000000</td>\n",
       "      <td>0.000515</td>\n",
       "      <td>0.005849</td>\n",
       "      <td>-0.004424</td>\n",
       "      <td>0.010712</td>\n",
       "      <td>-0.013852</td>\n",
       "    </tr>\n",
       "    <tr>\n",
       "      <th>posteam_timeouts_remaining</th>\n",
       "      <td>-0.310178</td>\n",
       "      <td>0.015653</td>\n",
       "      <td>0.060538</td>\n",
       "      <td>0.348068</td>\n",
       "      <td>0.493640</td>\n",
       "      <td>0.302179</td>\n",
       "      <td>-0.279761</td>\n",
       "      <td>-0.225455</td>\n",
       "      <td>-0.039669</td>\n",
       "      <td>0.000515</td>\n",
       "      <td>1.000000</td>\n",
       "      <td>0.303304</td>\n",
       "      <td>-0.194028</td>\n",
       "      <td>-0.213881</td>\n",
       "      <td>0.031984</td>\n",
       "    </tr>\n",
       "    <tr>\n",
       "      <th>defteam_timeouts_remaining</th>\n",
       "      <td>-0.296491</td>\n",
       "      <td>0.014591</td>\n",
       "      <td>0.036272</td>\n",
       "      <td>0.298528</td>\n",
       "      <td>0.461550</td>\n",
       "      <td>0.289878</td>\n",
       "      <td>-0.267319</td>\n",
       "      <td>-0.226392</td>\n",
       "      <td>-0.036567</td>\n",
       "      <td>0.005849</td>\n",
       "      <td>0.303304</td>\n",
       "      <td>1.000000</td>\n",
       "      <td>-0.184447</td>\n",
       "      <td>-0.218135</td>\n",
       "      <td>0.044261</td>\n",
       "    </tr>\n",
       "    <tr>\n",
       "      <th>posteam_score</th>\n",
       "      <td>0.688590</td>\n",
       "      <td>0.009407</td>\n",
       "      <td>-0.025564</td>\n",
       "      <td>-0.149272</td>\n",
       "      <td>-0.307431</td>\n",
       "      <td>-0.669301</td>\n",
       "      <td>0.661815</td>\n",
       "      <td>0.656089</td>\n",
       "      <td>0.006640</td>\n",
       "      <td>-0.004424</td>\n",
       "      <td>-0.194028</td>\n",
       "      <td>-0.184447</td>\n",
       "      <td>1.000000</td>\n",
       "      <td>0.385784</td>\n",
       "      <td>0.505348</td>\n",
       "    </tr>\n",
       "    <tr>\n",
       "      <th>defteam_score</th>\n",
       "      <td>0.706096</td>\n",
       "      <td>0.019205</td>\n",
       "      <td>-0.001010</td>\n",
       "      <td>-0.188145</td>\n",
       "      <td>-0.345393</td>\n",
       "      <td>-0.686640</td>\n",
       "      <td>0.672699</td>\n",
       "      <td>0.662231</td>\n",
       "      <td>0.010117</td>\n",
       "      <td>0.010712</td>\n",
       "      <td>-0.213881</td>\n",
       "      <td>-0.218135</td>\n",
       "      <td>0.385784</td>\n",
       "      <td>1.000000</td>\n",
       "      <td>-0.601161</td>\n",
       "    </tr>\n",
       "    <tr>\n",
       "      <th>score_differential</th>\n",
       "      <td>-0.063982</td>\n",
       "      <td>-0.009814</td>\n",
       "      <td>-0.021199</td>\n",
       "      <td>0.046679</td>\n",
       "      <td>0.056764</td>\n",
       "      <td>0.062498</td>\n",
       "      <td>-0.055938</td>\n",
       "      <td>-0.051106</td>\n",
       "      <td>-0.003705</td>\n",
       "      <td>-0.013852</td>\n",
       "      <td>0.031984</td>\n",
       "      <td>0.044261</td>\n",
       "      <td>0.505348</td>\n",
       "      <td>-0.601161</td>\n",
       "      <td>1.000000</td>\n",
       "    </tr>\n",
       "  </tbody>\n",
       "</table>\n",
       "</div>"
      ],
      "text/plain": [
       "                             play_id   game_id  yardline_100  \\\n",
       "play_id                     1.000000  0.009795     -0.054438   \n",
       "game_id                     0.009795  1.000000     -0.002307   \n",
       "yardline_100               -0.054438 -0.002307      1.000000   \n",
       "quarter_seconds_remaining  -0.244767 -0.005888      0.095856   \n",
       "half_seconds_remaining     -0.469882 -0.003657      0.105960   \n",
       "game_seconds_remaining     -0.982692 -0.002166      0.068520   \n",
       "drive                       0.962659 -0.023677     -0.013820   \n",
       "qtr                         0.957386  0.000897     -0.044641   \n",
       "down                        0.033446 -0.005424     -0.072912   \n",
       "ydstogo                     0.004710  0.005107      0.239956   \n",
       "posteam_timeouts_remaining -0.310178  0.015653      0.060538   \n",
       "defteam_timeouts_remaining -0.296491  0.014591      0.036272   \n",
       "posteam_score               0.688590  0.009407     -0.025564   \n",
       "defteam_score               0.706096  0.019205     -0.001010   \n",
       "score_differential         -0.063982 -0.009814     -0.021199   \n",
       "\n",
       "                            quarter_seconds_remaining  half_seconds_remaining  \\\n",
       "play_id                                     -0.244767               -0.469882   \n",
       "game_id                                     -0.005888               -0.003657   \n",
       "yardline_100                                 0.095856                0.105960   \n",
       "quarter_seconds_remaining                    1.000000                0.561196   \n",
       "half_seconds_remaining                       0.561196                1.000000   \n",
       "game_seconds_remaining                       0.271404                0.510420   \n",
       "drive                                       -0.224336               -0.435204   \n",
       "qtr                                         -0.010821               -0.379075   \n",
       "down                                        -0.038000               -0.042611   \n",
       "ydstogo                                      0.005586                0.004057   \n",
       "posteam_timeouts_remaining                   0.348068                0.493640   \n",
       "defteam_timeouts_remaining                   0.298528                0.461550   \n",
       "posteam_score                               -0.149272               -0.307431   \n",
       "defteam_score                               -0.188145               -0.345393   \n",
       "score_differential                           0.046679                0.056764   \n",
       "\n",
       "                            game_seconds_remaining     drive       qtr  \\\n",
       "play_id                                  -0.982692  0.962659  0.957386   \n",
       "game_id                                  -0.002166 -0.023677  0.000897   \n",
       "yardline_100                              0.068520 -0.013820 -0.044641   \n",
       "quarter_seconds_remaining                 0.271404 -0.224336 -0.010821   \n",
       "half_seconds_remaining                    0.510420 -0.435204 -0.379075   \n",
       "game_seconds_remaining                    1.000000 -0.941269 -0.962694   \n",
       "drive                                    -0.941269  1.000000  0.919471   \n",
       "qtr                                      -0.962694  0.919471  1.000000   \n",
       "down                                     -0.038196  0.017126  0.029162   \n",
       "ydstogo                                   0.000671  0.012482  0.001032   \n",
       "posteam_timeouts_remaining                0.302179 -0.279761 -0.225455   \n",
       "defteam_timeouts_remaining                0.289878 -0.267319 -0.226392   \n",
       "posteam_score                            -0.669301  0.661815  0.656089   \n",
       "defteam_score                            -0.686640  0.672699  0.662231   \n",
       "score_differential                        0.062498 -0.055938 -0.051106   \n",
       "\n",
       "                                down   ydstogo  posteam_timeouts_remaining  \\\n",
       "play_id                     0.033446  0.004710                   -0.310178   \n",
       "game_id                    -0.005424  0.005107                    0.015653   \n",
       "yardline_100               -0.072912  0.239956                    0.060538   \n",
       "quarter_seconds_remaining  -0.038000  0.005586                    0.348068   \n",
       "half_seconds_remaining     -0.042611  0.004057                    0.493640   \n",
       "game_seconds_remaining     -0.038196  0.000671                    0.302179   \n",
       "drive                       0.017126  0.012482                   -0.279761   \n",
       "qtr                         0.029162  0.001032                   -0.225455   \n",
       "down                        1.000000 -0.317494                   -0.039669   \n",
       "ydstogo                    -0.317494  1.000000                    0.000515   \n",
       "posteam_timeouts_remaining -0.039669  0.000515                    1.000000   \n",
       "defteam_timeouts_remaining -0.036567  0.005849                    0.303304   \n",
       "posteam_score               0.006640 -0.004424                   -0.194028   \n",
       "defteam_score               0.010117  0.010712                   -0.213881   \n",
       "score_differential         -0.003705 -0.013852                    0.031984   \n",
       "\n",
       "                            defteam_timeouts_remaining  posteam_score  \\\n",
       "play_id                                      -0.296491       0.688590   \n",
       "game_id                                       0.014591       0.009407   \n",
       "yardline_100                                  0.036272      -0.025564   \n",
       "quarter_seconds_remaining                     0.298528      -0.149272   \n",
       "half_seconds_remaining                        0.461550      -0.307431   \n",
       "game_seconds_remaining                        0.289878      -0.669301   \n",
       "drive                                        -0.267319       0.661815   \n",
       "qtr                                          -0.226392       0.656089   \n",
       "down                                         -0.036567       0.006640   \n",
       "ydstogo                                       0.005849      -0.004424   \n",
       "posteam_timeouts_remaining                    0.303304      -0.194028   \n",
       "defteam_timeouts_remaining                    1.000000      -0.184447   \n",
       "posteam_score                                -0.184447       1.000000   \n",
       "defteam_score                                -0.218135       0.385784   \n",
       "score_differential                            0.044261       0.505348   \n",
       "\n",
       "                            defteam_score  score_differential  \n",
       "play_id                          0.706096           -0.063982  \n",
       "game_id                          0.019205           -0.009814  \n",
       "yardline_100                    -0.001010           -0.021199  \n",
       "quarter_seconds_remaining       -0.188145            0.046679  \n",
       "half_seconds_remaining          -0.345393            0.056764  \n",
       "game_seconds_remaining          -0.686640            0.062498  \n",
       "drive                            0.672699           -0.055938  \n",
       "qtr                              0.662231           -0.051106  \n",
       "down                             0.010117           -0.003705  \n",
       "ydstogo                          0.010712           -0.013852  \n",
       "posteam_timeouts_remaining      -0.213881            0.031984  \n",
       "defteam_timeouts_remaining      -0.218135            0.044261  \n",
       "posteam_score                    0.385784            0.505348  \n",
       "defteam_score                    1.000000           -0.601161  \n",
       "score_differential              -0.601161            1.000000  "
      ]
     },
     "execution_count": 149,
     "metadata": {},
     "output_type": "execute_result"
    }
   ],
   "source": [
    "#Looking at correlation matrix\n",
    "run_pass.corr()"
   ]
  },
  {
   "cell_type": "code",
   "execution_count": 150,
   "metadata": {},
   "outputs": [
    {
     "data": {
      "text/plain": [
       "<AxesSubplot:xlabel='qtr'>"
      ]
     },
     "execution_count": 150,
     "metadata": {},
     "output_type": "execute_result"
    },
    {
     "data": {
      "image/png": "[encoded data removed]",
      "text/plain": [
       "<Figure size 432x288 with 1 Axes>"
      ]
     },
     "metadata": {
      "needs_background": "light"
     },
     "output_type": "display_data"
    }
   ],
   "source": [
    "#Playcall by quarter\n",
    "run_pass.groupby(['qtr', 'play_type',]).count()['play_id'].unstack().plot.bar()"
   ]
  },
  {
   "cell_type": "code",
   "execution_count": 151,
   "metadata": {
    "scrolled": false
   },
   "outputs": [
    {
     "data": {
      "text/plain": [
       "<AxesSubplot:xlabel='down'>"
      ]
     },
     "execution_count": 151,
     "metadata": {},
     "output_type": "execute_result"
    },
    {
     "data": {
      "image/png": "[encoded data removed]",
      "text/plain": [
       "<Figure size 432x288 with 1 Axes>"
      ]
     },
     "metadata": {
      "needs_background": "light"
     },
     "output_type": "display_data"
    }
   ],
   "source": [
    "#Playcall by down\n",
    "run_pass.groupby(['down', 'play_type',]).count()['play_id'].unstack().plot.bar()"
   ]
  },
  {
   "cell_type": "code",
   "execution_count": 7,
   "metadata": {},
   "outputs": [],
   "source": [
    "#Adding column for if the team with the ball is ahead, behind, or tied\n",
    "run_pass['lead'] = np.where(run_pass['score_differential']==0, 'tied', 0)\n",
    "run_pass['lead'] = np.where(run_pass['score_differential']>0, 'ahead', run_pass['lead'])\n",
    "run_pass['lead'] = np.where(run_pass['score_differential']<0, 'behind', run_pass['lead'])"
   ]
  },
  {
   "cell_type": "code",
   "execution_count": 153,
   "metadata": {},
   "outputs": [
    {
     "data": {
      "text/plain": [
       "lead\n",
       "ahead     110306\n",
       "behind    149610\n",
       "tied       59453\n",
       "Name: play_id, dtype: int64"
      ]
     },
     "execution_count": 153,
     "metadata": {},
     "output_type": "execute_result"
    }
   ],
   "source": [
    "#Checking to make sure values updated\n",
    "run_pass.groupby('lead').count()['play_id']"
   ]
  },
  {
   "cell_type": "code",
   "execution_count": 154,
   "metadata": {
    "scrolled": true
   },
   "outputs": [
    {
     "data": {
      "text/plain": [
       "<AxesSubplot:xlabel='lead'>"
      ]
     },
     "execution_count": 154,
     "metadata": {},
     "output_type": "execute_result"
    },
    {
     "data": {
      "image/png": "[encoded data removed]",
      "text/plain": [
       "<Figure size 432x288 with 1 Axes>"
      ]
     },
     "metadata": {
      "needs_background": "light"
     },
     "output_type": "display_data"
    }
   ],
   "source": [
    "#Playcall by who is leading\n",
    "run_pass.groupby(['lead', 'play_type',]).count()['play_id'].unstack().plot.bar()"
   ]
  },
  {
   "cell_type": "code",
   "execution_count": 155,
   "metadata": {
    "scrolled": true
   },
   "outputs": [
    {
     "data": {
      "text/plain": [
       "<AxesSubplot:xlabel='game_year'>"
      ]
     },
     "execution_count": 155,
     "metadata": {},
     "output_type": "execute_result"
    },
    {
     "data": {
      "image/png": "[encoded data removed]",
      "text/plain": [
       "<Figure size 432x288 with 1 Axes>"
      ]
     },
     "metadata": {
      "needs_background": "light"
     },
     "output_type": "display_data"
    }
   ],
   "source": [
    "#Playcall by year\n",
    "run_pass.groupby(['game_year', 'play_type',]).count()['play_id'].unstack().plot.bar()"
   ]
  },
  {
   "cell_type": "code",
   "execution_count": 156,
   "metadata": {},
   "outputs": [],
   "source": [
    "run_pass_yr = run_pass.groupby(['game_year', 'play_type',]).count()['play_id'].unstack()"
   ]
  },
  {
   "cell_type": "code",
   "execution_count": 157,
   "metadata": {},
   "outputs": [],
   "source": [
    "run_pass_yr['pass_percent'] = run_pass_yr['pass']/(run_pass_yr['pass']+run_pass_yr['run'])"
   ]
  },
  {
   "cell_type": "code",
   "execution_count": 158,
   "metadata": {
    "scrolled": true
   },
   "outputs": [
    {
     "data": {
      "text/html": [
       "<div>\n",
       "<style scoped>\n",
       "    .dataframe tbody tr th:only-of-type {\n",
       "        vertical-align: middle;\n",
       "    }\n",
       "\n",
       "    .dataframe tbody tr th {\n",
       "        vertical-align: top;\n",
       "    }\n",
       "\n",
       "    .dataframe thead th {\n",
       "        text-align: right;\n",
       "    }\n",
       "</style>\n",
       "<table border=\"1\" class=\"dataframe\">\n",
       "  <thead>\n",
       "    <tr style=\"text-align: right;\">\n",
       "      <th>play_type</th>\n",
       "      <th>pass</th>\n",
       "      <th>run</th>\n",
       "      <th>pass_percent</th>\n",
       "    </tr>\n",
       "    <tr>\n",
       "      <th>game_year</th>\n",
       "      <th></th>\n",
       "      <th></th>\n",
       "      <th></th>\n",
       "    </tr>\n",
       "  </thead>\n",
       "  <tbody>\n",
       "    <tr>\n",
       "      <th>2009</th>\n",
       "      <td>16941</td>\n",
       "      <td>12861</td>\n",
       "      <td>0.568452</td>\n",
       "    </tr>\n",
       "    <tr>\n",
       "      <th>2010</th>\n",
       "      <td>18170</td>\n",
       "      <td>13598</td>\n",
       "      <td>0.571959</td>\n",
       "    </tr>\n",
       "    <tr>\n",
       "      <th>2011</th>\n",
       "      <td>18457</td>\n",
       "      <td>13671</td>\n",
       "      <td>0.574483</td>\n",
       "    </tr>\n",
       "    <tr>\n",
       "      <th>2012</th>\n",
       "      <td>19954</td>\n",
       "      <td>14356</td>\n",
       "      <td>0.581580</td>\n",
       "    </tr>\n",
       "    <tr>\n",
       "      <th>2013</th>\n",
       "      <td>19298</td>\n",
       "      <td>13470</td>\n",
       "      <td>0.588928</td>\n",
       "    </tr>\n",
       "    <tr>\n",
       "      <th>2014</th>\n",
       "      <td>18981</td>\n",
       "      <td>13325</td>\n",
       "      <td>0.587538</td>\n",
       "    </tr>\n",
       "    <tr>\n",
       "      <th>2015</th>\n",
       "      <td>18211</td>\n",
       "      <td>12263</td>\n",
       "      <td>0.597591</td>\n",
       "    </tr>\n",
       "    <tr>\n",
       "      <th>2016</th>\n",
       "      <td>19309</td>\n",
       "      <td>12904</td>\n",
       "      <td>0.599416</td>\n",
       "    </tr>\n",
       "    <tr>\n",
       "      <th>2017</th>\n",
       "      <td>19756</td>\n",
       "      <td>14224</td>\n",
       "      <td>0.581401</td>\n",
       "    </tr>\n",
       "    <tr>\n",
       "      <th>2018</th>\n",
       "      <td>17600</td>\n",
       "      <td>12020</td>\n",
       "      <td>0.594193</td>\n",
       "    </tr>\n",
       "  </tbody>\n",
       "</table>\n",
       "</div>"
      ],
      "text/plain": [
       "play_type   pass    run  pass_percent\n",
       "game_year                            \n",
       "2009       16941  12861      0.568452\n",
       "2010       18170  13598      0.571959\n",
       "2011       18457  13671      0.574483\n",
       "2012       19954  14356      0.581580\n",
       "2013       19298  13470      0.588928\n",
       "2014       18981  13325      0.587538\n",
       "2015       18211  12263      0.597591\n",
       "2016       19309  12904      0.599416\n",
       "2017       19756  14224      0.581401\n",
       "2018       17600  12020      0.594193"
      ]
     },
     "execution_count": 158,
     "metadata": {},
     "output_type": "execute_result"
    }
   ],
   "source": [
    "run_pass_yr"
   ]
  },
  {
   "cell_type": "code",
   "execution_count": 160,
   "metadata": {
    "scrolled": true
   },
   "outputs": [],
   "source": [
    "#Playcall by team\n",
    "run_pass_team = run_pass.groupby(['posteam', 'play_type',]).count()['play_id'].unstack()"
   ]
  },
  {
   "cell_type": "code",
   "execution_count": 161,
   "metadata": {},
   "outputs": [],
   "source": [
    "run_pass_team['pass_percent'] = run_pass_team['pass']/(run_pass_team['pass']+run_pass_team['run'])"
   ]
  },
  {
   "cell_type": "code",
   "execution_count": 165,
   "metadata": {},
   "outputs": [
    {
     "data": {
      "text/html": [
       "<div>\n",
       "<style scoped>\n",
       "    .dataframe tbody tr th:only-of-type {\n",
       "        vertical-align: middle;\n",
       "    }\n",
       "\n",
       "    .dataframe tbody tr th {\n",
       "        vertical-align: top;\n",
       "    }\n",
       "\n",
       "    .dataframe thead th {\n",
       "        text-align: right;\n",
       "    }\n",
       "</style>\n",
       "<table border=\"1\" class=\"dataframe\">\n",
       "  <thead>\n",
       "    <tr style=\"text-align: right;\">\n",
       "      <th>play_type</th>\n",
       "      <th>pass</th>\n",
       "      <th>run</th>\n",
       "      <th>pass_percent</th>\n",
       "    </tr>\n",
       "    <tr>\n",
       "      <th>posteam</th>\n",
       "      <th></th>\n",
       "      <th></th>\n",
       "      <th></th>\n",
       "    </tr>\n",
       "  </thead>\n",
       "  <tbody>\n",
       "    <tr>\n",
       "      <th>NYJ</th>\n",
       "      <td>5428</td>\n",
       "      <td>4665</td>\n",
       "      <td>0.537798</td>\n",
       "    </tr>\n",
       "    <tr>\n",
       "      <th>CAR</th>\n",
       "      <td>5395</td>\n",
       "      <td>4551</td>\n",
       "      <td>0.542429</td>\n",
       "    </tr>\n",
       "    <tr>\n",
       "      <th>SEA</th>\n",
       "      <td>5339</td>\n",
       "      <td>4456</td>\n",
       "      <td>0.545074</td>\n",
       "    </tr>\n",
       "    <tr>\n",
       "      <th>BUF</th>\n",
       "      <td>5390</td>\n",
       "      <td>4466</td>\n",
       "      <td>0.546875</td>\n",
       "    </tr>\n",
       "    <tr>\n",
       "      <th>SF</th>\n",
       "      <td>5360</td>\n",
       "      <td>4286</td>\n",
       "      <td>0.555671</td>\n",
       "    </tr>\n",
       "    <tr>\n",
       "      <th>KC</th>\n",
       "      <td>5478</td>\n",
       "      <td>4353</td>\n",
       "      <td>0.557217</td>\n",
       "    </tr>\n",
       "    <tr>\n",
       "      <th>HOU</th>\n",
       "      <td>5782</td>\n",
       "      <td>4545</td>\n",
       "      <td>0.559892</td>\n",
       "    </tr>\n",
       "    <tr>\n",
       "      <th>TEN</th>\n",
       "      <td>5398</td>\n",
       "      <td>4115</td>\n",
       "      <td>0.567434</td>\n",
       "    </tr>\n",
       "    <tr>\n",
       "      <th>CIN</th>\n",
       "      <td>5623</td>\n",
       "      <td>4285</td>\n",
       "      <td>0.567521</td>\n",
       "    </tr>\n",
       "    <tr>\n",
       "      <th>MIN</th>\n",
       "      <td>5610</td>\n",
       "      <td>4228</td>\n",
       "      <td>0.570238</td>\n",
       "    </tr>\n",
       "    <tr>\n",
       "      <th>JAX</th>\n",
       "      <td>1735</td>\n",
       "      <td>1272</td>\n",
       "      <td>0.576987</td>\n",
       "    </tr>\n",
       "    <tr>\n",
       "      <th>CHI</th>\n",
       "      <td>5582</td>\n",
       "      <td>4066</td>\n",
       "      <td>0.578566</td>\n",
       "    </tr>\n",
       "    <tr>\n",
       "      <th>DAL</th>\n",
       "      <td>5742</td>\n",
       "      <td>4165</td>\n",
       "      <td>0.579590</td>\n",
       "    </tr>\n",
       "    <tr>\n",
       "      <th>STL</th>\n",
       "      <td>3972</td>\n",
       "      <td>2848</td>\n",
       "      <td>0.582405</td>\n",
       "    </tr>\n",
       "    <tr>\n",
       "      <th>BAL</th>\n",
       "      <td>5996</td>\n",
       "      <td>4281</td>\n",
       "      <td>0.583439</td>\n",
       "    </tr>\n",
       "    <tr>\n",
       "      <th>DEN</th>\n",
       "      <td>5991</td>\n",
       "      <td>4268</td>\n",
       "      <td>0.583975</td>\n",
       "    </tr>\n",
       "    <tr>\n",
       "      <th>NE</th>\n",
       "      <td>6167</td>\n",
       "      <td>4362</td>\n",
       "      <td>0.585716</td>\n",
       "    </tr>\n",
       "    <tr>\n",
       "      <th>SD</th>\n",
       "      <td>4794</td>\n",
       "      <td>3353</td>\n",
       "      <td>0.588437</td>\n",
       "    </tr>\n",
       "    <tr>\n",
       "      <th>LAC</th>\n",
       "      <td>1105</td>\n",
       "      <td>771</td>\n",
       "      <td>0.589019</td>\n",
       "    </tr>\n",
       "    <tr>\n",
       "      <th>PHI</th>\n",
       "      <td>6126</td>\n",
       "      <td>4233</td>\n",
       "      <td>0.591370</td>\n",
       "    </tr>\n",
       "    <tr>\n",
       "      <th>LA</th>\n",
       "      <td>1715</td>\n",
       "      <td>1183</td>\n",
       "      <td>0.591787</td>\n",
       "    </tr>\n",
       "    <tr>\n",
       "      <th>JAC</th>\n",
       "      <td>4170</td>\n",
       "      <td>2872</td>\n",
       "      <td>0.592161</td>\n",
       "    </tr>\n",
       "    <tr>\n",
       "      <th>MIA</th>\n",
       "      <td>5752</td>\n",
       "      <td>3961</td>\n",
       "      <td>0.592196</td>\n",
       "    </tr>\n",
       "    <tr>\n",
       "      <th>WAS</th>\n",
       "      <td>5844</td>\n",
       "      <td>3996</td>\n",
       "      <td>0.593902</td>\n",
       "    </tr>\n",
       "    <tr>\n",
       "      <th>CLE</th>\n",
       "      <td>5845</td>\n",
       "      <td>3975</td>\n",
       "      <td>0.595214</td>\n",
       "    </tr>\n",
       "    <tr>\n",
       "      <th>TB</th>\n",
       "      <td>5846</td>\n",
       "      <td>3958</td>\n",
       "      <td>0.596287</td>\n",
       "    </tr>\n",
       "    <tr>\n",
       "      <th>OAK</th>\n",
       "      <td>5863</td>\n",
       "      <td>3959</td>\n",
       "      <td>0.596925</td>\n",
       "    </tr>\n",
       "    <tr>\n",
       "      <th>NYG</th>\n",
       "      <td>5949</td>\n",
       "      <td>3940</td>\n",
       "      <td>0.601578</td>\n",
       "    </tr>\n",
       "    <tr>\n",
       "      <th>PIT</th>\n",
       "      <td>6025</td>\n",
       "      <td>3986</td>\n",
       "      <td>0.601838</td>\n",
       "    </tr>\n",
       "    <tr>\n",
       "      <th>GB</th>\n",
       "      <td>6054</td>\n",
       "      <td>3953</td>\n",
       "      <td>0.604977</td>\n",
       "    </tr>\n",
       "    <tr>\n",
       "      <th>ATL</th>\n",
       "      <td>6221</td>\n",
       "      <td>3951</td>\n",
       "      <td>0.611581</td>\n",
       "    </tr>\n",
       "    <tr>\n",
       "      <th>NO</th>\n",
       "      <td>6449</td>\n",
       "      <td>4018</td>\n",
       "      <td>0.616127</td>\n",
       "    </tr>\n",
       "    <tr>\n",
       "      <th>IND</th>\n",
       "      <td>6254</td>\n",
       "      <td>3882</td>\n",
       "      <td>0.617009</td>\n",
       "    </tr>\n",
       "    <tr>\n",
       "      <th>ARI</th>\n",
       "      <td>6113</td>\n",
       "      <td>3719</td>\n",
       "      <td>0.621745</td>\n",
       "    </tr>\n",
       "    <tr>\n",
       "      <th>DET</th>\n",
       "      <td>6564</td>\n",
       "      <td>3770</td>\n",
       "      <td>0.635185</td>\n",
       "    </tr>\n",
       "  </tbody>\n",
       "</table>\n",
       "</div>"
      ],
      "text/plain": [
       "play_type  pass   run  pass_percent\n",
       "posteam                            \n",
       "NYJ        5428  4665      0.537798\n",
       "CAR        5395  4551      0.542429\n",
       "SEA        5339  4456      0.545074\n",
       "BUF        5390  4466      0.546875\n",
       "SF         5360  4286      0.555671\n",
       "KC         5478  4353      0.557217\n",
       "HOU        5782  4545      0.559892\n",
       "TEN        5398  4115      0.567434\n",
       "CIN        5623  4285      0.567521\n",
       "MIN        5610  4228      0.570238\n",
       "JAX        1735  1272      0.576987\n",
       "CHI        5582  4066      0.578566\n",
       "DAL        5742  4165      0.579590\n",
       "STL        3972  2848      0.582405\n",
       "BAL        5996  4281      0.583439\n",
       "DEN        5991  4268      0.583975\n",
       "NE         6167  4362      0.585716\n",
       "SD         4794  3353      0.588437\n",
       "LAC        1105   771      0.589019\n",
       "PHI        6126  4233      0.591370\n",
       "LA         1715  1183      0.591787\n",
       "JAC        4170  2872      0.592161\n",
       "MIA        5752  3961      0.592196\n",
       "WAS        5844  3996      0.593902\n",
       "CLE        5845  3975      0.595214\n",
       "TB         5846  3958      0.596287\n",
       "OAK        5863  3959      0.596925\n",
       "NYG        5949  3940      0.601578\n",
       "PIT        6025  3986      0.601838\n",
       "GB         6054  3953      0.604977\n",
       "ATL        6221  3951      0.611581\n",
       "NO         6449  4018      0.616127\n",
       "IND        6254  3882      0.617009\n",
       "ARI        6113  3719      0.621745\n",
       "DET        6564  3770      0.635185"
      ]
     },
     "execution_count": 165,
     "metadata": {},
     "output_type": "execute_result"
    }
   ],
   "source": [
    "run_pass_team.sort_values('pass_percent')"
   ]
  },
  {
   "cell_type": "code",
   "execution_count": 166,
   "metadata": {},
   "outputs": [
    {
     "data": {
      "text/plain": [
       "<AxesSubplot:xlabel='posteam'>"
      ]
     },
     "execution_count": 166,
     "metadata": {},
     "output_type": "execute_result"
    },
    {
     "data": {
      "image/png": "[encoded data removed]",
      "text/plain": [
       "<Figure size 1152x864 with 1 Axes>"
      ]
     },
     "metadata": {
      "needs_background": "light"
     },
     "output_type": "display_data"
    }
   ],
   "source": [
    "#Playcall by team\n",
    "run_pass.groupby(['posteam', 'play_type',]).count()['play_id'].unstack().plot.bar(figsize=(16,12))"
   ]
  },
  {
   "cell_type": "markdown",
   "metadata": {},
   "source": [
    "### Data cleaning"
   ]
  },
  {
   "cell_type": "code",
   "execution_count": 167,
   "metadata": {},
   "outputs": [
    {
     "name": "stdout",
     "output_type": "stream",
     "text": [
      "<class 'pandas.core.frame.DataFrame'>\n",
      "Int64Index: 319369 entries, 1 to 449368\n",
      "Data columns (total 23 columns):\n",
      " #   Column                      Non-Null Count   Dtype  \n",
      "---  ------                      --------------   -----  \n",
      " 0   play_id                     319369 non-null  int64  \n",
      " 1   game_id                     319369 non-null  int64  \n",
      " 2   home_team                   319369 non-null  object \n",
      " 3   away_team                   319369 non-null  object \n",
      " 4   posteam                     319369 non-null  object \n",
      " 5   defteam                     319369 non-null  object \n",
      " 6   yardline_100                319369 non-null  float64\n",
      " 7   game_date                   319369 non-null  object \n",
      " 8   quarter_seconds_remaining   319369 non-null  float64\n",
      " 9   half_seconds_remaining      319352 non-null  float64\n",
      " 10  game_seconds_remaining      319355 non-null  float64\n",
      " 11  drive                       319369 non-null  int64  \n",
      " 12  qtr                         319369 non-null  int64  \n",
      " 13  down                        318691 non-null  float64\n",
      " 14  ydstogo                     319369 non-null  int64  \n",
      " 15  play_type                   319369 non-null  object \n",
      " 16  posteam_timeouts_remaining  319369 non-null  float64\n",
      " 17  defteam_timeouts_remaining  319369 non-null  float64\n",
      " 18  posteam_score               319369 non-null  float64\n",
      " 19  defteam_score               319369 non-null  float64\n",
      " 20  score_differential          319369 non-null  float64\n",
      " 21  game_year                   319369 non-null  object \n",
      " 22  lead                        319369 non-null  object \n",
      "dtypes: float64(10), int64(5), object(8)\n",
      "memory usage: 58.5+ MB\n"
     ]
    }
   ],
   "source": [
    "run_pass.info()"
   ]
  },
  {
   "cell_type": "markdown",
   "metadata": {},
   "source": [
    "Since there are only a few missing values (half_seconds_remaining, game_seconds_remaining, down), it is okay to drop these values without affecting our analysis."
   ]
  },
  {
   "cell_type": "code",
   "execution_count": 8,
   "metadata": {},
   "outputs": [],
   "source": [
    "run_pass.dropna(inplace = True)"
   ]
  },
  {
   "cell_type": "code",
   "execution_count": 169,
   "metadata": {
    "scrolled": true
   },
   "outputs": [
    {
     "name": "stdout",
     "output_type": "stream",
     "text": [
      "<class 'pandas.core.frame.DataFrame'>\n",
      "Int64Index: 318668 entries, 1 to 449368\n",
      "Data columns (total 23 columns):\n",
      " #   Column                      Non-Null Count   Dtype  \n",
      "---  ------                      --------------   -----  \n",
      " 0   play_id                     318668 non-null  int64  \n",
      " 1   game_id                     318668 non-null  int64  \n",
      " 2   home_team                   318668 non-null  object \n",
      " 3   away_team                   318668 non-null  object \n",
      " 4   posteam                     318668 non-null  object \n",
      " 5   defteam                     318668 non-null  object \n",
      " 6   yardline_100                318668 non-null  float64\n",
      " 7   game_date                   318668 non-null  object \n",
      " 8   quarter_seconds_remaining   318668 non-null  float64\n",
      " 9   half_seconds_remaining      318668 non-null  float64\n",
      " 10  game_seconds_remaining      318668 non-null  float64\n",
      " 11  drive                       318668 non-null  int64  \n",
      " 12  qtr                         318668 non-null  int64  \n",
      " 13  down                        318668 non-null  float64\n",
      " 14  ydstogo                     318668 non-null  int64  \n",
      " 15  play_type                   318668 non-null  object \n",
      " 16  posteam_timeouts_remaining  318668 non-null  float64\n",
      " 17  defteam_timeouts_remaining  318668 non-null  float64\n",
      " 18  posteam_score               318668 non-null  float64\n",
      " 19  defteam_score               318668 non-null  float64\n",
      " 20  score_differential          318668 non-null  float64\n",
      " 21  game_year                   318668 non-null  object \n",
      " 22  lead                        318668 non-null  object \n",
      "dtypes: float64(10), int64(5), object(8)\n",
      "memory usage: 58.3+ MB\n"
     ]
    }
   ],
   "source": [
    "run_pass.info()"
   ]
  },
  {
   "cell_type": "code",
   "execution_count": 9,
   "metadata": {
    "scrolled": true
   },
   "outputs": [],
   "source": [
    "conditions = [run_pass['home_team'] == 'JAC', run_pass['home_team'] == 'STL', run_pass['home_team'] == 'SD']\n",
    "\n",
    "choices = ['JAX', 'LA', 'LAC']\n",
    "\n",
    "run_pass['home_team'] = np.select(conditions, choices, default = run_pass['home_team'])"
   ]
  },
  {
   "cell_type": "code",
   "execution_count": 10,
   "metadata": {},
   "outputs": [],
   "source": [
    "conditions = [run_pass['away_team'] == 'JAC', run_pass['away_team'] == 'STL', run_pass['away_team'] == 'SD']\n",
    "\n",
    "choices = ['JAX', 'LA', 'LAC']\n",
    "\n",
    "run_pass['away_team'] = np.select(conditions, choices, default = run_pass['away_team'])"
   ]
  },
  {
   "cell_type": "code",
   "execution_count": 11,
   "metadata": {},
   "outputs": [],
   "source": [
    "conditions = [run_pass['posteam'] == 'JAC', run_pass['posteam'] == 'STL', run_pass['posteam'] == 'SD']\n",
    "\n",
    "choices = ['JAX', 'LA', 'LAC']\n",
    "\n",
    "run_pass['posteam'] = np.select(conditions, choices, default = run_pass['posteam'])"
   ]
  },
  {
   "cell_type": "code",
   "execution_count": 12,
   "metadata": {},
   "outputs": [],
   "source": [
    "conditions = [run_pass['defteam'] == 'JAC', run_pass['defteam'] == 'STL', run_pass['defteam'] == 'SD']\n",
    "\n",
    "choices = ['JAX', 'LA', 'LAC']\n",
    "\n",
    "run_pass['defteam'] = np.select(conditions, choices, default = run_pass['defteam'])"
   ]
  },
  {
   "cell_type": "markdown",
   "metadata": {},
   "source": [
    "### Preparing data for first simple models"
   ]
  },
  {
   "cell_type": "code",
   "execution_count": 13,
   "metadata": {},
   "outputs": [],
   "source": [
    "#defining run play as 0 and pass play as 1\n",
    "run_pass['pass'] = np.where(run_pass['play_type']=='pass', 1, 0)"
   ]
  },
  {
   "cell_type": "code",
   "execution_count": 175,
   "metadata": {},
   "outputs": [],
   "source": [
    "#picking features for simple model\n",
    "numeric_features = ['yardline_100', 'quarter_seconds_remaining', 'half_seconds_remaining', \\\n",
    "                    'game_seconds_remaining', 'drive', 'qtr', 'down', 'ydstogo', \\\n",
    "                    'posteam_timeouts_remaining', 'posteam_score', 'defteam_score', 'score_differential']"
   ]
  },
  {
   "cell_type": "code",
   "execution_count": 229,
   "metadata": {},
   "outputs": [],
   "source": [
    "X = run_pass[numeric_features]"
   ]
  },
  {
   "cell_type": "code",
   "execution_count": 230,
   "metadata": {},
   "outputs": [],
   "source": [
    "y = run_pass['pass']"
   ]
  },
  {
   "cell_type": "code",
   "execution_count": 231,
   "metadata": {},
   "outputs": [],
   "source": [
    "#train/test split\n",
    "X_train, X_test, y_train, y_test = train_test_split(X, y, random_state=2021)"
   ]
  },
  {
   "cell_type": "markdown",
   "metadata": {},
   "source": [
    "### Building dummy model"
   ]
  },
  {
   "cell_type": "code",
   "execution_count": 179,
   "metadata": {},
   "outputs": [],
   "source": [
    "#dummy model\n",
    "dummy_model = DummyClassifier(strategy=\"most_frequent\")"
   ]
  },
  {
   "cell_type": "code",
   "execution_count": 180,
   "metadata": {},
   "outputs": [
    {
     "data": {
      "text/plain": [
       "DummyClassifier(strategy='most_frequent')"
      ]
     },
     "execution_count": 180,
     "metadata": {},
     "output_type": "execute_result"
    }
   ],
   "source": [
    "dummy_model.fit(X_train, y_train)"
   ]
  },
  {
   "cell_type": "code",
   "execution_count": 181,
   "metadata": {},
   "outputs": [
    {
     "data": {
      "image/png": "[encoded data removed]",
      "text/plain": [
       "<Figure size 432x288 with 2 Axes>"
      ]
     },
     "metadata": {
      "needs_background": "light"
     },
     "output_type": "display_data"
    }
   ],
   "source": [
    "#confusion matrix for test data\n",
    "fig, ax = plt.subplots()\n",
    "\n",
    "fig.suptitle(\"Dummy Model\")\n",
    "\n",
    "plot_confusion_matrix(dummy_model, X_test, y_test, ax=ax, cmap=\"plasma\");"
   ]
  },
  {
   "cell_type": "code",
   "execution_count": 182,
   "metadata": {},
   "outputs": [
    {
     "data": {
      "text/plain": [
       "0.5851230747988502"
      ]
     },
     "execution_count": 182,
     "metadata": {},
     "output_type": "execute_result"
    }
   ],
   "source": [
    "#accuracy\n",
    "from sklearn.metrics import accuracy_score\n",
    "accuracy_score(y_test, dummy_model.predict(X_test))"
   ]
  },
  {
   "cell_type": "code",
   "execution_count": 183,
   "metadata": {},
   "outputs": [
    {
     "data": {
      "text/plain": [
       "0.5851230747988502"
      ]
     },
     "execution_count": 183,
     "metadata": {},
     "output_type": "execute_result"
    }
   ],
   "source": [
    "#precision\n",
    "from sklearn.metrics import precision_score\n",
    "precision_score(y_test, dummy_model.predict(X_test))"
   ]
  },
  {
   "cell_type": "code",
   "execution_count": 184,
   "metadata": {},
   "outputs": [
    {
     "data": {
      "text/plain": [
       "1.0"
      ]
     },
     "execution_count": 184,
     "metadata": {},
     "output_type": "execute_result"
    }
   ],
   "source": [
    "#recall\n",
    "from sklearn.metrics import recall_score\n",
    "recall_score(y_test, dummy_model.predict(X_test))"
   ]
  },
  {
   "cell_type": "code",
   "execution_count": 185,
   "metadata": {},
   "outputs": [
    {
     "data": {
      "text/plain": [
       "0.7382683201089625"
      ]
     },
     "execution_count": 185,
     "metadata": {},
     "output_type": "execute_result"
    }
   ],
   "source": [
    "#f1\n",
    "from sklearn.metrics import f1_score\n",
    "f1_score(y_test, dummy_model.predict(X_test))"
   ]
  },
  {
   "cell_type": "markdown",
   "metadata": {},
   "source": [
    "### Building a simple logistic regression model"
   ]
  },
  {
   "cell_type": "code",
   "execution_count": 232,
   "metadata": {},
   "outputs": [],
   "source": [
    "simple_logreg_model = LogisticRegression(random_state=2021, penalty='none', max_iter = 500)"
   ]
  },
  {
   "cell_type": "code",
   "execution_count": 233,
   "metadata": {},
   "outputs": [],
   "source": [
    "scaler = StandardScaler()  \n",
    "scaler.fit(X_train)\n",
    "\n",
    "X_train = scaler.transform(X_train)  \n",
    "X_test = scaler.transform(X_test)"
   ]
  },
  {
   "cell_type": "code",
   "execution_count": 234,
   "metadata": {
    "scrolled": true
   },
   "outputs": [
    {
     "data": {
      "text/plain": [
       "LogisticRegression(max_iter=500, penalty='none', random_state=2021)"
      ]
     },
     "execution_count": 234,
     "metadata": {},
     "output_type": "execute_result"
    }
   ],
   "source": [
    "simple_logreg_model.fit(X_train, y_train)"
   ]
  },
  {
   "cell_type": "code",
   "execution_count": 235,
   "metadata": {},
   "outputs": [
    {
     "data": {
      "image/png": "[encoded data removed]",
      "text/plain": [
       "<Figure size 432x288 with 2 Axes>"
      ]
     },
     "metadata": {
      "needs_background": "light"
     },
     "output_type": "display_data"
    }
   ],
   "source": [
    "#confusion matrix for test data\n",
    "fig, ax = plt.subplots()\n",
    "\n",
    "fig.suptitle(\"Simple Logistic Regression Model\")\n",
    "\n",
    "plot_confusion_matrix(simple_logreg_model, X_test, y_test, ax=ax, cmap=\"plasma\");"
   ]
  },
  {
   "cell_type": "code",
   "execution_count": 236,
   "metadata": {},
   "outputs": [
    {
     "data": {
      "text/plain": [
       "0.6592566558298919"
      ]
     },
     "execution_count": 236,
     "metadata": {},
     "output_type": "execute_result"
    }
   ],
   "source": [
    "#accuracy\n",
    "from sklearn.metrics import accuracy_score\n",
    "accuracy_score(y_test, simple_logreg_model.predict(X_test))"
   ]
  },
  {
   "cell_type": "code",
   "execution_count": 237,
   "metadata": {},
   "outputs": [
    {
     "data": {
      "text/plain": [
       "0.6885763545843746"
      ]
     },
     "execution_count": 237,
     "metadata": {},
     "output_type": "execute_result"
    }
   ],
   "source": [
    "#precision\n",
    "from sklearn.metrics import precision_score\n",
    "precision_score(y_test, simple_logreg_model.predict(X_test))"
   ]
  },
  {
   "cell_type": "code",
   "execution_count": 238,
   "metadata": {},
   "outputs": [
    {
     "data": {
      "text/plain": [
       "0.7625227930923523"
      ]
     },
     "execution_count": 238,
     "metadata": {},
     "output_type": "execute_result"
    }
   ],
   "source": [
    "#recall\n",
    "from sklearn.metrics import recall_score\n",
    "recall_score(y_test, simple_logreg_model.predict(X_test))"
   ]
  },
  {
   "cell_type": "code",
   "execution_count": 239,
   "metadata": {},
   "outputs": [
    {
     "data": {
      "text/plain": [
       "0.7236654586913147"
      ]
     },
     "execution_count": 239,
     "metadata": {},
     "output_type": "execute_result"
    }
   ],
   "source": [
    "#f1\n",
    "from sklearn.metrics import f1_score\n",
    "f1_score(y_test, simple_logreg_model.predict(X_test))"
   ]
  },
  {
   "cell_type": "markdown",
   "metadata": {},
   "source": [
    "### Feature engineering"
   ]
  },
  {
   "cell_type": "code",
   "execution_count": 193,
   "metadata": {
    "scrolled": false
   },
   "outputs": [
    {
     "name": "stdout",
     "output_type": "stream",
     "text": [
      "<class 'pandas.core.frame.DataFrame'>\n",
      "Int64Index: 318668 entries, 1 to 449368\n",
      "Data columns (total 24 columns):\n",
      " #   Column                      Non-Null Count   Dtype  \n",
      "---  ------                      --------------   -----  \n",
      " 0   play_id                     318668 non-null  int64  \n",
      " 1   game_id                     318668 non-null  int64  \n",
      " 2   home_team                   318668 non-null  object \n",
      " 3   away_team                   318668 non-null  object \n",
      " 4   posteam                     318668 non-null  object \n",
      " 5   defteam                     318668 non-null  object \n",
      " 6   yardline_100                318668 non-null  float64\n",
      " 7   game_date                   318668 non-null  object \n",
      " 8   quarter_seconds_remaining   318668 non-null  float64\n",
      " 9   half_seconds_remaining      318668 non-null  float64\n",
      " 10  game_seconds_remaining      318668 non-null  float64\n",
      " 11  drive                       318668 non-null  int64  \n",
      " 12  qtr                         318668 non-null  int64  \n",
      " 13  down                        318668 non-null  float64\n",
      " 14  ydstogo                     318668 non-null  int64  \n",
      " 15  play_type                   318668 non-null  object \n",
      " 16  posteam_timeouts_remaining  318668 non-null  float64\n",
      " 17  defteam_timeouts_remaining  318668 non-null  float64\n",
      " 18  posteam_score               318668 non-null  float64\n",
      " 19  defteam_score               318668 non-null  float64\n",
      " 20  score_differential          318668 non-null  float64\n",
      " 21  game_year                   318668 non-null  object \n",
      " 22  lead                        318668 non-null  object \n",
      " 23  pass                        318668 non-null  int64  \n",
      "dtypes: float64(10), int64(6), object(8)\n",
      "memory usage: 60.8+ MB\n"
     ]
    }
   ],
   "source": [
    "run_pass.info()"
   ]
  },
  {
   "cell_type": "code",
   "execution_count": 14,
   "metadata": {},
   "outputs": [],
   "source": [
    "#Adding feature if team is in the red zone\n",
    "run_pass['red_zone'] = np.where(run_pass['yardline_100']<=20, 1, 0)"
   ]
  },
  {
   "cell_type": "code",
   "execution_count": 15,
   "metadata": {},
   "outputs": [],
   "source": [
    "#Adding feature for two minute drill\n",
    "run_pass['two_min'] = np.where(run_pass['half_seconds_remaining']<=120, 1, 0)"
   ]
  },
  {
   "cell_type": "code",
   "execution_count": 16,
   "metadata": {},
   "outputs": [
    {
     "name": "stdout",
     "output_type": "stream",
     "text": [
      "<class 'pandas.core.frame.DataFrame'>\n",
      "Int64Index: 318668 entries, 1 to 449368\n",
      "Data columns (total 26 columns):\n",
      " #   Column                      Non-Null Count   Dtype  \n",
      "---  ------                      --------------   -----  \n",
      " 0   play_id                     318668 non-null  int64  \n",
      " 1   game_id                     318668 non-null  int64  \n",
      " 2   home_team                   318668 non-null  object \n",
      " 3   away_team                   318668 non-null  object \n",
      " 4   posteam                     318668 non-null  object \n",
      " 5   defteam                     318668 non-null  object \n",
      " 6   yardline_100                318668 non-null  float64\n",
      " 7   game_date                   318668 non-null  object \n",
      " 8   quarter_seconds_remaining   318668 non-null  float64\n",
      " 9   half_seconds_remaining      318668 non-null  float64\n",
      " 10  game_seconds_remaining      318668 non-null  float64\n",
      " 11  drive                       318668 non-null  int64  \n",
      " 12  qtr                         318668 non-null  int64  \n",
      " 13  down                        318668 non-null  float64\n",
      " 14  ydstogo                     318668 non-null  int64  \n",
      " 15  play_type                   318668 non-null  object \n",
      " 16  posteam_timeouts_remaining  318668 non-null  float64\n",
      " 17  defteam_timeouts_remaining  318668 non-null  float64\n",
      " 18  posteam_score               318668 non-null  float64\n",
      " 19  defteam_score               318668 non-null  float64\n",
      " 20  score_differential          318668 non-null  float64\n",
      " 21  game_year                   318668 non-null  object \n",
      " 22  lead                        318668 non-null  object \n",
      " 23  pass                        318668 non-null  int64  \n",
      " 24  red_zone                    318668 non-null  int64  \n",
      " 25  two_min                     318668 non-null  int64  \n",
      "dtypes: float64(10), int64(8), object(8)\n",
      "memory usage: 65.6+ MB\n"
     ]
    }
   ],
   "source": [
    "run_pass.info()"
   ]
  },
  {
   "cell_type": "code",
   "execution_count": 17,
   "metadata": {
    "scrolled": true
   },
   "outputs": [],
   "source": [
    "rp_df = pd.get_dummies(run_pass, columns = ['qtr', 'down', 'posteam', 'defteam', 'lead'], drop_first = True)"
   ]
  },
  {
   "cell_type": "code",
   "execution_count": 18,
   "metadata": {
    "scrolled": true
   },
   "outputs": [
    {
     "name": "stdout",
     "output_type": "stream",
     "text": [
      "<class 'pandas.core.frame.DataFrame'>\n",
      "Int64Index: 318668 entries, 1 to 449368\n",
      "Data columns (total 92 columns):\n",
      " #   Column                      Non-Null Count   Dtype  \n",
      "---  ------                      --------------   -----  \n",
      " 0   play_id                     318668 non-null  int64  \n",
      " 1   game_id                     318668 non-null  int64  \n",
      " 2   home_team                   318668 non-null  object \n",
      " 3   away_team                   318668 non-null  object \n",
      " 4   yardline_100                318668 non-null  float64\n",
      " 5   game_date                   318668 non-null  object \n",
      " 6   quarter_seconds_remaining   318668 non-null  float64\n",
      " 7   half_seconds_remaining      318668 non-null  float64\n",
      " 8   game_seconds_remaining      318668 non-null  float64\n",
      " 9   drive                       318668 non-null  int64  \n",
      " 10  ydstogo                     318668 non-null  int64  \n",
      " 11  play_type                   318668 non-null  object \n",
      " 12  posteam_timeouts_remaining  318668 non-null  float64\n",
      " 13  defteam_timeouts_remaining  318668 non-null  float64\n",
      " 14  posteam_score               318668 non-null  float64\n",
      " 15  defteam_score               318668 non-null  float64\n",
      " 16  score_differential          318668 non-null  float64\n",
      " 17  game_year                   318668 non-null  object \n",
      " 18  pass                        318668 non-null  int64  \n",
      " 19  red_zone                    318668 non-null  int64  \n",
      " 20  two_min                     318668 non-null  int64  \n",
      " 21  qtr_2                       318668 non-null  uint8  \n",
      " 22  qtr_3                       318668 non-null  uint8  \n",
      " 23  qtr_4                       318668 non-null  uint8  \n",
      " 24  qtr_5                       318668 non-null  uint8  \n",
      " 25  down_2.0                    318668 non-null  uint8  \n",
      " 26  down_3.0                    318668 non-null  uint8  \n",
      " 27  down_4.0                    318668 non-null  uint8  \n",
      " 28  posteam_ATL                 318668 non-null  uint8  \n",
      " 29  posteam_BAL                 318668 non-null  uint8  \n",
      " 30  posteam_BUF                 318668 non-null  uint8  \n",
      " 31  posteam_CAR                 318668 non-null  uint8  \n",
      " 32  posteam_CHI                 318668 non-null  uint8  \n",
      " 33  posteam_CIN                 318668 non-null  uint8  \n",
      " 34  posteam_CLE                 318668 non-null  uint8  \n",
      " 35  posteam_DAL                 318668 non-null  uint8  \n",
      " 36  posteam_DEN                 318668 non-null  uint8  \n",
      " 37  posteam_DET                 318668 non-null  uint8  \n",
      " 38  posteam_GB                  318668 non-null  uint8  \n",
      " 39  posteam_HOU                 318668 non-null  uint8  \n",
      " 40  posteam_IND                 318668 non-null  uint8  \n",
      " 41  posteam_JAX                 318668 non-null  uint8  \n",
      " 42  posteam_KC                  318668 non-null  uint8  \n",
      " 43  posteam_LA                  318668 non-null  uint8  \n",
      " 44  posteam_LAC                 318668 non-null  uint8  \n",
      " 45  posteam_MIA                 318668 non-null  uint8  \n",
      " 46  posteam_MIN                 318668 non-null  uint8  \n",
      " 47  posteam_NE                  318668 non-null  uint8  \n",
      " 48  posteam_NO                  318668 non-null  uint8  \n",
      " 49  posteam_NYG                 318668 non-null  uint8  \n",
      " 50  posteam_NYJ                 318668 non-null  uint8  \n",
      " 51  posteam_OAK                 318668 non-null  uint8  \n",
      " 52  posteam_PHI                 318668 non-null  uint8  \n",
      " 53  posteam_PIT                 318668 non-null  uint8  \n",
      " 54  posteam_SEA                 318668 non-null  uint8  \n",
      " 55  posteam_SF                  318668 non-null  uint8  \n",
      " 56  posteam_TB                  318668 non-null  uint8  \n",
      " 57  posteam_TEN                 318668 non-null  uint8  \n",
      " 58  posteam_WAS                 318668 non-null  uint8  \n",
      " 59  defteam_ATL                 318668 non-null  uint8  \n",
      " 60  defteam_BAL                 318668 non-null  uint8  \n",
      " 61  defteam_BUF                 318668 non-null  uint8  \n",
      " 62  defteam_CAR                 318668 non-null  uint8  \n",
      " 63  defteam_CHI                 318668 non-null  uint8  \n",
      " 64  defteam_CIN                 318668 non-null  uint8  \n",
      " 65  defteam_CLE                 318668 non-null  uint8  \n",
      " 66  defteam_DAL                 318668 non-null  uint8  \n",
      " 67  defteam_DEN                 318668 non-null  uint8  \n",
      " 68  defteam_DET                 318668 non-null  uint8  \n",
      " 69  defteam_GB                  318668 non-null  uint8  \n",
      " 70  defteam_HOU                 318668 non-null  uint8  \n",
      " 71  defteam_IND                 318668 non-null  uint8  \n",
      " 72  defteam_JAX                 318668 non-null  uint8  \n",
      " 73  defteam_KC                  318668 non-null  uint8  \n",
      " 74  defteam_LA                  318668 non-null  uint8  \n",
      " 75  defteam_LAC                 318668 non-null  uint8  \n",
      " 76  defteam_MIA                 318668 non-null  uint8  \n",
      " 77  defteam_MIN                 318668 non-null  uint8  \n",
      " 78  defteam_NE                  318668 non-null  uint8  \n",
      " 79  defteam_NO                  318668 non-null  uint8  \n",
      " 80  defteam_NYG                 318668 non-null  uint8  \n",
      " 81  defteam_NYJ                 318668 non-null  uint8  \n",
      " 82  defteam_OAK                 318668 non-null  uint8  \n",
      " 83  defteam_PHI                 318668 non-null  uint8  \n",
      " 84  defteam_PIT                 318668 non-null  uint8  \n",
      " 85  defteam_SEA                 318668 non-null  uint8  \n",
      " 86  defteam_SF                  318668 non-null  uint8  \n",
      " 87  defteam_TB                  318668 non-null  uint8  \n",
      " 88  defteam_TEN                 318668 non-null  uint8  \n",
      " 89  defteam_WAS                 318668 non-null  uint8  \n",
      " 90  lead_behind                 318668 non-null  uint8  \n",
      " 91  lead_tied                   318668 non-null  uint8  \n",
      "dtypes: float64(9), int64(7), object(5), uint8(71)\n",
      "memory usage: 75.1+ MB\n"
     ]
    }
   ],
   "source": [
    "rp_df.info()"
   ]
  },
  {
   "cell_type": "markdown",
   "metadata": {},
   "source": [
    "### Checking accuracy on random forest, decision tree, and logistic regression with new features"
   ]
  },
  {
   "cell_type": "code",
   "execution_count": 19,
   "metadata": {},
   "outputs": [],
   "source": [
    "X = rp_df.drop(columns = ['play_id', 'game_id', 'home_team', 'away_team',\n",
    "                         'game_date', 'play_type', 'game_year', 'pass'])"
   ]
  },
  {
   "cell_type": "code",
   "execution_count": 20,
   "metadata": {},
   "outputs": [],
   "source": [
    "y = rp_df['pass']"
   ]
  },
  {
   "cell_type": "code",
   "execution_count": 21,
   "metadata": {},
   "outputs": [],
   "source": [
    "#train/test split\n",
    "X_train, X_test, y_train, y_test = train_test_split(X, y, random_state=2021)"
   ]
  },
  {
   "cell_type": "code",
   "execution_count": 22,
   "metadata": {},
   "outputs": [],
   "source": [
    "scaler = StandardScaler()  \n",
    "scaler.fit(X_train)\n",
    "\n",
    "X_train = scaler.transform(X_train)  \n",
    "X_test = scaler.transform(X_test)"
   ]
  },
  {
   "cell_type": "code",
   "execution_count": 244,
   "metadata": {},
   "outputs": [],
   "source": [
    "names = ['Logistic Regression', 'Random Forest', 'Decision Tree']"
   ]
  },
  {
   "cell_type": "code",
   "execution_count": 26,
   "metadata": {},
   "outputs": [],
   "source": [
    "from sklearn.ensemble import RandomForestClassifier"
   ]
  },
  {
   "cell_type": "code",
   "execution_count": 33,
   "metadata": {},
   "outputs": [],
   "source": [
    "from sklearn.tree import DecisionTreeClassifier"
   ]
  },
  {
   "cell_type": "code",
   "execution_count": 247,
   "metadata": {},
   "outputs": [],
   "source": [
    "classifiers = [LogisticRegression(random_state=2021, penalty='none', max_iter = 500), \n",
    "              RandomForestClassifier(max_depth = 5, n_estimators = 100),\n",
    "              DecisionTreeClassifier(max_depth = 5)]"
   ]
  },
  {
   "cell_type": "code",
   "execution_count": 248,
   "metadata": {},
   "outputs": [],
   "source": [
    "scores = []\n",
    "for name, clf in zip(names, classifiers):\n",
    "    clf.fit(X_train, y_train)\n",
    "    score = clf.score(X_test, y_test)\n",
    "    scores.append(score)"
   ]
  },
  {
   "cell_type": "code",
   "execution_count": 249,
   "metadata": {},
   "outputs": [
    {
     "data": {
      "text/plain": [
       "[0.6650055857506872, 0.6384324751779281, 0.6611771498864022]"
      ]
     },
     "execution_count": 249,
     "metadata": {},
     "output_type": "execute_result"
    }
   ],
   "source": [
    "scores"
   ]
  },
  {
   "cell_type": "markdown",
   "metadata": {},
   "source": [
    "### Grid search with Random Forest"
   ]
  },
  {
   "cell_type": "code",
   "execution_count": 23,
   "metadata": {},
   "outputs": [],
   "source": [
    "from sklearn.model_selection import GridSearchCV"
   ]
  },
  {
   "cell_type": "code",
   "execution_count": 38,
   "metadata": {},
   "outputs": [],
   "source": [
    "param_grid = { \n",
    "    'n_estimators': [100, 250],\n",
    "    \"min_samples_leaf\": [5, 10, 15],\n",
    "    'max_leaf_nodes':[20, 35, 50],\n",
    "}"
   ]
  },
  {
   "cell_type": "code",
   "execution_count": 39,
   "metadata": {},
   "outputs": [],
   "source": [
    "grid_tree=GridSearchCV(RandomForestClassifier(), param_grid, cv=5, scoring='accuracy', verbose=1, n_jobs=-1)"
   ]
  },
  {
   "cell_type": "code",
   "execution_count": 40,
   "metadata": {},
   "outputs": [
    {
     "name": "stdout",
     "output_type": "stream",
     "text": [
      "Fitting 5 folds for each of 18 candidates, totalling 90 fits\n"
     ]
    },
    {
     "name": "stderr",
     "output_type": "stream",
     "text": [
      "[Parallel(n_jobs=-1)]: Using backend LokyBackend with 4 concurrent workers.\n",
      "[Parallel(n_jobs=-1)]: Done  42 tasks      | elapsed: 13.3min\n",
      "[Parallel(n_jobs=-1)]: Done  90 out of  90 | elapsed: 32.2min finished\n"
     ]
    },
    {
     "data": {
      "text/plain": [
       "GridSearchCV(cv=5, estimator=RandomForestClassifier(), n_jobs=-1,\n",
       "             param_grid={'max_leaf_nodes': [20, 35, 50],\n",
       "                         'min_samples_leaf': [5, 10, 15],\n",
       "                         'n_estimators': [100, 250]},\n",
       "             scoring='accuracy', verbose=1)"
      ]
     },
     "execution_count": 40,
     "metadata": {},
     "output_type": "execute_result"
    }
   ],
   "source": [
    "grid_tree.fit(X_train, y_train)"
   ]
  },
  {
   "cell_type": "code",
   "execution_count": 41,
   "metadata": {
    "scrolled": true
   },
   "outputs": [
    {
     "name": "stdout",
     "output_type": "stream",
     "text": [
      "0.6675243983533896\n",
      "{'max_leaf_nodes': 50, 'min_samples_leaf': 5, 'n_estimators': 100}\n",
      "RandomForestClassifier(max_leaf_nodes=50, min_samples_leaf=5)\n"
     ]
    }
   ],
   "source": [
    "# Single best score achieved across all params (min_samples_split)\n",
    "print(grid_tree.best_score_)\n",
    "\n",
    "# Dictionary containing the parameters (min_samples_split) used to generate that score\n",
    "print(grid_tree.best_params_)\n",
    "\n",
    "# Actual model object fit with those best parameters\n",
    "# Shows default parameters that we did not specify\n",
    "print(grid_tree.best_estimator_)\n",
    "#Identify the best score during fitting with cross-validation"
   ]
  },
  {
   "cell_type": "markdown",
   "metadata": {},
   "source": [
    "### Grid search with a Decision Tree"
   ]
  },
  {
   "cell_type": "code",
   "execution_count": 47,
   "metadata": {},
   "outputs": [],
   "source": [
    "param_grid = { \n",
    "    'criterion': ['gini', 'entropy'],\n",
    "    'max_depth': [2, 4, 6, 8, 10, 12, 14, 16, 18, 20, None],\n",
    "    'max_features': ['auto', None, 25, 100],\n",
    "    'class_weight': [None, 'balanced']\n",
    "}"
   ]
  },
  {
   "cell_type": "code",
   "execution_count": 48,
   "metadata": {},
   "outputs": [],
   "source": [
    "grid_tree=GridSearchCV(DecisionTreeClassifier(), param_grid, cv=5, scoring='accuracy', verbose=1, n_jobs=-1)"
   ]
  },
  {
   "cell_type": "code",
   "execution_count": 49,
   "metadata": {},
   "outputs": [
    {
     "name": "stdout",
     "output_type": "stream",
     "text": [
      "Fitting 5 folds for each of 176 candidates, totalling 880 fits\n"
     ]
    },
    {
     "name": "stderr",
     "output_type": "stream",
     "text": [
      "[Parallel(n_jobs=-1)]: Using backend LokyBackend with 4 concurrent workers.\n",
      "[Parallel(n_jobs=-1)]: Done  42 tasks      | elapsed:   16.1s\n",
      "[Parallel(n_jobs=-1)]: Done 192 tasks      | elapsed:  2.2min\n",
      "[Parallel(n_jobs=-1)]: Done 442 tasks      | elapsed:  5.2min\n",
      "[Parallel(n_jobs=-1)]: Done 792 tasks      | elapsed:  9.4min\n",
      "[Parallel(n_jobs=-1)]: Done 880 out of 880 | elapsed: 11.1min finished\n"
     ]
    },
    {
     "data": {
      "text/plain": [
       "GridSearchCV(cv=5, estimator=DecisionTreeClassifier(), n_jobs=-1,\n",
       "             param_grid={'class_weight': [None, 'balanced'],\n",
       "                         'criterion': ['gini', 'entropy'],\n",
       "                         'max_depth': [2, 4, 6, 8, 10, 12, 14, 16, 18, 20,\n",
       "                                       None],\n",
       "                         'max_features': ['auto', None, 25, 100]},\n",
       "             scoring='accuracy', verbose=1)"
      ]
     },
     "execution_count": 49,
     "metadata": {},
     "output_type": "execute_result"
    }
   ],
   "source": [
    "grid_tree.fit(X_train, y_train)"
   ]
  },
  {
   "cell_type": "code",
   "execution_count": 50,
   "metadata": {},
   "outputs": [
    {
     "name": "stdout",
     "output_type": "stream",
     "text": [
      "0.6904071428802763\n",
      "{'class_weight': None, 'criterion': 'entropy', 'max_depth': 12, 'max_features': None}\n",
      "DecisionTreeClassifier(criterion='entropy', max_depth=12)\n"
     ]
    }
   ],
   "source": [
    "# Single best score achieved across all params (min_samples_split)\n",
    "print(grid_tree.best_score_)\n",
    "\n",
    "# Dictionary containing the parameters (min_samples_split) used to generate that score\n",
    "print(grid_tree.best_params_)\n",
    "\n",
    "# Actual model object fit with those best parameters\n",
    "# Shows default parameters that we did not specify\n",
    "print(grid_tree.best_estimator_)\n",
    "#Identify the best score during fitting with cross-validation"
   ]
  },
  {
   "cell_type": "markdown",
   "metadata": {},
   "source": [
    "### XGBoost"
   ]
  },
  {
   "cell_type": "code",
   "execution_count": 51,
   "metadata": {},
   "outputs": [],
   "source": [
    "import xgboost"
   ]
  },
  {
   "cell_type": "code",
   "execution_count": 52,
   "metadata": {},
   "outputs": [],
   "source": [
    "param_grid = { \n",
    "    'n_estimators': [10, 50, 100],\n",
    "    'max_depth': [5, 10, None],\n",
    "    'booster': ['gbtree', 'gblinear', 'dart']\n",
    "}"
   ]
  },
  {
   "cell_type": "code",
   "execution_count": 55,
   "metadata": {},
   "outputs": [],
   "source": [
    "grid_tree=GridSearchCV(xgboost.XGBClassifier(objective='binary:logistic'), param_grid, cv=5, scoring='accuracy', verbose=1, n_jobs=-1)"
   ]
  },
  {
   "cell_type": "code",
   "execution_count": 56,
   "metadata": {},
   "outputs": [
    {
     "name": "stdout",
     "output_type": "stream",
     "text": [
      "Fitting 5 folds for each of 27 candidates, totalling 135 fits\n"
     ]
    },
    {
     "name": "stderr",
     "output_type": "stream",
     "text": [
      "[Parallel(n_jobs=-1)]: Using backend LokyBackend with 4 concurrent workers.\n",
      "[Parallel(n_jobs=-1)]: Done  42 tasks      | elapsed: 18.4min\n",
      "[Parallel(n_jobs=-1)]: Done 135 out of 135 | elapsed: 48.2min finished\n"
     ]
    },
    {
     "data": {
      "text/plain": [
       "GridSearchCV(cv=5,\n",
       "             estimator=XGBClassifier(base_score=None, booster=None,\n",
       "                                     colsample_bylevel=None,\n",
       "                                     colsample_bynode=None,\n",
       "                                     colsample_bytree=None, gamma=None,\n",
       "                                     gpu_id=None, importance_type='gain',\n",
       "                                     interaction_constraints=None,\n",
       "                                     learning_rate=None, max_delta_step=None,\n",
       "                                     max_depth=None, min_child_weight=None,\n",
       "                                     missing=nan, monotone_constraints=None,\n",
       "                                     n_estimators=100, n_jobs=None,\n",
       "                                     num_parallel_tree=None, random_state=None,\n",
       "                                     reg_alpha=None, reg_lambda=None,\n",
       "                                     scale_pos_weight=None, subsample=None,\n",
       "                                     tree_method=None, validate_parameters=None,\n",
       "                                     verbosity=None),\n",
       "             n_jobs=-1,\n",
       "             param_grid={'booster': ['gbtree', 'gblinear', 'dart'],\n",
       "                         'max_depth': [5, 10, None],\n",
       "                         'n_estimators': [10, 50, 100]},\n",
       "             scoring='accuracy', verbose=1)"
      ]
     },
     "execution_count": 56,
     "metadata": {},
     "output_type": "execute_result"
    }
   ],
   "source": [
    "grid_tree.fit(X_train, y_train)"
   ]
  },
  {
   "cell_type": "code",
   "execution_count": 57,
   "metadata": {},
   "outputs": [
    {
     "name": "stdout",
     "output_type": "stream",
     "text": [
      "0.7013443356824787\n",
      "{'booster': 'gbtree', 'max_depth': 5, 'n_estimators': 100}\n",
      "XGBClassifier(base_score=0.5, booster='gbtree', colsample_bylevel=1,\n",
      "              colsample_bynode=1, colsample_bytree=1, gamma=0, gpu_id=-1,\n",
      "              importance_type='gain', interaction_constraints='',\n",
      "              learning_rate=0.300000012, max_delta_step=0, max_depth=5,\n",
      "              min_child_weight=1, missing=nan, monotone_constraints='()',\n",
      "              n_estimators=100, n_jobs=0, num_parallel_tree=1, random_state=0,\n",
      "              reg_alpha=0, reg_lambda=1, scale_pos_weight=1, subsample=1,\n",
      "              tree_method='exact', validate_parameters=1, verbosity=None)\n"
     ]
    }
   ],
   "source": [
    "# Single best score achieved across all params (min_samples_split)\n",
    "print(grid_tree.best_score_)\n",
    "\n",
    "# Dictionary containing the parameters (min_samples_split) used to generate that score\n",
    "print(grid_tree.best_params_)\n",
    "\n",
    "# Actual model object fit with those best parameters\n",
    "# Shows default parameters that we did not specify\n",
    "print(grid_tree.best_estimator_)\n",
    "#Identify the best score during fitting with cross-validation"
   ]
  },
  {
   "cell_type": "code",
   "execution_count": 60,
   "metadata": {},
   "outputs": [],
   "source": [
    "BestModel = xgboost.XGBClassifier(base_score=0.5, booster='gbtree', colsample_bylevel=1,\n",
    "              colsample_bynode=1, colsample_bytree=1, gamma=0, gpu_id=-1,\n",
    "              importance_type='gain', interaction_constraints='',\n",
    "              learning_rate=0.300000012, max_delta_step=0, max_depth=5,\n",
    "              min_child_weight=1, monotone_constraints='()',\n",
    "              n_estimators=100, n_jobs=0, num_parallel_tree=1, random_state=0,\n",
    "              reg_alpha=0, reg_lambda=1, scale_pos_weight=1, subsample=1,\n",
    "              tree_method='exact', validate_parameters=1, verbosity=None)"
   ]
  },
  {
   "cell_type": "code",
   "execution_count": 61,
   "metadata": {},
   "outputs": [
    {
     "data": {
      "text/plain": [
       "XGBClassifier(base_score=0.5, booster='gbtree', colsample_bylevel=1,\n",
       "              colsample_bynode=1, colsample_bytree=1, gamma=0, gpu_id=-1,\n",
       "              importance_type='gain', interaction_constraints='',\n",
       "              learning_rate=0.300000012, max_delta_step=0, max_depth=5,\n",
       "              min_child_weight=1, missing=nan, monotone_constraints='()',\n",
       "              n_estimators=100, n_jobs=0, num_parallel_tree=1, random_state=0,\n",
       "              reg_alpha=0, reg_lambda=1, scale_pos_weight=1, subsample=1,\n",
       "              tree_method='exact', validate_parameters=1, verbosity=None)"
      ]
     },
     "execution_count": 61,
     "metadata": {},
     "output_type": "execute_result"
    }
   ],
   "source": [
    "BestModel.fit(X_train, y_train)"
   ]
  },
  {
   "cell_type": "code",
   "execution_count": 62,
   "metadata": {},
   "outputs": [
    {
     "data": {
      "image/png": "[encoded data removed]",
      "text/plain": [
       "<Figure size 432x288 with 2 Axes>"
      ]
     },
     "metadata": {
      "needs_background": "light"
     },
     "output_type": "display_data"
    }
   ],
   "source": [
    "#confusion matrix for test data\n",
    "fig, ax = plt.subplots()\n",
    "\n",
    "fig.suptitle(\"XGBoost Model after grid search\")\n",
    "\n",
    "plot_confusion_matrix(BestModel, X_test, y_test, ax=ax, cmap=\"plasma\");"
   ]
  },
  {
   "cell_type": "code",
   "execution_count": 63,
   "metadata": {},
   "outputs": [
    {
     "data": {
      "text/plain": [
       "0.7019594060275899"
      ]
     },
     "execution_count": 63,
     "metadata": {},
     "output_type": "execute_result"
    }
   ],
   "source": [
    "#accuracy\n",
    "from sklearn.metrics import accuracy_score\n",
    "accuracy_score(y_test, BestModel.predict(X_test))"
   ]
  },
  {
   "cell_type": "code",
   "execution_count": 86,
   "metadata": {},
   "outputs": [
    {
     "data": {
      "image/png": "[encoded data removed]",
      "text/plain": [
       "<Figure size 432x288 with 1 Axes>"
      ]
     },
     "metadata": {
      "needs_background": "light"
     },
     "output_type": "display_data"
    }
   ],
   "source": [
    "import matplotlib.pylab as plt\n",
    "from matplotlib import pyplot\n",
    "from xgboost import plot_importance\n",
    "plot_importance(BestModel, max_num_features=15) # top 10 most important features\n",
    "plt.show()"
   ]
  },
  {
   "cell_type": "code",
   "execution_count": 89,
   "metadata": {},
   "outputs": [
    {
     "data": {
      "text/plain": [
       "Index(['yardline_100', 'quarter_seconds_remaining', 'half_seconds_remaining',\n",
       "       'game_seconds_remaining', 'drive', 'ydstogo',\n",
       "       'posteam_timeouts_remaining', 'defteam_timeouts_remaining',\n",
       "       'posteam_score', 'defteam_score', 'score_differential', 'red_zone',\n",
       "       'two_min', 'qtr_2', 'qtr_3', 'qtr_4', 'qtr_5', 'down_2.0', 'down_3.0',\n",
       "       'down_4.0', 'posteam_ATL', 'posteam_BAL', 'posteam_BUF', 'posteam_CAR',\n",
       "       'posteam_CHI', 'posteam_CIN', 'posteam_CLE', 'posteam_DAL',\n",
       "       'posteam_DEN', 'posteam_DET', 'posteam_GB', 'posteam_HOU',\n",
       "       'posteam_IND', 'posteam_JAX', 'posteam_KC', 'posteam_LA', 'posteam_LAC',\n",
       "       'posteam_MIA', 'posteam_MIN', 'posteam_NE', 'posteam_NO', 'posteam_NYG',\n",
       "       'posteam_NYJ', 'posteam_OAK', 'posteam_PHI', 'posteam_PIT',\n",
       "       'posteam_SEA', 'posteam_SF', 'posteam_TB', 'posteam_TEN', 'posteam_WAS',\n",
       "       'defteam_ATL', 'defteam_BAL', 'defteam_BUF', 'defteam_CAR',\n",
       "       'defteam_CHI', 'defteam_CIN', 'defteam_CLE', 'defteam_DAL',\n",
       "       'defteam_DEN', 'defteam_DET', 'defteam_GB', 'defteam_HOU',\n",
       "       'defteam_IND', 'defteam_JAX', 'defteam_KC', 'defteam_LA', 'defteam_LAC',\n",
       "       'defteam_MIA', 'defteam_MIN', 'defteam_NE', 'defteam_NO', 'defteam_NYG',\n",
       "       'defteam_NYJ', 'defteam_OAK', 'defteam_PHI', 'defteam_PIT',\n",
       "       'defteam_SEA', 'defteam_SF', 'defteam_TB', 'defteam_TEN', 'defteam_WAS',\n",
       "       'lead_behind', 'lead_tied'],\n",
       "      dtype='object')"
      ]
     },
     "execution_count": 89,
     "metadata": {},
     "output_type": "execute_result"
    }
   ],
   "source": [
    "X.columns"
   ]
  },
  {
   "cell_type": "code",
   "execution_count": 90,
   "metadata": {},
   "outputs": [
    {
     "data": {
      "text/plain": [
       "array([1, 0, 1, ..., 1, 1, 1])"
      ]
     },
     "execution_count": 90,
     "metadata": {},
     "output_type": "execute_result"
    }
   ],
   "source": [
    "BestModel.predict(X_test)"
   ]
  },
  {
   "cell_type": "code",
   "execution_count": null,
   "metadata": {},
   "outputs": [],
   "source": []
  }
 ],
 "metadata": {
  "kernelspec": {
   "display_name": "Python 3",
   "language": "python",
   "name": "python3"
  },
  "language_info": {
   "codemirror_mode": {
    "name": "ipython",
    "version": 3
   },
   "file_extension": ".py",
   "mimetype": "text/x-python",
   "name": "python",
   "nbconvert_exporter": "python",
   "pygments_lexer": "ipython3",
   "version": "3.8.5"
  }
 },
 "nbformat": 4,
 "nbformat_minor": 4
}
