{
 "cells": [
  {
   "cell_type": "markdown",
   "metadata": {},
   "source": [
    "### Import packages and data"
   ]
  },
  {
   "cell_type": "code",
   "execution_count": 1,
   "metadata": {},
   "outputs": [],
   "source": [
    "import pandas as pd\n",
    "import numpy as np\n",
    "import math\n",
    "\n",
    "import matplotlib.pyplot as plt\n",
    "import seaborn as sns\n",
    "%matplotlib inline\n",
    "\n",
    "from sklearn.preprocessing import OneHotEncoder, StandardScaler\n",
    "\n",
    "from sklearn.impute import MissingIndicator, SimpleImputer\n",
    "\n",
    "from sklearn.dummy import DummyClassifier\n",
    "from sklearn.linear_model import LogisticRegression\n",
    "\n",
    "from sklearn.model_selection import train_test_split, cross_val_score\n",
    "from sklearn.feature_selection import SelectFromModel\n",
    "\n",
    "from sklearn.metrics import plot_confusion_matrix\n",
    "from sklearn.metrics import confusion_matrix\n",
    "from sklearn.metrics import plot_roc_curve"
   ]
  },
  {
   "cell_type": "code",
   "execution_count": 3,
   "metadata": {
    "scrolled": true
   },
   "outputs": [
    {
     "name": "stderr",
     "output_type": "stream",
     "text": [
      "/Users/jameshodgens/opt/anaconda3/envs/learn-env/lib/python3.8/site-packages/IPython/core/interactiveshell.py:3145: DtypeWarning: Columns (42,166,167,168,169,174,175,178,179,182,183,188,189,190,191,194,195,203,204,205,218,219,220,231,232,233,238,240,241,249) have mixed types.Specify dtype option on import or set low_memory=False.\n",
      "  has_raised = await self.run_ast_nodes(code_ast.body, cell_name,\n"
     ]
    }
   ],
   "source": [
    "nfl_df = pd.read_csv('NFL_Play_by_Play_2009-2018_(v5).csv')"
   ]
  },
  {
   "cell_type": "markdown",
   "metadata": {},
   "source": [
    "### Exploratory data analysis"
   ]
  },
  {
   "cell_type": "code",
   "execution_count": 4,
   "metadata": {
    "scrolled": true
   },
   "outputs": [
    {
     "data": {
      "text/html": [
       "<div>\n",
       "<style scoped>\n",
       "    .dataframe tbody tr th:only-of-type {\n",
       "        vertical-align: middle;\n",
       "    }\n",
       "\n",
       "    .dataframe tbody tr th {\n",
       "        vertical-align: top;\n",
       "    }\n",
       "\n",
       "    .dataframe thead th {\n",
       "        text-align: right;\n",
       "    }\n",
       "</style>\n",
       "<table border=\"1\" class=\"dataframe\">\n",
       "  <thead>\n",
       "    <tr style=\"text-align: right;\">\n",
       "      <th></th>\n",
       "      <th>play_id</th>\n",
       "      <th>game_id</th>\n",
       "      <th>home_team</th>\n",
       "      <th>away_team</th>\n",
       "      <th>posteam</th>\n",
       "      <th>posteam_type</th>\n",
       "      <th>defteam</th>\n",
       "      <th>side_of_field</th>\n",
       "      <th>yardline_100</th>\n",
       "      <th>game_date</th>\n",
       "      <th>...</th>\n",
       "      <th>penalty_player_id</th>\n",
       "      <th>penalty_player_name</th>\n",
       "      <th>penalty_yards</th>\n",
       "      <th>replay_or_challenge</th>\n",
       "      <th>replay_or_challenge_result</th>\n",
       "      <th>penalty_type</th>\n",
       "      <th>defensive_two_point_attempt</th>\n",
       "      <th>defensive_two_point_conv</th>\n",
       "      <th>defensive_extra_point_attempt</th>\n",
       "      <th>defensive_extra_point_conv</th>\n",
       "    </tr>\n",
       "  </thead>\n",
       "  <tbody>\n",
       "    <tr>\n",
       "      <th>0</th>\n",
       "      <td>46</td>\n",
       "      <td>2009091000</td>\n",
       "      <td>PIT</td>\n",
       "      <td>TEN</td>\n",
       "      <td>PIT</td>\n",
       "      <td>home</td>\n",
       "      <td>TEN</td>\n",
       "      <td>TEN</td>\n",
       "      <td>30.0</td>\n",
       "      <td>2009-09-10</td>\n",
       "      <td>...</td>\n",
       "      <td>NaN</td>\n",
       "      <td>NaN</td>\n",
       "      <td>NaN</td>\n",
       "      <td>0</td>\n",
       "      <td>NaN</td>\n",
       "      <td>NaN</td>\n",
       "      <td>0.0</td>\n",
       "      <td>0.0</td>\n",
       "      <td>0.0</td>\n",
       "      <td>0.0</td>\n",
       "    </tr>\n",
       "    <tr>\n",
       "      <th>1</th>\n",
       "      <td>68</td>\n",
       "      <td>2009091000</td>\n",
       "      <td>PIT</td>\n",
       "      <td>TEN</td>\n",
       "      <td>PIT</td>\n",
       "      <td>home</td>\n",
       "      <td>TEN</td>\n",
       "      <td>PIT</td>\n",
       "      <td>58.0</td>\n",
       "      <td>2009-09-10</td>\n",
       "      <td>...</td>\n",
       "      <td>NaN</td>\n",
       "      <td>NaN</td>\n",
       "      <td>NaN</td>\n",
       "      <td>0</td>\n",
       "      <td>NaN</td>\n",
       "      <td>NaN</td>\n",
       "      <td>0.0</td>\n",
       "      <td>0.0</td>\n",
       "      <td>0.0</td>\n",
       "      <td>0.0</td>\n",
       "    </tr>\n",
       "    <tr>\n",
       "      <th>2</th>\n",
       "      <td>92</td>\n",
       "      <td>2009091000</td>\n",
       "      <td>PIT</td>\n",
       "      <td>TEN</td>\n",
       "      <td>PIT</td>\n",
       "      <td>home</td>\n",
       "      <td>TEN</td>\n",
       "      <td>PIT</td>\n",
       "      <td>53.0</td>\n",
       "      <td>2009-09-10</td>\n",
       "      <td>...</td>\n",
       "      <td>NaN</td>\n",
       "      <td>NaN</td>\n",
       "      <td>NaN</td>\n",
       "      <td>0</td>\n",
       "      <td>NaN</td>\n",
       "      <td>NaN</td>\n",
       "      <td>0.0</td>\n",
       "      <td>0.0</td>\n",
       "      <td>0.0</td>\n",
       "      <td>0.0</td>\n",
       "    </tr>\n",
       "    <tr>\n",
       "      <th>3</th>\n",
       "      <td>113</td>\n",
       "      <td>2009091000</td>\n",
       "      <td>PIT</td>\n",
       "      <td>TEN</td>\n",
       "      <td>PIT</td>\n",
       "      <td>home</td>\n",
       "      <td>TEN</td>\n",
       "      <td>PIT</td>\n",
       "      <td>56.0</td>\n",
       "      <td>2009-09-10</td>\n",
       "      <td>...</td>\n",
       "      <td>NaN</td>\n",
       "      <td>NaN</td>\n",
       "      <td>NaN</td>\n",
       "      <td>0</td>\n",
       "      <td>NaN</td>\n",
       "      <td>NaN</td>\n",
       "      <td>0.0</td>\n",
       "      <td>0.0</td>\n",
       "      <td>0.0</td>\n",
       "      <td>0.0</td>\n",
       "    </tr>\n",
       "    <tr>\n",
       "      <th>4</th>\n",
       "      <td>139</td>\n",
       "      <td>2009091000</td>\n",
       "      <td>PIT</td>\n",
       "      <td>TEN</td>\n",
       "      <td>PIT</td>\n",
       "      <td>home</td>\n",
       "      <td>TEN</td>\n",
       "      <td>PIT</td>\n",
       "      <td>56.0</td>\n",
       "      <td>2009-09-10</td>\n",
       "      <td>...</td>\n",
       "      <td>NaN</td>\n",
       "      <td>NaN</td>\n",
       "      <td>NaN</td>\n",
       "      <td>0</td>\n",
       "      <td>NaN</td>\n",
       "      <td>NaN</td>\n",
       "      <td>0.0</td>\n",
       "      <td>0.0</td>\n",
       "      <td>0.0</td>\n",
       "      <td>0.0</td>\n",
       "    </tr>\n",
       "  </tbody>\n",
       "</table>\n",
       "<p>5 rows × 255 columns</p>\n",
       "</div>"
      ],
      "text/plain": [
       "   play_id     game_id home_team away_team posteam posteam_type defteam  \\\n",
       "0       46  2009091000       PIT       TEN     PIT         home     TEN   \n",
       "1       68  2009091000       PIT       TEN     PIT         home     TEN   \n",
       "2       92  2009091000       PIT       TEN     PIT         home     TEN   \n",
       "3      113  2009091000       PIT       TEN     PIT         home     TEN   \n",
       "4      139  2009091000       PIT       TEN     PIT         home     TEN   \n",
       "\n",
       "  side_of_field  yardline_100   game_date  ...  penalty_player_id  \\\n",
       "0           TEN          30.0  2009-09-10  ...                NaN   \n",
       "1           PIT          58.0  2009-09-10  ...                NaN   \n",
       "2           PIT          53.0  2009-09-10  ...                NaN   \n",
       "3           PIT          56.0  2009-09-10  ...                NaN   \n",
       "4           PIT          56.0  2009-09-10  ...                NaN   \n",
       "\n",
       "   penalty_player_name  penalty_yards replay_or_challenge  \\\n",
       "0                  NaN            NaN                   0   \n",
       "1                  NaN            NaN                   0   \n",
       "2                  NaN            NaN                   0   \n",
       "3                  NaN            NaN                   0   \n",
       "4                  NaN            NaN                   0   \n",
       "\n",
       "   replay_or_challenge_result  penalty_type  defensive_two_point_attempt  \\\n",
       "0                         NaN           NaN                          0.0   \n",
       "1                         NaN           NaN                          0.0   \n",
       "2                         NaN           NaN                          0.0   \n",
       "3                         NaN           NaN                          0.0   \n",
       "4                         NaN           NaN                          0.0   \n",
       "\n",
       "   defensive_two_point_conv  defensive_extra_point_attempt  \\\n",
       "0                       0.0                            0.0   \n",
       "1                       0.0                            0.0   \n",
       "2                       0.0                            0.0   \n",
       "3                       0.0                            0.0   \n",
       "4                       0.0                            0.0   \n",
       "\n",
       "   defensive_extra_point_conv  \n",
       "0                         0.0  \n",
       "1                         0.0  \n",
       "2                         0.0  \n",
       "3                         0.0  \n",
       "4                         0.0  \n",
       "\n",
       "[5 rows x 255 columns]"
      ]
     },
     "execution_count": 4,
     "metadata": {},
     "output_type": "execute_result"
    }
   ],
   "source": [
    "nfl_df.head()"
   ]
  },
  {
   "cell_type": "code",
   "execution_count": 5,
   "metadata": {},
   "outputs": [
    {
     "name": "stdout",
     "output_type": "stream",
     "text": [
      "<class 'pandas.core.frame.DataFrame'>\n",
      "RangeIndex: 449371 entries, 0 to 449370\n",
      "Columns: 255 entries, play_id to defensive_extra_point_conv\n",
      "dtypes: float64(135), int64(18), object(102)\n",
      "memory usage: 874.2+ MB\n"
     ]
    }
   ],
   "source": [
    "nfl_df.info()"
   ]
  },
  {
   "cell_type": "code",
   "execution_count": 6,
   "metadata": {},
   "outputs": [
    {
     "data": {
      "text/plain": [
       "['play_id',\n",
       " 'game_id',\n",
       " 'home_team',\n",
       " 'away_team',\n",
       " 'posteam',\n",
       " 'posteam_type',\n",
       " 'defteam',\n",
       " 'side_of_field',\n",
       " 'yardline_100',\n",
       " 'game_date',\n",
       " 'quarter_seconds_remaining',\n",
       " 'half_seconds_remaining',\n",
       " 'game_seconds_remaining',\n",
       " 'game_half',\n",
       " 'quarter_end',\n",
       " 'drive',\n",
       " 'sp',\n",
       " 'qtr',\n",
       " 'down',\n",
       " 'goal_to_go',\n",
       " 'time',\n",
       " 'yrdln',\n",
       " 'ydstogo',\n",
       " 'ydsnet',\n",
       " 'desc',\n",
       " 'play_type',\n",
       " 'yards_gained',\n",
       " 'shotgun',\n",
       " 'no_huddle',\n",
       " 'qb_dropback',\n",
       " 'qb_kneel',\n",
       " 'qb_spike',\n",
       " 'qb_scramble',\n",
       " 'pass_length',\n",
       " 'pass_location',\n",
       " 'air_yards',\n",
       " 'yards_after_catch',\n",
       " 'run_location',\n",
       " 'run_gap',\n",
       " 'field_goal_result',\n",
       " 'kick_distance',\n",
       " 'extra_point_result',\n",
       " 'two_point_conv_result',\n",
       " 'home_timeouts_remaining',\n",
       " 'away_timeouts_remaining',\n",
       " 'timeout',\n",
       " 'timeout_team',\n",
       " 'td_team',\n",
       " 'posteam_timeouts_remaining',\n",
       " 'defteam_timeouts_remaining',\n",
       " 'total_home_score',\n",
       " 'total_away_score',\n",
       " 'posteam_score',\n",
       " 'defteam_score',\n",
       " 'score_differential',\n",
       " 'posteam_score_post',\n",
       " 'defteam_score_post',\n",
       " 'score_differential_post',\n",
       " 'no_score_prob',\n",
       " 'opp_fg_prob',\n",
       " 'opp_safety_prob',\n",
       " 'opp_td_prob',\n",
       " 'fg_prob',\n",
       " 'safety_prob',\n",
       " 'td_prob',\n",
       " 'extra_point_prob',\n",
       " 'two_point_conversion_prob',\n",
       " 'ep',\n",
       " 'epa',\n",
       " 'total_home_epa',\n",
       " 'total_away_epa',\n",
       " 'total_home_rush_epa',\n",
       " 'total_away_rush_epa',\n",
       " 'total_home_pass_epa',\n",
       " 'total_away_pass_epa',\n",
       " 'air_epa',\n",
       " 'yac_epa',\n",
       " 'comp_air_epa',\n",
       " 'comp_yac_epa',\n",
       " 'total_home_comp_air_epa',\n",
       " 'total_away_comp_air_epa',\n",
       " 'total_home_comp_yac_epa',\n",
       " 'total_away_comp_yac_epa',\n",
       " 'total_home_raw_air_epa',\n",
       " 'total_away_raw_air_epa',\n",
       " 'total_home_raw_yac_epa',\n",
       " 'total_away_raw_yac_epa',\n",
       " 'wp',\n",
       " 'def_wp',\n",
       " 'home_wp',\n",
       " 'away_wp',\n",
       " 'wpa',\n",
       " 'home_wp_post',\n",
       " 'away_wp_post',\n",
       " 'total_home_rush_wpa',\n",
       " 'total_away_rush_wpa',\n",
       " 'total_home_pass_wpa',\n",
       " 'total_away_pass_wpa',\n",
       " 'air_wpa',\n",
       " 'yac_wpa',\n",
       " 'comp_air_wpa',\n",
       " 'comp_yac_wpa',\n",
       " 'total_home_comp_air_wpa',\n",
       " 'total_away_comp_air_wpa',\n",
       " 'total_home_comp_yac_wpa',\n",
       " 'total_away_comp_yac_wpa',\n",
       " 'total_home_raw_air_wpa',\n",
       " 'total_away_raw_air_wpa',\n",
       " 'total_home_raw_yac_wpa',\n",
       " 'total_away_raw_yac_wpa',\n",
       " 'punt_blocked',\n",
       " 'first_down_rush',\n",
       " 'first_down_pass',\n",
       " 'first_down_penalty',\n",
       " 'third_down_converted',\n",
       " 'third_down_failed',\n",
       " 'fourth_down_converted',\n",
       " 'fourth_down_failed',\n",
       " 'incomplete_pass',\n",
       " 'interception',\n",
       " 'punt_inside_twenty',\n",
       " 'punt_in_endzone',\n",
       " 'punt_out_of_bounds',\n",
       " 'punt_downed',\n",
       " 'punt_fair_catch',\n",
       " 'kickoff_inside_twenty',\n",
       " 'kickoff_in_endzone',\n",
       " 'kickoff_out_of_bounds',\n",
       " 'kickoff_downed',\n",
       " 'kickoff_fair_catch',\n",
       " 'fumble_forced',\n",
       " 'fumble_not_forced',\n",
       " 'fumble_out_of_bounds',\n",
       " 'solo_tackle',\n",
       " 'safety',\n",
       " 'penalty',\n",
       " 'tackled_for_loss',\n",
       " 'fumble_lost',\n",
       " 'own_kickoff_recovery',\n",
       " 'own_kickoff_recovery_td',\n",
       " 'qb_hit',\n",
       " 'rush_attempt',\n",
       " 'pass_attempt',\n",
       " 'sack',\n",
       " 'touchdown',\n",
       " 'pass_touchdown',\n",
       " 'rush_touchdown',\n",
       " 'return_touchdown',\n",
       " 'extra_point_attempt',\n",
       " 'two_point_attempt',\n",
       " 'field_goal_attempt',\n",
       " 'kickoff_attempt',\n",
       " 'punt_attempt',\n",
       " 'fumble',\n",
       " 'complete_pass',\n",
       " 'assist_tackle',\n",
       " 'lateral_reception',\n",
       " 'lateral_rush',\n",
       " 'lateral_return',\n",
       " 'lateral_recovery',\n",
       " 'passer_player_id',\n",
       " 'passer_player_name',\n",
       " 'receiver_player_id',\n",
       " 'receiver_player_name',\n",
       " 'rusher_player_id',\n",
       " 'rusher_player_name',\n",
       " 'lateral_receiver_player_id',\n",
       " 'lateral_receiver_player_name',\n",
       " 'lateral_rusher_player_id',\n",
       " 'lateral_rusher_player_name',\n",
       " 'lateral_sack_player_id',\n",
       " 'lateral_sack_player_name',\n",
       " 'interception_player_id',\n",
       " 'interception_player_name',\n",
       " 'lateral_interception_player_id',\n",
       " 'lateral_interception_player_name',\n",
       " 'punt_returner_player_id',\n",
       " 'punt_returner_player_name',\n",
       " 'lateral_punt_returner_player_id',\n",
       " 'lateral_punt_returner_player_name',\n",
       " 'kickoff_returner_player_name',\n",
       " 'kickoff_returner_player_id',\n",
       " 'lateral_kickoff_returner_player_id',\n",
       " 'lateral_kickoff_returner_player_name',\n",
       " 'punter_player_id',\n",
       " 'punter_player_name',\n",
       " 'kicker_player_name',\n",
       " 'kicker_player_id',\n",
       " 'own_kickoff_recovery_player_id',\n",
       " 'own_kickoff_recovery_player_name',\n",
       " 'blocked_player_id',\n",
       " 'blocked_player_name',\n",
       " 'tackle_for_loss_1_player_id',\n",
       " 'tackle_for_loss_1_player_name',\n",
       " 'tackle_for_loss_2_player_id',\n",
       " 'tackle_for_loss_2_player_name',\n",
       " 'qb_hit_1_player_id',\n",
       " 'qb_hit_1_player_name',\n",
       " 'qb_hit_2_player_id',\n",
       " 'qb_hit_2_player_name',\n",
       " 'forced_fumble_player_1_team',\n",
       " 'forced_fumble_player_1_player_id',\n",
       " 'forced_fumble_player_1_player_name',\n",
       " 'forced_fumble_player_2_team',\n",
       " 'forced_fumble_player_2_player_id',\n",
       " 'forced_fumble_player_2_player_name',\n",
       " 'solo_tackle_1_team',\n",
       " 'solo_tackle_2_team',\n",
       " 'solo_tackle_1_player_id',\n",
       " 'solo_tackle_2_player_id',\n",
       " 'solo_tackle_1_player_name',\n",
       " 'solo_tackle_2_player_name',\n",
       " 'assist_tackle_1_player_id',\n",
       " 'assist_tackle_1_player_name',\n",
       " 'assist_tackle_1_team',\n",
       " 'assist_tackle_2_player_id',\n",
       " 'assist_tackle_2_player_name',\n",
       " 'assist_tackle_2_team',\n",
       " 'assist_tackle_3_player_id',\n",
       " 'assist_tackle_3_player_name',\n",
       " 'assist_tackle_3_team',\n",
       " 'assist_tackle_4_player_id',\n",
       " 'assist_tackle_4_player_name',\n",
       " 'assist_tackle_4_team',\n",
       " 'pass_defense_1_player_id',\n",
       " 'pass_defense_1_player_name',\n",
       " 'pass_defense_2_player_id',\n",
       " 'pass_defense_2_player_name',\n",
       " 'fumbled_1_team',\n",
       " 'fumbled_1_player_id',\n",
       " 'fumbled_1_player_name',\n",
       " 'fumbled_2_player_id',\n",
       " 'fumbled_2_player_name',\n",
       " 'fumbled_2_team',\n",
       " 'fumble_recovery_1_team',\n",
       " 'fumble_recovery_1_yards',\n",
       " 'fumble_recovery_1_player_id',\n",
       " 'fumble_recovery_1_player_name',\n",
       " 'fumble_recovery_2_team',\n",
       " 'fumble_recovery_2_yards',\n",
       " 'fumble_recovery_2_player_id',\n",
       " 'fumble_recovery_2_player_name',\n",
       " 'return_team',\n",
       " 'return_yards',\n",
       " 'penalty_team',\n",
       " 'penalty_player_id',\n",
       " 'penalty_player_name',\n",
       " 'penalty_yards',\n",
       " 'replay_or_challenge',\n",
       " 'replay_or_challenge_result',\n",
       " 'penalty_type',\n",
       " 'defensive_two_point_attempt',\n",
       " 'defensive_two_point_conv',\n",
       " 'defensive_extra_point_attempt',\n",
       " 'defensive_extra_point_conv']"
      ]
     },
     "execution_count": 6,
     "metadata": {},
     "output_type": "execute_result"
    }
   ],
   "source": [
    "list(nfl_df.columns)"
   ]
  },
  {
   "cell_type": "code",
   "execution_count": 7,
   "metadata": {},
   "outputs": [],
   "source": [
    "smaller_df = nfl_df[['play_id', 'game_id', 'home_team', 'away_team', 'posteam', 'posteam_type', \\\n",
    "                     'defteam', 'side_of_field', 'yardline_100', 'game_date', 'quarter_seconds_remaining', \\\n",
    "                     'half_seconds_remaining', 'game_seconds_remaining', 'game_half', 'drive', 'qtr', \\\n",
    "                     'down', 'ydstogo', 'play_type', 'home_timeouts_remaining', \\\n",
    "                     'away_timeouts_remaining', 'posteam_timeouts_remaining', 'defteam_timeouts_remaining', \\\n",
    "                     'total_away_score', 'posteam_score', 'defteam_score', 'score_differential']]"
   ]
  },
  {
   "cell_type": "code",
   "execution_count": 8,
   "metadata": {},
   "outputs": [
    {
     "name": "stderr",
     "output_type": "stream",
     "text": [
      "<ipython-input-8-bf97b84152b3>:1: SettingWithCopyWarning: \n",
      "A value is trying to be set on a copy of a slice from a DataFrame.\n",
      "Try using .loc[row_indexer,col_indexer] = value instead\n",
      "\n",
      "See the caveats in the documentation: https://pandas.pydata.org/pandas-docs/stable/user_guide/indexing.html#returning-a-view-versus-a-copy\n",
      "  smaller_df['game_year'] = smaller_df['game_date'].str[:4]\n"
     ]
    }
   ],
   "source": [
    "smaller_df['game_year'] = smaller_df['game_date'].str[:4]"
   ]
  },
  {
   "cell_type": "code",
   "execution_count": 9,
   "metadata": {
    "scrolled": true
   },
   "outputs": [
    {
     "name": "stdout",
     "output_type": "stream",
     "text": [
      "<class 'pandas.core.frame.DataFrame'>\n",
      "RangeIndex: 449371 entries, 0 to 449370\n",
      "Data columns (total 28 columns):\n",
      " #   Column                      Non-Null Count   Dtype  \n",
      "---  ------                      --------------   -----  \n",
      " 0   play_id                     449371 non-null  int64  \n",
      " 1   game_id                     449371 non-null  int64  \n",
      " 2   home_team                   449371 non-null  object \n",
      " 3   away_team                   449371 non-null  object \n",
      " 4   posteam                     436129 non-null  object \n",
      " 5   posteam_type                436492 non-null  object \n",
      " 6   defteam                     436492 non-null  object \n",
      " 7   side_of_field               448771 non-null  object \n",
      " 8   yardline_100                436301 non-null  float64\n",
      " 9   game_date                   449371 non-null  object \n",
      " 10  quarter_seconds_remaining   449230 non-null  float64\n",
      " 11  half_seconds_remaining      449206 non-null  float64\n",
      " 12  game_seconds_remaining      449208 non-null  float64\n",
      " 13  game_half                   449371 non-null  object \n",
      " 14  drive                       449371 non-null  int64  \n",
      " 15  qtr                         449371 non-null  int64  \n",
      " 16  down                        381409 non-null  float64\n",
      " 17  ydstogo                     449371 non-null  int64  \n",
      " 18  play_type                   436497 non-null  object \n",
      " 19  home_timeouts_remaining     449371 non-null  int64  \n",
      " 20  away_timeouts_remaining     449371 non-null  int64  \n",
      " 21  posteam_timeouts_remaining  436492 non-null  float64\n",
      " 22  defteam_timeouts_remaining  436492 non-null  float64\n",
      " 23  total_away_score            449371 non-null  int64  \n",
      " 24  posteam_score               433952 non-null  float64\n",
      " 25  defteam_score               433952 non-null  float64\n",
      " 26  score_differential          433952 non-null  float64\n",
      " 27  game_year                   449371 non-null  object \n",
      "dtypes: float64(10), int64(8), object(10)\n",
      "memory usage: 96.0+ MB\n"
     ]
    }
   ],
   "source": [
    "smaller_df.info()"
   ]
  },
  {
   "cell_type": "code",
   "execution_count": 10,
   "metadata": {},
   "outputs": [
    {
     "name": "stdout",
     "output_type": "stream",
     "text": [
      "The dataset contains details from 2526 games.\n"
     ]
    }
   ],
   "source": [
    "num_games = len(set(smaller_df['game_id']))\n",
    "print(\"The dataset contains details from \" + str(num_games) + \" games.\")"
   ]
  },
  {
   "cell_type": "code",
   "execution_count": 11,
   "metadata": {
    "scrolled": true
   },
   "outputs": [
    {
     "name": "stdout",
     "output_type": "stream",
     "text": [
      "The dataset contains details from 449371 plays.\n",
      "The dataset contains details from 10 seasons.\n"
     ]
    }
   ],
   "source": [
    "num_seasons = len(smaller_df.groupby('game_year').count()['play_id'])\n",
    "num_plays = sum(smaller_df.groupby('game_year').count()['play_id'])\n",
    "print(\"The dataset contains details from \" + str(num_plays) + \" plays.\")\n",
    "print(\"The dataset contains details from \" + str(num_seasons) + \" seasons.\")"
   ]
  },
  {
   "cell_type": "code",
   "execution_count": 12,
   "metadata": {
    "scrolled": true
   },
   "outputs": [
    {
     "data": {
      "text/plain": [
       "<AxesSubplot:xlabel='game_year'>"
      ]
     },
     "execution_count": 12,
     "metadata": {},
     "output_type": "execute_result"
    },
    {
     "data": {
      "image/png": "[encoded data removed]",
      "text/plain": [
       "<Figure size 432x288 with 1 Axes>"
      ]
     },
     "metadata": {
      "needs_background": "light"
     },
     "output_type": "display_data"
    }
   ],
   "source": [
    "#Plotting the total number of plays per season\n",
    "smaller_df.groupby('game_year').count()['play_id'].plot.bar()"
   ]
  },
  {
   "cell_type": "code",
   "execution_count": 13,
   "metadata": {},
   "outputs": [
    {
     "data": {
      "text/plain": [
       "play_type\n",
       "extra_point     10934\n",
       "field_goal       9777\n",
       "kickoff         25552\n",
       "no_play         42431\n",
       "pass           186677\n",
       "punt            23914\n",
       "qb_kneel         3830\n",
       "qb_spike          690\n",
       "run            132692\n",
       "Name: play_id, dtype: int64"
      ]
     },
     "execution_count": 13,
     "metadata": {},
     "output_type": "execute_result"
    }
   ],
   "source": [
    "smaller_df.groupby('play_type').count()['play_id']"
   ]
  },
  {
   "cell_type": "code",
   "execution_count": 14,
   "metadata": {},
   "outputs": [
    {
     "data": {
      "text/plain": [
       "<AxesSubplot:xlabel='play_type'>"
      ]
     },
     "execution_count": 14,
     "metadata": {},
     "output_type": "execute_result"
    },
    {
     "data": {
      "image/png": "[encoded data removed]",
      "text/plain": [
       "<Figure size 432x288 with 1 Axes>"
      ]
     },
     "metadata": {
      "needs_background": "light"
     },
     "output_type": "display_data"
    }
   ],
   "source": [
    "#Plotting the different types of plays\n",
    "smaller_df.groupby('play_type').count()['play_id'].plot.bar()"
   ]
  },
  {
   "cell_type": "code",
   "execution_count": 15,
   "metadata": {},
   "outputs": [],
   "source": [
    "#Creating a dataframe with only run or pass plays\n",
    "run_pass = smaller_df[(smaller_df['play_type'] == 'run') | (smaller_df['play_type'] == 'pass')]"
   ]
  },
  {
   "cell_type": "code",
   "execution_count": 16,
   "metadata": {},
   "outputs": [
    {
     "data": {
      "text/plain": [
       "<AxesSubplot:xlabel='qtr'>"
      ]
     },
     "execution_count": 16,
     "metadata": {},
     "output_type": "execute_result"
    },
    {
     "data": {
      "image/png": "[encoded data removed]",
      "text/plain": [
       "<Figure size 432x288 with 1 Axes>"
      ]
     },
     "metadata": {
      "needs_background": "light"
     },
     "output_type": "display_data"
    }
   ],
   "source": [
    "#Playcall by quarter\n",
    "run_pass.groupby(['qtr', 'play_type',]).count()['play_id'].unstack().plot.bar()"
   ]
  },
  {
   "cell_type": "code",
   "execution_count": 17,
   "metadata": {
    "scrolled": false
   },
   "outputs": [
    {
     "data": {
      "text/plain": [
       "<AxesSubplot:xlabel='down'>"
      ]
     },
     "execution_count": 17,
     "metadata": {},
     "output_type": "execute_result"
    },
    {
     "data": {
      "image/png": "[encoded data removed]",
      "text/plain": [
       "<Figure size 432x288 with 1 Axes>"
      ]
     },
     "metadata": {
      "needs_background": "light"
     },
     "output_type": "display_data"
    }
   ],
   "source": [
    "#Playcall by down\n",
    "run_pass.groupby(['down', 'play_type',]).count()['play_id'].unstack().plot.bar()"
   ]
  },
  {
   "cell_type": "code",
   "execution_count": 18,
   "metadata": {},
   "outputs": [
    {
     "name": "stderr",
     "output_type": "stream",
     "text": [
      "<ipython-input-18-be6e236cf119>:2: SettingWithCopyWarning: \n",
      "A value is trying to be set on a copy of a slice from a DataFrame.\n",
      "Try using .loc[row_indexer,col_indexer] = value instead\n",
      "\n",
      "See the caveats in the documentation: https://pandas.pydata.org/pandas-docs/stable/user_guide/indexing.html#returning-a-view-versus-a-copy\n",
      "  run_pass['lead'] = np.where(run_pass['score_differential']==0, 'tied', 0)\n",
      "<ipython-input-18-be6e236cf119>:3: SettingWithCopyWarning: \n",
      "A value is trying to be set on a copy of a slice from a DataFrame.\n",
      "Try using .loc[row_indexer,col_indexer] = value instead\n",
      "\n",
      "See the caveats in the documentation: https://pandas.pydata.org/pandas-docs/stable/user_guide/indexing.html#returning-a-view-versus-a-copy\n",
      "  run_pass['lead'] = np.where(run_pass['score_differential']>0, 'ahead', run_pass['lead'])\n",
      "<ipython-input-18-be6e236cf119>:4: SettingWithCopyWarning: \n",
      "A value is trying to be set on a copy of a slice from a DataFrame.\n",
      "Try using .loc[row_indexer,col_indexer] = value instead\n",
      "\n",
      "See the caveats in the documentation: https://pandas.pydata.org/pandas-docs/stable/user_guide/indexing.html#returning-a-view-versus-a-copy\n",
      "  run_pass['lead'] = np.where(run_pass['score_differential']<0, 'behind', run_pass['lead'])\n"
     ]
    }
   ],
   "source": [
    "#Adding column for if the team with the ball is ahead, behind, or tied\n",
    "run_pass['lead'] = np.where(run_pass['score_differential']==0, 'tied', 0)\n",
    "run_pass['lead'] = np.where(run_pass['score_differential']>0, 'ahead', run_pass['lead'])\n",
    "run_pass['lead'] = np.where(run_pass['score_differential']<0, 'behind', run_pass['lead'])"
   ]
  },
  {
   "cell_type": "code",
   "execution_count": 19,
   "metadata": {},
   "outputs": [
    {
     "data": {
      "text/plain": [
       "lead\n",
       "ahead     110306\n",
       "behind    149610\n",
       "tied       59453\n",
       "Name: play_id, dtype: int64"
      ]
     },
     "execution_count": 19,
     "metadata": {},
     "output_type": "execute_result"
    }
   ],
   "source": [
    "#Checking to make sure values updated\n",
    "run_pass.groupby('lead').count()['play_id']"
   ]
  },
  {
   "cell_type": "code",
   "execution_count": 20,
   "metadata": {},
   "outputs": [
    {
     "data": {
      "text/plain": [
       "<AxesSubplot:xlabel='lead'>"
      ]
     },
     "execution_count": 20,
     "metadata": {},
     "output_type": "execute_result"
    },
    {
     "data": {
      "image/png": "[encoded data removed]",
      "text/plain": [
       "<Figure size 432x288 with 1 Axes>"
      ]
     },
     "metadata": {
      "needs_background": "light"
     },
     "output_type": "display_data"
    }
   ],
   "source": [
    "#Playcall by who is leading\n",
    "run_pass.groupby(['lead', 'play_type',]).count()['play_id'].unstack().plot.bar()"
   ]
  },
  {
   "cell_type": "markdown",
   "metadata": {},
   "source": [
    "### Data cleaning"
   ]
  },
  {
   "cell_type": "code",
   "execution_count": 21,
   "metadata": {},
   "outputs": [
    {
     "name": "stdout",
     "output_type": "stream",
     "text": [
      "<class 'pandas.core.frame.DataFrame'>\n",
      "Int64Index: 319369 entries, 1 to 449368\n",
      "Data columns (total 29 columns):\n",
      " #   Column                      Non-Null Count   Dtype  \n",
      "---  ------                      --------------   -----  \n",
      " 0   play_id                     319369 non-null  int64  \n",
      " 1   game_id                     319369 non-null  int64  \n",
      " 2   home_team                   319369 non-null  object \n",
      " 3   away_team                   319369 non-null  object \n",
      " 4   posteam                     319369 non-null  object \n",
      " 5   posteam_type                319369 non-null  object \n",
      " 6   defteam                     319369 non-null  object \n",
      " 7   side_of_field               319369 non-null  object \n",
      " 8   yardline_100                319369 non-null  float64\n",
      " 9   game_date                   319369 non-null  object \n",
      " 10  quarter_seconds_remaining   319369 non-null  float64\n",
      " 11  half_seconds_remaining      319352 non-null  float64\n",
      " 12  game_seconds_remaining      319355 non-null  float64\n",
      " 13  game_half                   319369 non-null  object \n",
      " 14  drive                       319369 non-null  int64  \n",
      " 15  qtr                         319369 non-null  int64  \n",
      " 16  down                        318691 non-null  float64\n",
      " 17  ydstogo                     319369 non-null  int64  \n",
      " 18  play_type                   319369 non-null  object \n",
      " 19  home_timeouts_remaining     319369 non-null  int64  \n",
      " 20  away_timeouts_remaining     319369 non-null  int64  \n",
      " 21  posteam_timeouts_remaining  319369 non-null  float64\n",
      " 22  defteam_timeouts_remaining  319369 non-null  float64\n",
      " 23  total_away_score            319369 non-null  int64  \n",
      " 24  posteam_score               319369 non-null  float64\n",
      " 25  defteam_score               319369 non-null  float64\n",
      " 26  score_differential          319369 non-null  float64\n",
      " 27  game_year                   319369 non-null  object \n",
      " 28  lead                        319369 non-null  object \n",
      "dtypes: float64(10), int64(8), object(11)\n",
      "memory usage: 73.1+ MB\n"
     ]
    }
   ],
   "source": [
    "run_pass.info()"
   ]
  },
  {
   "cell_type": "markdown",
   "metadata": {},
   "source": [
    "Since there are only a few missing values (half_seconds_remaining, game_seconds_remaining, down), it is okay to drop these values without affecting our analysis."
   ]
  },
  {
   "cell_type": "code",
   "execution_count": 22,
   "metadata": {},
   "outputs": [
    {
     "name": "stderr",
     "output_type": "stream",
     "text": [
      "<ipython-input-22-e05c900ed3d3>:1: SettingWithCopyWarning: \n",
      "A value is trying to be set on a copy of a slice from a DataFrame\n",
      "\n",
      "See the caveats in the documentation: https://pandas.pydata.org/pandas-docs/stable/user_guide/indexing.html#returning-a-view-versus-a-copy\n",
      "  run_pass.dropna(inplace = True)\n"
     ]
    }
   ],
   "source": [
    "run_pass.dropna(inplace = True)"
   ]
  },
  {
   "cell_type": "code",
   "execution_count": 23,
   "metadata": {},
   "outputs": [
    {
     "name": "stdout",
     "output_type": "stream",
     "text": [
      "<class 'pandas.core.frame.DataFrame'>\n",
      "Int64Index: 318668 entries, 1 to 449368\n",
      "Data columns (total 29 columns):\n",
      " #   Column                      Non-Null Count   Dtype  \n",
      "---  ------                      --------------   -----  \n",
      " 0   play_id                     318668 non-null  int64  \n",
      " 1   game_id                     318668 non-null  int64  \n",
      " 2   home_team                   318668 non-null  object \n",
      " 3   away_team                   318668 non-null  object \n",
      " 4   posteam                     318668 non-null  object \n",
      " 5   posteam_type                318668 non-null  object \n",
      " 6   defteam                     318668 non-null  object \n",
      " 7   side_of_field               318668 non-null  object \n",
      " 8   yardline_100                318668 non-null  float64\n",
      " 9   game_date                   318668 non-null  object \n",
      " 10  quarter_seconds_remaining   318668 non-null  float64\n",
      " 11  half_seconds_remaining      318668 non-null  float64\n",
      " 12  game_seconds_remaining      318668 non-null  float64\n",
      " 13  game_half                   318668 non-null  object \n",
      " 14  drive                       318668 non-null  int64  \n",
      " 15  qtr                         318668 non-null  int64  \n",
      " 16  down                        318668 non-null  float64\n",
      " 17  ydstogo                     318668 non-null  int64  \n",
      " 18  play_type                   318668 non-null  object \n",
      " 19  home_timeouts_remaining     318668 non-null  int64  \n",
      " 20  away_timeouts_remaining     318668 non-null  int64  \n",
      " 21  posteam_timeouts_remaining  318668 non-null  float64\n",
      " 22  defteam_timeouts_remaining  318668 non-null  float64\n",
      " 23  total_away_score            318668 non-null  int64  \n",
      " 24  posteam_score               318668 non-null  float64\n",
      " 25  defteam_score               318668 non-null  float64\n",
      " 26  score_differential          318668 non-null  float64\n",
      " 27  game_year                   318668 non-null  object \n",
      " 28  lead                        318668 non-null  object \n",
      "dtypes: float64(10), int64(8), object(11)\n",
      "memory usage: 72.9+ MB\n"
     ]
    }
   ],
   "source": [
    "run_pass.info()"
   ]
  },
  {
   "cell_type": "markdown",
   "metadata": {},
   "source": [
    "### Preparing data for first simple models"
   ]
  },
  {
   "cell_type": "code",
   "execution_count": 25,
   "metadata": {},
   "outputs": [
    {
     "name": "stderr",
     "output_type": "stream",
     "text": [
      "<ipython-input-25-1a17f77d415f>:2: SettingWithCopyWarning: \n",
      "A value is trying to be set on a copy of a slice from a DataFrame.\n",
      "Try using .loc[row_indexer,col_indexer] = value instead\n",
      "\n",
      "See the caveats in the documentation: https://pandas.pydata.org/pandas-docs/stable/user_guide/indexing.html#returning-a-view-versus-a-copy\n",
      "  run_pass['pass'] = np.where(run_pass['play_type']=='pass', 1, 0)\n"
     ]
    }
   ],
   "source": [
    "#defining run play as 0 and pass play as 1\n",
    "run_pass['pass'] = np.where(run_pass['play_type']=='pass', 1, 0)"
   ]
  },
  {
   "cell_type": "code",
   "execution_count": 26,
   "metadata": {},
   "outputs": [],
   "source": [
    "#picking features for simple model\n",
    "numeric_features = ['yardline_100', 'quarter_seconds_remaining', 'half_seconds_remaining', \\\n",
    "                    'game_seconds_remaining', 'drive', 'qtr', 'down', 'ydstogo', \\\n",
    "                    'posteam_timeouts_remaining', 'posteam_score', 'defteam_score', 'score_differential']"
   ]
  },
  {
   "cell_type": "code",
   "execution_count": 27,
   "metadata": {},
   "outputs": [],
   "source": [
    "X = run_pass[numeric_features]"
   ]
  },
  {
   "cell_type": "code",
   "execution_count": 28,
   "metadata": {},
   "outputs": [],
   "source": [
    "y = run_pass['pass']"
   ]
  },
  {
   "cell_type": "code",
   "execution_count": 29,
   "metadata": {},
   "outputs": [],
   "source": [
    "#train/test split\n",
    "X_train, X_test, y_train, y_test = train_test_split(X, y, random_state=2021)"
   ]
  },
  {
   "cell_type": "markdown",
   "metadata": {},
   "source": [
    "### Building dummy model"
   ]
  },
  {
   "cell_type": "code",
   "execution_count": 30,
   "metadata": {},
   "outputs": [],
   "source": [
    "#dummy model\n",
    "dummy_model = DummyClassifier(strategy=\"most_frequent\")"
   ]
  },
  {
   "cell_type": "code",
   "execution_count": 31,
   "metadata": {},
   "outputs": [
    {
     "data": {
      "text/plain": [
       "DummyClassifier(strategy='most_frequent')"
      ]
     },
     "execution_count": 31,
     "metadata": {},
     "output_type": "execute_result"
    }
   ],
   "source": [
    "dummy_model.fit(X_train, y_train)"
   ]
  },
  {
   "cell_type": "code",
   "execution_count": 32,
   "metadata": {},
   "outputs": [
    {
     "data": {
      "image/png": "[encoded data removed]",
      "text/plain": [
       "<Figure size 432x288 with 2 Axes>"
      ]
     },
     "metadata": {
      "needs_background": "light"
     },
     "output_type": "display_data"
    }
   ],
   "source": [
    "#confusion matrix for test data\n",
    "fig, ax = plt.subplots()\n",
    "\n",
    "fig.suptitle(\"Dummy Model\")\n",
    "\n",
    "plot_confusion_matrix(dummy_model, X_test, y_test, ax=ax, cmap=\"plasma\");"
   ]
  },
  {
   "cell_type": "code",
   "execution_count": 33,
   "metadata": {},
   "outputs": [
    {
     "data": {
      "text/plain": [
       "0.5851230747988502"
      ]
     },
     "execution_count": 33,
     "metadata": {},
     "output_type": "execute_result"
    }
   ],
   "source": [
    "#accuracy\n",
    "from sklearn.metrics import accuracy_score\n",
    "accuracy_score(y_test, dummy_model.predict(X_test))"
   ]
  },
  {
   "cell_type": "code",
   "execution_count": 35,
   "metadata": {},
   "outputs": [
    {
     "data": {
      "text/plain": [
       "0.5851230747988502"
      ]
     },
     "execution_count": 35,
     "metadata": {},
     "output_type": "execute_result"
    }
   ],
   "source": [
    "#precision\n",
    "from sklearn.metrics import precision_score\n",
    "precision_score(y_test, dummy_model.predict(X_test))"
   ]
  },
  {
   "cell_type": "code",
   "execution_count": 36,
   "metadata": {},
   "outputs": [
    {
     "data": {
      "text/plain": [
       "1.0"
      ]
     },
     "execution_count": 36,
     "metadata": {},
     "output_type": "execute_result"
    }
   ],
   "source": [
    "#recall\n",
    "from sklearn.metrics import recall_score\n",
    "recall_score(y_test, dummy_model.predict(X_test))"
   ]
  },
  {
   "cell_type": "code",
   "execution_count": 46,
   "metadata": {},
   "outputs": [
    {
     "data": {
      "text/plain": [
       "0.7382683201089625"
      ]
     },
     "execution_count": 46,
     "metadata": {},
     "output_type": "execute_result"
    }
   ],
   "source": [
    "#f1\n",
    "from sklearn.metrics import f1_score\n",
    "f1_score(y_test, dummy_model.predict(X_test))"
   ]
  },
  {
   "cell_type": "markdown",
   "metadata": {},
   "source": [
    "### Building a simple logistic regression model"
   ]
  },
  {
   "cell_type": "code",
   "execution_count": 39,
   "metadata": {},
   "outputs": [],
   "source": [
    "simple_logreg_model = LogisticRegression(random_state=2021, penalty='none', max_iter = 500)"
   ]
  },
  {
   "cell_type": "code",
   "execution_count": 40,
   "metadata": {
    "scrolled": true
   },
   "outputs": [
    {
     "name": "stderr",
     "output_type": "stream",
     "text": [
      "/Users/jameshodgens/opt/anaconda3/envs/learn-env/lib/python3.8/site-packages/sklearn/linear_model/_logistic.py:762: ConvergenceWarning: lbfgs failed to converge (status=1):\n",
      "STOP: TOTAL NO. of ITERATIONS REACHED LIMIT.\n",
      "\n",
      "Increase the number of iterations (max_iter) or scale the data as shown in:\n",
      "    https://scikit-learn.org/stable/modules/preprocessing.html\n",
      "Please also refer to the documentation for alternative solver options:\n",
      "    https://scikit-learn.org/stable/modules/linear_model.html#logistic-regression\n",
      "  n_iter_i = _check_optimize_result(\n"
     ]
    },
    {
     "data": {
      "text/plain": [
       "LogisticRegression(max_iter=500, penalty='none', random_state=2021)"
      ]
     },
     "execution_count": 40,
     "metadata": {},
     "output_type": "execute_result"
    }
   ],
   "source": [
    "simple_logreg_model.fit(X_train, y_train)"
   ]
  },
  {
   "cell_type": "code",
   "execution_count": 41,
   "metadata": {},
   "outputs": [
    {
     "data": {
      "image/png": "[encoded data removed]",
      "text/plain": [
       "<Figure size 432x288 with 2 Axes>"
      ]
     },
     "metadata": {
      "needs_background": "light"
     },
     "output_type": "display_data"
    }
   ],
   "source": [
    "#confusion matrix for test data\n",
    "fig, ax = plt.subplots()\n",
    "\n",
    "fig.suptitle(\"Simple Logistic Regression Model\")\n",
    "\n",
    "plot_confusion_matrix(simple_logreg_model, X_test, y_test, ax=ax, cmap=\"plasma\");"
   ]
  },
  {
   "cell_type": "code",
   "execution_count": 42,
   "metadata": {},
   "outputs": [
    {
     "data": {
      "text/plain": [
       "0.6550893092497521"
      ]
     },
     "execution_count": 42,
     "metadata": {},
     "output_type": "execute_result"
    }
   ],
   "source": [
    "#accuracy\n",
    "from sklearn.metrics import accuracy_score\n",
    "accuracy_score(y_test, simple_logreg_model.predict(X_test))"
   ]
  },
  {
   "cell_type": "code",
   "execution_count": 43,
   "metadata": {},
   "outputs": [
    {
     "data": {
      "text/plain": [
       "0.681775869602386"
      ]
     },
     "execution_count": 43,
     "metadata": {},
     "output_type": "execute_result"
    }
   ],
   "source": [
    "#precision\n",
    "from sklearn.metrics import precision_score\n",
    "precision_score(y_test, simple_logreg_model.predict(X_test))"
   ]
  },
  {
   "cell_type": "code",
   "execution_count": 44,
   "metadata": {},
   "outputs": [
    {
     "data": {
      "text/plain": [
       "0.769880939611713"
      ]
     },
     "execution_count": 44,
     "metadata": {},
     "output_type": "execute_result"
    }
   ],
   "source": [
    "#recall\n",
    "from sklearn.metrics import recall_score\n",
    "recall_score(y_test, simple_logreg_model.predict(X_test))"
   ]
  },
  {
   "cell_type": "code",
   "execution_count": 47,
   "metadata": {},
   "outputs": [
    {
     "data": {
      "text/plain": [
       "0.7231547343180122"
      ]
     },
     "execution_count": 47,
     "metadata": {},
     "output_type": "execute_result"
    }
   ],
   "source": [
    "#f1\n",
    "from sklearn.metrics import f1_score\n",
    "f1_score(y_test, simple_logreg_model.predict(X_test))"
   ]
  },
  {
   "cell_type": "code",
   "execution_count": null,
   "metadata": {},
   "outputs": [],
   "source": []
  }
 ],
 "metadata": {
  "kernelspec": {
   "display_name": "Python 3",
   "language": "python",
   "name": "python3"
  },
  "language_info": {
   "codemirror_mode": {
    "name": "ipython",
    "version": 3
   },
   "file_extension": ".py",
   "mimetype": "text/x-python",
   "name": "python",
   "nbconvert_exporter": "python",
   "pygments_lexer": "ipython3",
   "version": "3.8.5"
  }
 },
 "nbformat": 4,
 "nbformat_minor": 4
}
